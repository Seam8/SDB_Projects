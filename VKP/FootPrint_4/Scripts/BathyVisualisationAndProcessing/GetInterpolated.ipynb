{
 "cells": [
  {
   "cell_type": "code",
   "execution_count": 1,
   "metadata": {},
   "outputs": [
    {
     "data": {
      "text/html": [
       "<script>requirejs.config({paths: { 'plotly': ['https://cdn.plot.ly/plotly-latest.min']},});if(!window.Plotly) {{require(['plotly'],function(plotly) {window.Plotly=plotly;});}}</script>"
      ],
      "text/vnd.plotly.v1+html": [
       "<script>requirejs.config({paths: { 'plotly': ['https://cdn.plot.ly/plotly-latest.min']},});if(!window.Plotly) {{require(['plotly'],function(plotly) {window.Plotly=plotly;});}}</script>"
      ]
     },
     "metadata": {},
     "output_type": "display_data"
    }
   ],
   "source": [
    "%matplotlib inline\n",
    "\n",
    "import sys\n",
    "import os\n",
    "sys.path.append(\"../../..\")\n",
    "\n",
    "import numpy as np\n",
    "import re\n",
    "import pandas as pd\n",
    "\n",
    "import matplotlib as mpl\n",
    "import matplotlib.pyplot as plt\n",
    "import matplotlib.image as mpimg\n",
    "from skimage import exposure, img_as_float, morphology, color\n",
    "from skimage.measure import label\n",
    "from sklearn.model_selection import KFold, LeavePOut\n",
    "from PIL import Image\n",
    "import xml.etree.ElementTree as ET\n",
    "\n",
    "from osgeo import gdal\n",
    "import osr\n",
    "import my_packages.My_Geoprocess as mgp\n",
    "\n",
    "from scipy.interpolate import griddata\n",
    "\n",
    "import plotly\n",
    "import plotly.graph_objs as go\n",
    "\n",
    "plotly.offline.init_notebook_mode(connected=True)"
   ]
  },
  {
   "cell_type": "code",
   "execution_count": 2,
   "metadata": {},
   "outputs": [],
   "source": [
    "BathyFolder = '../../Resultats/Bathymetries/S2A_MSIL1C_20170929T231851_N0205_R001_T58KDE_20170929T231932/'\n",
    "RasterName = 'Stumpf_NoClass_2ItersRidge_GlintProcess_Done_PixInterp_nearest_CoverPixRatio3%_CalibZone_Lagoon.tif'\n"
   ]
  },
  {
   "cell_type": "code",
   "execution_count": 3,
   "metadata": {
    "collapsed": true
   },
   "outputs": [],
   "source": [
    "Bathy = gdal.Open(BathyFolder+RasterName, gdal.GA_ReadOnly)\n",
    "BathyMap = Bathy.GetRasterBand(1).ReadAsArray()"
   ]
  },
  {
   "cell_type": "code",
   "execution_count": 4,
   "metadata": {
    "collapsed": true
   },
   "outputs": [],
   "source": [
    "ImagesFolder = '../../Images/Acolite/'+Bathy.GetMetadata()['ImageName']+'/'\n",
    "Lagoon = 'Mask/Lagoon.tif'\n",
    "\n",
    "ClassifIndex = gdal.Open(ImagesFolder + Lagoon, gdal.GA_ReadOnly)\n",
    "ClassifIndex = ClassifIndex.GetRasterBand(1).ReadAsArray().astype(bool)"
   ]
  },
  {
   "cell_type": "code",
   "execution_count": 5,
   "metadata": {},
   "outputs": [],
   "source": [
    "TofillIndex = np.logical_and(np.isnan(BathyMap), ClassifIndex)\n",
    "r,c = np.where(~np.isnan(BathyMap))\n",
    "Points = np.stack((r,c),axis=1)\n",
    "\n",
    "r_i,c_i = np.where(TofillIndex)\n",
    "Points_i = np.stack((r_i,c_i),axis=1)\n",
    "\n",
    "Values = np.asarray([BathyMap[i,j] for i,j in zip(r,c)])\n",
    "del r, c, r_i,c_i\n"
   ]
  },
  {
   "cell_type": "code",
   "execution_count": 6,
   "metadata": {},
   "outputs": [],
   "source": [
    "InterPoints = griddata(points=Points, xi=Points_i, values=Values,method='linear')"
   ]
  },
  {
   "cell_type": "code",
   "execution_count": 7,
   "metadata": {},
   "outputs": [],
   "source": [
    "InterBathy = np.full(BathyMap.shape, np.nan, BathyMap.dtype)\n",
    "InterBathy[TofillIndex] = InterPoints\n",
    "InterBathy[~TofillIndex] = BathyMap[~TofillIndex]\n",
    "Raster = np.stack((BathyMap, Bathy.GetRasterBand(2).ReadAsArray(), InterBathy), axis=2)\n",
    "del InterBathy, InterPoints, BathyMap"
   ]
  },
  {
   "cell_type": "code",
   "execution_count": 8,
   "metadata": {},
   "outputs": [],
   "source": [
    "Metadata = Bathy.GetMetadata()\n",
    "Metadata['Description'] = Metadata['Description'] + 'Band3: Bathymetry map with linearly interpolated value at missing location.'\n",
    "Bathy.SetMetadata(Metadata)\n",
    "GT, Proj = Bathy.GetGeoTransform(), Bathy.GetProjection()\n",
    "Bathy = None"
   ]
  },
  {
   "cell_type": "code",
   "execution_count": 9,
   "metadata": {},
   "outputs": [],
   "source": [
    "\n",
    "fname = BathyFolder + RasterName\n",
    "\n",
    "mgp.write_raster2(fname, Raster, GT, Proj,  DriverName=\"GTiff\", formatMem=gdal.GDT_Float32,Metadata=Metadata, Offset=None)\n",
    "#response = gdal.Translate(destName=fname, srcDS=fTempName, srcWin=(0, 5500, 8500, 5480))\n",
    "#if response is None:\n",
    "#    print('fail')"
   ]
  }
 ],
 "metadata": {
  "kernelspec": {
   "display_name": "Python 3",
   "language": "python",
   "name": "python3"
  },
  "language_info": {
   "codemirror_mode": {
    "name": "ipython",
    "version": 3
   },
   "file_extension": ".py",
   "mimetype": "text/x-python",
   "name": "python",
   "nbconvert_exporter": "python",
   "pygments_lexer": "ipython3",
   "version": "3.6.1"
  }
 },
 "nbformat": 4,
 "nbformat_minor": 2
}
