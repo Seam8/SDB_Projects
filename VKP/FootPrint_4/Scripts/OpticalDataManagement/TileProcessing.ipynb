{
 "cells": [
  {
   "cell_type": "markdown",
   "metadata": {
    "collapsed": true
   },
   "source": [
    "# Soil Thresholding\n"
   ]
  },
  {
   "cell_type": "code",
   "execution_count": 1,
   "metadata": {
    "collapsed": true
   },
   "outputs": [],
   "source": [
    "%matplotlib inline\n",
    "\n",
    "import sys\n",
    "import os\n",
    "sys.path.append(\"../../../..\")\n",
    "import inspect\n",
    "\n",
    "import numpy as np\n",
    "import pandas as pd\n",
    "\n",
    "import matplotlib.pyplot as plt\n",
    "from skimage import exposure, img_as_float, morphology\n",
    "from sklearn.linear_model import LinearRegression\n",
    "\n",
    "from osgeo import gdal\n",
    "from osgeo import ogr\n",
    "import osr\n",
    "import xml.etree.ElementTree as ET\n",
    "\n",
    "import my_packages.My_Geoprocess as mgp\n"
   ]
  },
  {
   "cell_type": "markdown",
   "metadata": {},
   "source": [
    "# Metadatas extraction, reading and checking"
   ]
  },
  {
   "cell_type": "code",
   "execution_count": 2,
   "metadata": {
    "collapsed": true,
    "scrolled": true
   },
   "outputs": [],
   "source": [
    "FilePath = '../../../Images/Acolite/S2B_MSIL1C_20170825T231849_N0205_R001_T58KDB/'\n",
    "image_filePath = mgp.getNIRTifPath(FilePath)[0]\n",
    "gdal.ErrorReset()\n",
    "ds = gdal.Open( FilePath + image_filePath )\n",
    "\n",
    "if ds is None or gdal.GetLastErrorMsg() != '':\n",
    "    print('xml failed to load')\n",
    "    \n",
    "DataSet_md = ds.GetMetadata()\n",
    "DataSet_md\n",
    "NIR = ds.GetRasterBand(1).ReadAsArray()"
   ]
  },
  {
   "cell_type": "code",
   "execution_count": 3,
   "metadata": {
    "collapsed": true
   },
   "outputs": [],
   "source": [
    "RawImage_Folder = '../../../Images/S2B_MSIL1C_20170825T231849_N0205_R001_T58KDB_20170825T232145.SAFE/'\n",
    "GML_Folder = 'GRANULE/L1C_T58KDB_A002458_20170825T232145/QI_DATA/'\n",
    "GML_Name = 'MSK_DETFOO_B02.gml'\n"
   ]
  },
  {
   "cell_type": "markdown",
   "metadata": {},
   "source": [
    "# Extract Detectors FootPrints"
   ]
  },
  {
   "cell_type": "code",
   "execution_count": 4,
   "metadata": {
    "collapsed": true
   },
   "outputs": [],
   "source": [
    "DetFootGml_path =  RawImage_Folder+GML_Folder+GML_Name\n",
    "InVec = ogr.Open(DetFootGml_path)\n",
    "assert InVec.GetLayerCount() == 1\n",
    "\n",
    "inLayer = InVec.GetLayer()\n",
    "FieldName = [inLayer.GetLayerDefn().GetFieldDefn(i).GetName() for i in range(inLayer.GetLayerDefn().GetFieldCount())]\n",
    "FeatureField = [[inLayer.GetFeature(feat).GetField(FieldName[f]) for feat in range(inLayer.GetFeatureCount())] for f in range(len(FieldName))]"
   ]
  },
  {
   "cell_type": "code",
   "execution_count": 5,
   "metadata": {},
   "outputs": [
    {
     "data": {
      "text/plain": [
       "<function matplotlib.pyplot.show>"
      ]
     },
     "execution_count": 5,
     "metadata": {},
     "output_type": "execute_result"
    },
    {
     "data": {
      "image/png": "[encoded data removed]",
      "text/plain": [
       "<matplotlib.figure.Figure at 0x5166470>"
      ]
     },
     "metadata": {},
     "output_type": "display_data"
    }
   ],
   "source": [
    "GT = ds.GetGeoTransform()\n",
    "proj = ds.GetProjection()\n",
    "cols = ds.RasterXSize\n",
    "rows = ds.RasterYSize\n",
    "\n",
    "ROI = [mgp.create_mask_from_vector(DetFootGml_path, cols, rows, GT, proj, NLayerAssert = 1, \n",
    "                              AtFilterExp = \"{0}='{1}'\".format(FieldName[0], FeatureField[0][f]))\n",
    "       for f in range(inLayer.GetFeatureCount())]\n",
    "ROI= [ROI[f].GetRasterBand(1).ReadAsArray().astype(bool) for f in range(len(ROI))]\n",
    "\n",
    "\n",
    "fig, axes = plt.subplots(3,3,figsize=(10, 10))\n",
    "for i, ax in enumerate(fig.axes):\n",
    "    if i > len(FeatureField[0])-1:\n",
    "        ax.axis('off')\n",
    "        continue\n",
    "    ax.set_title('{0} : {1}'.format(i, FeatureField[0][i]))\n",
    "    ax.imshow(ROI[i])\n",
    "plt.show"
   ]
  },
  {
   "cell_type": "markdown",
   "metadata": {},
   "source": [
    "# detector's Footprint definition  !!! To be mdified for each GN Application !!!"
   ]
  },
  {
   "cell_type": "code",
   "execution_count": 7,
   "metadata": {},
   "outputs": [
    {
     "data": {
      "text/plain": [
       "<matplotlib.image.AxesImage at 0x4436e710>"
      ]
     },
     "execution_count": 7,
     "metadata": {},
     "output_type": "execute_result"
    },
    {
     "data": {
      "image/png": "[encoded data removed]",
      "text/plain": [
       "<matplotlib.figure.Figure at 0xcf27cc0>"
      ]
     },
     "metadata": {},
     "output_type": "display_data"
    }
   ],
   "source": [
    "fig, axes = plt.subplots(1,2)\n",
    "FP = 4\n",
    "axes[0].set_title('Within FootPrints Boarders !')\n",
    "axes[0].imshow(np.logical_and(ROI[FP], ROI[FP-1]))\n",
    "axes[1].set_title('Without FootPrints Boarders !')\n",
    "#=============================================================\n",
    "axes[1].imshow(np.logical_and(ROI[FP], ~ROI[FP-1]))# special case: boarder\n",
    "#============================================================="
   ]
  },
  {
   "cell_type": "code",
   "execution_count": 8,
   "metadata": {
    "collapsed": true
   },
   "outputs": [],
   "source": [
    "TempoFolder = '/vsimem/'\n",
    "ShapeFolder = '../../ShapesAndMask/'\n",
    "MaskName = 'ROI.tif'\n",
    "ShapeName = 'ROI.shp'\n",
    "\n",
    "#=============================================================\n",
    "ROI = np.logical_and(ROI[FP], ~ROI[FP-1])# special case: boarder\n",
    "#=============================================================\n",
    "ROIrecord = np.full(ROI.shape, np.nan, np.float)\n",
    "\n",
    "mgp.write_raster2(TempoFolder+MaskName,ROI, GT, proj, DriverName=\"GTiff\", formatMem=gdal.GDT_Byte)\n",
    "ROISource = gdal.Open(TempoFolder+MaskName)\n",
    "ROIBand = ROISource.GetRasterBand(1)\n",
    "\n",
    "drv = ogr.GetDriverByName(\"ESRI Shapefile\")\n",
    "dst_ds = drv.CreateDataSource(ShapeFolder+ShapeName)\n",
    "Srs = osr.SpatialReference()\n",
    "Srs.ImportFromWkt(ROISource.GetProjectionRef())\n",
    "dst_layer = dst_ds.CreateLayer(ShapeFolder+ShapeName, srs=Srs)\n",
    "newField = ogr.FieldDefn('Class', ogr.OFTInteger)\n",
    "dst_layer.CreateField(newField)\n",
    "gdal.Polygonize(ROIBand, ROIBand,dst_layer, 0,[],callback=None)  \n",
    "dst_ds.Destroy()"
   ]
  },
  {
   "cell_type": "code",
   "execution_count": 9,
   "metadata": {},
   "outputs": [
    {
     "data": {
      "text/plain": [
       "<function matplotlib.pyplot.show>"
      ]
     },
     "execution_count": 9,
     "metadata": {},
     "output_type": "execute_result"
    },
    {
     "data": {
      "image/png": "[encoded data removed]",
      "text/plain": [
       "<matplotlib.figure.Figure at 0xcf247f0>"
      ]
     },
     "metadata": {},
     "output_type": "display_data"
    }
   ],
   "source": [
    "Roi_Path = ShapeFolder+ShapeName\n",
    "\n",
    "GT = ds.GetGeoTransform()\n",
    "proj = ds.GetProjection()\n",
    "cols = ds.RasterXSize\n",
    "rows = ds.RasterYSize\n",
    "\n",
    "ROI = mgp.create_mask_from_vector(Roi_Path, cols, rows, GT, \n",
    "                              proj, target_value=1, format=gdal.GDT_Byte)\n",
    "ROI= ROI.GetRasterBand(1).ReadAsArray().astype(bool)\n",
    "\n",
    "plt.figure(figsize=(5, 5))\n",
    "#plt.subplot(1, 2, 1)\n",
    "plt.imshow(ROI)\n",
    "#plt.subplot(1, 2, 2)\n",
    "#plt.imshow(Random)\n",
    "plt.axis('off')\n",
    "plt.show\n"
   ]
  },
  {
   "cell_type": "raw",
   "metadata": {},
   "source": [
    "# SoilMask"
   ]
  },
  {
   "cell_type": "raw",
   "metadata": {},
   "source": [
    "thres = 0.035\n",
    "plt.figure(figsize=(20, 40))\n",
    "plt.subplot(2,1,1)\n",
    "plt.hist(NIR[~np.isnan(NIR)].ravel(), bins=200, ec='k', normed= True)\n",
    "plt.plot([thres, thres], [0, 80], 'r--')\n",
    "plt.show\n",
    "plt.subplot(2,1,2)\n",
    "plt.hist(NIR[~np.isnan(NIR)].ravel(), bins=400, ec='k', normed= True, cumulative= True)\n",
    "plt.plot([thres, thres], [0, 1], 'r--')\n",
    "plt.show"
   ]
  },
  {
   "cell_type": "raw",
   "metadata": {},
   "source": [
    "plt.figure(figsize=(40, 40))\n",
    "plt.subplot(1, 2, 1)\n",
    "plt.imshow(NIR>thres)\n",
    "plt.axis('off')\n",
    "\n",
    "soilFilled_mask = morphology.remove_small_holes(NIR>thres,10000)\n",
    "plt.subplot(1, 2, 2)\n",
    "plt.imshow(soilFilled_mask)\n",
    "plt.show"
   ]
  },
  {
   "cell_type": "raw",
   "metadata": {},
   "source": [
    "MaskFolder = FilePath + '/Masks/'\n",
    "MaskName = 'GlobalSoil_From_Foot3.tif'\n",
    "mgp.write_raster2(MaskFolder+ MaskName,soilFilled_mask, GT, proj, DriverName=\"GTiff\", formatMem=gdal.GDT_Byte )"
   ]
  },
  {
   "cell_type": "raw",
   "metadata": {},
   "source": [
    "# Cloud Shadow Mask on wet area"
   ]
  },
  {
   "cell_type": "raw",
   "metadata": {
    "collapsed": true
   },
   "source": [
    "image_filePath = mgp.getNIRTifPath(FilePath, '442.tif')[0]\n",
    "gdal.ErrorReset()\n",
    "ds = gdal.Open( FilePath + image_filePath )\n",
    "\n",
    "if ds is None or gdal.GetLastErrorMsg() != '':\n",
    "    print('xml failed to load')\n",
    "    \n",
    "DataSet_md = ds.GetMetadata()\n",
    "DataSet_md\n",
    "ShortBlue = ds.GetRasterBand(1).ReadAsArray()\n",
    "Blue = gdal.Open( FilePath + mgp.getNIRTifPath(FilePath, '492.tif')[0] )\n",
    "Red = gdal.Open( FilePath + mgp.getNIRTifPath(FilePath, '665.tif')[0] )\n",
    "Blue = Blue.GetRasterBand(1).ReadAsArray()\n",
    "Red = Red.GetRasterBand(1).ReadAsArray()"
   ]
  },
  {
   "cell_type": "raw",
   "metadata": {
    "scrolled": true
   },
   "source": [
    "Shthres = 0.02\n",
    "plt.figure(figsize=(20, 40))\n",
    "plt.subplot(2,1,1)\n",
    "plt.hist(ShortBlue[~np.isnan(ShortBlue)].ravel(), bins=200, ec='k', normed= True)\n",
    "plt.plot([thres, thres], [0, 80], 'r--')\n",
    "plt.show\n",
    "plt.subplot(2,1,2)\n",
    "plt.hist(ShortBlue[~np.isnan(ShortBlue)].ravel(), bins=400, ec='k', normed= True, cumulative= True)\n",
    "plt.plot([thres, thres], [0, 1], 'r--')\n",
    "plt.show"
   ]
  },
  {
   "cell_type": "raw",
   "metadata": {
    "scrolled": false
   },
   "source": [
    "plt.figure(figsize=(40, 40))\n",
    "ShadowIndex = np.logical_and(np.logical_and(~soilFilled_mask,ShortBlue<=0.02), np.logical_and(Blue<=0.28, Red<=0.012))\n",
    "plt.imshow(ShadowIndex)\n",
    "plt.axis('off')\n",
    "plt.show"
   ]
  },
  {
   "cell_type": "raw",
   "metadata": {
    "collapsed": true
   },
   "source": [
    "MaskFolder = FilePath + '/Masks/'\n",
    "ShadowMaskName = 'GlobalCloudShadow_From_Foot3.tif'\n",
    "mgp.write_raster2(MaskFolder+ ShadowMaskName,ShadowIndex, GT, proj, DriverName=\"GTiff\", formatMem=gdal.GDT_Byte )"
   ]
  }
 ],
 "metadata": {
  "kernelspec": {
   "display_name": "Python 3",
   "language": "python",
   "name": "python3"
  },
  "language_info": {
   "codemirror_mode": {
    "name": "ipython",
    "version": 3
   },
   "file_extension": ".py",
   "mimetype": "text/x-python",
   "name": "python",
   "nbconvert_exporter": "python",
   "pygments_lexer": "ipython3",
   "version": "3.6.1"
  }
 },
 "nbformat": 4,
 "nbformat_minor": 2
}
