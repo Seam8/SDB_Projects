{
 "cells": [
  {
   "cell_type": "code",
   "execution_count": 1,
   "metadata": {
    "collapsed": true
   },
   "outputs": [],
   "source": [
    "%matplotlib inline\n",
    "\n",
    "import sys\n",
    "import os\n",
    "sys.path.append(\"../..\")\n",
    "import my_packages.My_Geoprocess as mgp\n",
    "\n",
    "import numpy as np\n",
    "import matplotlib.pyplot as plt\n",
    "import matplotlib.image as mpimg\n",
    "from matplotlib.colors import Normalize\n",
    "from skimage import exposure, img_as_float, morphology\n",
    "from PIL import Image\n",
    "\n",
    "from osgeo import gdal\n",
    "import osr\n",
    "import xml.etree.ElementTree as ET\n",
    "\n",
    "from sklearn import preprocessing\n",
    "from sklearn.decomposition import PCA\n",
    "from sklearn import metrics\n",
    "from sklearn.metrics import silhouette_samples, silhouette_score\n",
    "\n",
    "from sklearn.cluster import KMeans\n",
    "from datetime import datetime\n"
   ]
  },
  {
   "cell_type": "code",
   "execution_count": 2,
   "metadata": {},
   "outputs": [],
   "source": [
    "npzfile = np.load('../../Poe/CompressedData/TrainMatrix.npz')\n",
    "TX, ClassifIndex = npzfile['Train'], npzfile['CroppedIndex']"
   ]
  },
  {
   "cell_type": "code",
   "execution_count": 3,
   "metadata": {
    "collapsed": true
   },
   "outputs": [],
   "source": [
    "scaler = preprocessing.StandardScaler().fit(TX)\n",
    "TX = np.array(scaler.transform(TX))"
   ]
  },
  {
   "cell_type": "code",
   "execution_count": 4,
   "metadata": {},
   "outputs": [
    {
     "data": {
      "text/plain": [
       "array([  3.52042731e-14,  -3.83726329e-13,  -3.83598818e-14,\n",
       "         1.67104050e-14,  -4.85541954e-14,  -5.90919976e-13,\n",
       "         2.81020576e-13,  -1.88244088e-13,  -3.96151613e-15,\n",
       "         8.51140485e-14,  -6.33459546e-13])"
      ]
     },
     "execution_count": 4,
     "metadata": {},
     "output_type": "execute_result"
    }
   ],
   "source": [
    "np.mean(TX, axis=0)"
   ]
  },
  {
   "cell_type": "code",
   "execution_count": 5,
   "metadata": {},
   "outputs": [
    {
     "data": {
      "text/plain": [
       "(4196783, 11)"
      ]
     },
     "execution_count": 5,
     "metadata": {},
     "output_type": "execute_result"
    }
   ],
   "source": [
    "TX.shape"
   ]
  },
  {
   "cell_type": "code",
   "execution_count": 6,
   "metadata": {},
   "outputs": [
    {
     "name": "stdout",
     "output_type": "stream",
     "text": [
      "10980 10980\n"
     ]
    }
   ],
   "source": [
    "ClassifFolder = '../../Poe/Resultats/Classifications/'\n",
    "ImagesFolder = '../../Poe/Images/Acolyte/S2A_MSIL1C_20180305T230901_N0206_R101_T58KEB_20180306T00234_bisAco/S2A_MSI_2018_03_05_23_09_01_T58KEB_L2R_tif/'\n",
    "raster_wavelength = ['560']\n",
    "raster_Name = ['rhos_' + f + '.tif' for f in raster_wavelength]\n",
    "\n",
    "raster_dataset = gdal.Open(ImagesFolder+raster_Name[0], gdal.GA_ReadOnly)\n",
    "band = raster_dataset.GetRasterBand(1)\n",
    "geo_transform = raster_dataset.GetGeoTransform()\n",
    "proj = raster_dataset.GetProjection()\n",
    "rows, cols = (raster_dataset.RasterYSize, raster_dataset.RasterXSize)\n",
    "print(rows, cols)"
   ]
  },
  {
   "cell_type": "code",
   "execution_count": 7,
   "metadata": {},
   "outputs": [],
   "source": [
    "cluster_range = [2,3,4,5,6,7,8]\n",
    "kmeans_model = []\n",
    "for i, c in enumerate(cluster_range):\n",
    "    ClassifName = 'Kmeans_'+str(c)+'Clusters_2.tif'\n",
    "    \n",
    "    kmeans_model.append(KMeans(n_clusters=c))\n",
    "    kmeans_model[i].fit(TX)\n",
    "    \n",
    "    Im = np.full(ClassifIndex.shape, -1, np.int8)\n",
    "    Im[ClassifIndex] = kmeans_model[i].predict(TX)\n",
    "    Im[Im==0]=len(np.unique(Im))-1\n",
    "    Im[Im==-1]=0\n",
    "    \n",
    "    Image = np.full((rows, cols), -1, np.int8)\n",
    "    Image[5000:,0:8500] = Im\n",
    "    mgp.write_raster2(ClassifFolder + ClassifName, Image, geo_transform, proj, DriverName=\"GTiff\", formatMem=gdal.GDT_UInt16)\n"
   ]
  },
  {
   "cell_type": "code",
   "execution_count": 8,
   "metadata": {},
   "outputs": [
    {
     "data": {
      "text/plain": [
       "<matplotlib.image.AxesImage at 0x106f9278>"
      ]
     },
     "execution_count": 8,
     "metadata": {},
     "output_type": "execute_result"
    },
    {
     "data": {
      "image/png": "[encoded data removed]",
      "text/plain": [
       "<matplotlib.figure.Figure at 0xd5b0eb8>"
      ]
     },
     "metadata": {},
     "output_type": "display_data"
    }
   ],
   "source": [
    "plt.imshow(Im)"
   ]
  },
  {
   "cell_type": "code",
   "execution_count": null,
   "metadata": {},
   "outputs": [],
   "source": [
    "\n"
   ]
  },
  {
   "cell_type": "code",
   "execution_count": 9,
   "metadata": {},
   "outputs": [
    {
     "data": {
      "text/plain": [
       "array([0, 1, 2, 3, 4, 5, 6, 7, 8], dtype=int8)"
      ]
     },
     "execution_count": 9,
     "metadata": {},
     "output_type": "execute_result"
    }
   ],
   "source": [
    "np.unique(Im)"
   ]
  }
 ],
 "metadata": {
  "kernelspec": {
   "display_name": "Python 3",
   "language": "python",
   "name": "python3"
  },
  "language_info": {
   "codemirror_mode": {
    "name": "ipython",
    "version": 3
   },
   "file_extension": ".py",
   "mimetype": "text/x-python",
   "name": "python",
   "nbconvert_exporter": "python",
   "pygments_lexer": "ipython3",
   "version": "3.6.1"
  }
 },
 "nbformat": 4,
 "nbformat_minor": 2
}
