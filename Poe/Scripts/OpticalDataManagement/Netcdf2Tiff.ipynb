{
 "cells": [
  {
   "cell_type": "code",
   "execution_count": 1,
   "metadata": {
    "collapsed": true
   },
   "outputs": [],
   "source": [
    "%matplotlib inline\n",
    "\n",
    "import sys\n",
    "import os\n",
    "import inspect\n",
    "\n",
    "import numpy as np\n",
    "\n",
    "import matplotlib.pyplot as plt\n",
    "import matplotlib.image as mpimg\n",
    "\n",
    "\n",
    "from osgeo import gdal\n",
    "import osr\n",
    "\n",
    "import h5py\n",
    "\n",
    "sys.path.append('D:/')\n",
    "from my_packages.My_Geoprocess import*\n"
   ]
  },
  {
   "cell_type": "code",
   "execution_count": 89,
   "metadata": {},
   "outputs": [
    {
     "data": {
      "text/plain": [
       "1"
      ]
     },
     "execution_count": 89,
     "metadata": {},
     "output_type": "execute_result"
    }
   ],
   "source": [
    "def getNcPath(NetCdf_data_path):\n",
    "    return [f for f in os.listdir(NetCdf_data_path) if f.endswith('.nc')]\n",
    "\n",
    "NetCdf_data_path = \"D:/Image/Poe/Acolyte/S2B_MSIL1C_20180320T230859_N0206_R101_T58KEB_20180321T002930/\"\n",
    "raster_data_path = getNcPath(NetCdf_data_path)\n",
    "\n",
    "raster_dataset = gdal.Open(NetCdf_data_path+raster_data_path[0])\n",
    "SubDataSet_md = raster_dataset.GetMetadata('SUBDATASETS')\n",
    "ds = []\n",
    "\n",
    "# Try opening the 4 subdatasets\n",
    "for i in range(1,int(len(SubDataSet_md)/2)+1):\n",
    "    gdal.ErrorReset()\n",
    "    ds.append(gdal.Open(SubDataSet_md['SUBDATASET_%d_NAME' % i]))\n",
    "    if ds is None or gdal.GetLastErrorMsg() != '':\n",
    "        print('subdatasets failed to load')\n",
    "        print(SubDataSet_md['SUBDATASET_%d_NAME' % i])\n",
    "ds[0].RasterCount"
   ]
  },
  {
   "cell_type": "code",
   "execution_count": 90,
   "metadata": {},
   "outputs": [
    {
     "data": {
      "text/plain": [
       "['S2B_MSI_2018_03_20_23_08_59_T58KEB_L1R.nc',\n",
       " 'S2B_MSI_2018_03_20_23_08_59_T58KEB_L2R.nc',\n",
       " 'S2B_MSI_2018_03_20_23_08_59_T58KEB_L2W.nc']"
      ]
     },
     "execution_count": 90,
     "metadata": {},
     "output_type": "execute_result"
    }
   ],
   "source": [
    "raster_data_path"
   ]
  },
  {
   "cell_type": "code",
   "execution_count": 29,
   "metadata": {},
   "outputs": [
    {
     "name": "stdout",
     "output_type": "stream",
     "text": [
      "8412 x 5346\n",
      "8412 x 5346\n",
      "8412 x 5346\n",
      "8412 x 5346\n",
      "8412 x 5346\n",
      "8412 x 5346\n",
      "8412 x 5346\n",
      "8412 x 5346\n",
      "8412 x 5346\n",
      "8412 x 5346\n",
      "8412 x 5346\n",
      "8412 x 5346\n",
      "8412 x 5346\n",
      "8412 x 5346\n",
      "8412 x 5346\n",
      "8412 x 5346\n",
      "8412 x 5346\n",
      "8412 x 5346\n",
      "8412 x 5346\n",
      "8412 x 5346\n",
      "8412 x 5346\n",
      "8412 x 5346\n",
      "8412 x 5346\n",
      "8412 x 5346\n",
      "8412 x 5346\n",
      "8412 x 5346\n"
     ]
    }
   ],
   "source": [
    "raster_dataset = gdal.Open(NetCdf_data_path+raster_data_path[1], gdal.GA_ReadOnly)\n",
    "dataset = raster_dataset.GetSubDatasets()\n",
    "\n",
    "for df in dataset:\n",
    "    buffer = gdal.Open(df[0],gdal.GA_ReadOnly)\n",
    "    print(buffer.RasterXSize, 'x', buffer.RasterYSize)"
   ]
  },
  {
   "cell_type": "code",
   "execution_count": 88,
   "metadata": {},
   "outputs": [
    {
     "data": {
      "text/plain": [
       "[('HDF5:\"D:/Image/Poe/Acolyte/S2B_MSIL1C_20180320T230859_N0206_R101_T58KEB_20180321T002930/S2B_MSI_2018_03_20_23_08_59_T58KEB_L2R.nc\"://lat',\n",
       "  '[5346x8412] //lat (64-bit floating-point)'),\n",
       " ('HDF5:\"D:/Image/Poe/Acolyte/S2B_MSIL1C_20180320T230859_N0206_R101_T58KEB_20180321T002930/S2B_MSI_2018_03_20_23_08_59_T58KEB_L2R.nc\"://lon',\n",
       "  '[5346x8412] //lon (64-bit floating-point)'),\n",
       " ('HDF5:\"D:/Image/Poe/Acolyte/S2B_MSIL1C_20180320T230859_N0206_R101_T58KEB_20180321T002930/S2B_MSI_2018_03_20_23_08_59_T58KEB_L2R.nc\"://rhos_1610',\n",
       "  '[5346x8412] //rhos_1610 (64-bit floating-point)'),\n",
       " ('HDF5:\"D:/Image/Poe/Acolyte/S2B_MSIL1C_20180320T230859_N0206_R101_T58KEB_20180321T002930/S2B_MSI_2018_03_20_23_08_59_T58KEB_L2R.nc\"://rhos_2186',\n",
       "  '[5346x8412] //rhos_2186 (64-bit floating-point)'),\n",
       " ('HDF5:\"D:/Image/Poe/Acolyte/S2B_MSIL1C_20180320T230859_N0206_R101_T58KEB_20180321T002930/S2B_MSI_2018_03_20_23_08_59_T58KEB_L2R.nc\"://rhos_442',\n",
       "  '[5346x8412] //rhos_442 (64-bit floating-point)'),\n",
       " ('HDF5:\"D:/Image/Poe/Acolyte/S2B_MSIL1C_20180320T230859_N0206_R101_T58KEB_20180321T002930/S2B_MSI_2018_03_20_23_08_59_T58KEB_L2R.nc\"://rhos_492',\n",
       "  '[5346x8412] //rhos_492 (64-bit floating-point)'),\n",
       " ('HDF5:\"D:/Image/Poe/Acolyte/S2B_MSIL1C_20180320T230859_N0206_R101_T58KEB_20180321T002930/S2B_MSI_2018_03_20_23_08_59_T58KEB_L2R.nc\"://rhos_559',\n",
       "  '[5346x8412] //rhos_559 (64-bit floating-point)'),\n",
       " ('HDF5:\"D:/Image/Poe/Acolyte/S2B_MSIL1C_20180320T230859_N0206_R101_T58KEB_20180321T002930/S2B_MSI_2018_03_20_23_08_59_T58KEB_L2R.nc\"://rhos_665',\n",
       "  '[5346x8412] //rhos_665 (64-bit floating-point)'),\n",
       " ('HDF5:\"D:/Image/Poe/Acolyte/S2B_MSIL1C_20180320T230859_N0206_R101_T58KEB_20180321T002930/S2B_MSI_2018_03_20_23_08_59_T58KEB_L2R.nc\"://rhos_704',\n",
       "  '[5346x8412] //rhos_704 (64-bit floating-point)'),\n",
       " ('HDF5:\"D:/Image/Poe/Acolyte/S2B_MSIL1C_20180320T230859_N0206_R101_T58KEB_20180321T002930/S2B_MSI_2018_03_20_23_08_59_T58KEB_L2R.nc\"://rhos_739',\n",
       "  '[5346x8412] //rhos_739 (64-bit floating-point)'),\n",
       " ('HDF5:\"D:/Image/Poe/Acolyte/S2B_MSIL1C_20180320T230859_N0206_R101_T58KEB_20180321T002930/S2B_MSI_2018_03_20_23_08_59_T58KEB_L2R.nc\"://rhos_780',\n",
       "  '[5346x8412] //rhos_780 (64-bit floating-point)'),\n",
       " ('HDF5:\"D:/Image/Poe/Acolyte/S2B_MSIL1C_20180320T230859_N0206_R101_T58KEB_20180321T002930/S2B_MSI_2018_03_20_23_08_59_T58KEB_L2R.nc\"://rhos_833',\n",
       "  '[5346x8412] //rhos_833 (64-bit floating-point)'),\n",
       " ('HDF5:\"D:/Image/Poe/Acolyte/S2B_MSIL1C_20180320T230859_N0206_R101_T58KEB_20180321T002930/S2B_MSI_2018_03_20_23_08_59_T58KEB_L2R.nc\"://rhos_864',\n",
       "  '[5346x8412] //rhos_864 (64-bit floating-point)'),\n",
       " ('HDF5:\"D:/Image/Poe/Acolyte/S2B_MSIL1C_20180320T230859_N0206_R101_T58KEB_20180321T002930/S2B_MSI_2018_03_20_23_08_59_T58KEB_L2R.nc\"://rhot_1377',\n",
       "  '[5346x8412] //rhot_1377 (64-bit floating-point)'),\n",
       " ('HDF5:\"D:/Image/Poe/Acolyte/S2B_MSIL1C_20180320T230859_N0206_R101_T58KEB_20180321T002930/S2B_MSI_2018_03_20_23_08_59_T58KEB_L2R.nc\"://rhot_1610',\n",
       "  '[5346x8412] //rhot_1610 (64-bit floating-point)'),\n",
       " ('HDF5:\"D:/Image/Poe/Acolyte/S2B_MSIL1C_20180320T230859_N0206_R101_T58KEB_20180321T002930/S2B_MSI_2018_03_20_23_08_59_T58KEB_L2R.nc\"://rhot_2186',\n",
       "  '[5346x8412] //rhot_2186 (64-bit floating-point)'),\n",
       " ('HDF5:\"D:/Image/Poe/Acolyte/S2B_MSIL1C_20180320T230859_N0206_R101_T58KEB_20180321T002930/S2B_MSI_2018_03_20_23_08_59_T58KEB_L2R.nc\"://rhot_442',\n",
       "  '[5346x8412] //rhot_442 (64-bit floating-point)'),\n",
       " ('HDF5:\"D:/Image/Poe/Acolyte/S2B_MSIL1C_20180320T230859_N0206_R101_T58KEB_20180321T002930/S2B_MSI_2018_03_20_23_08_59_T58KEB_L2R.nc\"://rhot_492',\n",
       "  '[5346x8412] //rhot_492 (64-bit floating-point)'),\n",
       " ('HDF5:\"D:/Image/Poe/Acolyte/S2B_MSIL1C_20180320T230859_N0206_R101_T58KEB_20180321T002930/S2B_MSI_2018_03_20_23_08_59_T58KEB_L2R.nc\"://rhot_559',\n",
       "  '[5346x8412] //rhot_559 (64-bit floating-point)'),\n",
       " ('HDF5:\"D:/Image/Poe/Acolyte/S2B_MSIL1C_20180320T230859_N0206_R101_T58KEB_20180321T002930/S2B_MSI_2018_03_20_23_08_59_T58KEB_L2R.nc\"://rhot_665',\n",
       "  '[5346x8412] //rhot_665 (64-bit floating-point)'),\n",
       " ('HDF5:\"D:/Image/Poe/Acolyte/S2B_MSIL1C_20180320T230859_N0206_R101_T58KEB_20180321T002930/S2B_MSI_2018_03_20_23_08_59_T58KEB_L2R.nc\"://rhot_704',\n",
       "  '[5346x8412] //rhot_704 (64-bit floating-point)'),\n",
       " ('HDF5:\"D:/Image/Poe/Acolyte/S2B_MSIL1C_20180320T230859_N0206_R101_T58KEB_20180321T002930/S2B_MSI_2018_03_20_23_08_59_T58KEB_L2R.nc\"://rhot_739',\n",
       "  '[5346x8412] //rhot_739 (64-bit floating-point)'),\n",
       " ('HDF5:\"D:/Image/Poe/Acolyte/S2B_MSIL1C_20180320T230859_N0206_R101_T58KEB_20180321T002930/S2B_MSI_2018_03_20_23_08_59_T58KEB_L2R.nc\"://rhot_780',\n",
       "  '[5346x8412] //rhot_780 (64-bit floating-point)'),\n",
       " ('HDF5:\"D:/Image/Poe/Acolyte/S2B_MSIL1C_20180320T230859_N0206_R101_T58KEB_20180321T002930/S2B_MSI_2018_03_20_23_08_59_T58KEB_L2R.nc\"://rhot_833',\n",
       "  '[5346x8412] //rhot_833 (64-bit floating-point)'),\n",
       " ('HDF5:\"D:/Image/Poe/Acolyte/S2B_MSIL1C_20180320T230859_N0206_R101_T58KEB_20180321T002930/S2B_MSI_2018_03_20_23_08_59_T58KEB_L2R.nc\"://rhot_864',\n",
       "  '[5346x8412] //rhot_864 (64-bit floating-point)'),\n",
       " ('HDF5:\"D:/Image/Poe/Acolyte/S2B_MSIL1C_20180320T230859_N0206_R101_T58KEB_20180321T002930/S2B_MSI_2018_03_20_23_08_59_T58KEB_L2R.nc\"://rhot_943',\n",
       "  '[5346x8412] //rhot_943 (64-bit floating-point)')]"
      ]
     },
     "execution_count": 88,
     "metadata": {},
     "output_type": "execute_result"
    }
   ],
   "source": [
    "dataset"
   ]
  },
  {
   "cell_type": "code",
   "execution_count": 51,
   "metadata": {},
   "outputs": [],
   "source": [
    "'''(Uy, Ux) = np.mgrid[0:10,0:5]\n",
    "(ny, nx) = Ux.shape\n",
    "E0, Enx = Ux[0,0], Ux[0,nx-1]'''"
   ]
  },
  {
   "cell_type": "code",
   "execution_count": 84,
   "metadata": {},
   "outputs": [
    {
     "data": {
      "text/plain": [
       "8412"
      ]
     },
     "execution_count": 84,
     "metadata": {},
     "output_type": "execute_result"
    }
   ],
   "source": [
    "ds[1].RasterXSize"
   ]
  },
  {
   "cell_type": "code",
   "execution_count": null,
   "metadata": {
    "collapsed": true
   },
   "outputs": [],
   "source": [
    "write_raster2(FilePath+'/Mask2/'+'10m.tif', SoilIndex[:,:,0], ds[0].GetGeoTransform(), ds[0].GetProjection(), DriverName=\"GTiff\", formatMem=gdal.GDT_Byte)"
   ]
  },
  {
   "cell_type": "code",
   "execution_count": 54,
   "metadata": {
    "scrolled": true
   },
   "outputs": [
    {
     "name": "stdout",
     "output_type": "stream",
     "text": [
      "def write_raster2(fname, data, geo_transform, projection, DriverName=\"GTiff\", formatMem=gdal.GDT_UInt16 ):\n",
      "    \"\"\"Create a GeoTIFF file with the given data.\"\"\"\n",
      "    \n",
      "    driver = gdal.GetDriverByName(DriverName)\n",
      "    if driver is None:\n",
      "        print('DriverFailed')\n",
      "    \n",
      "    if len(data.shape)==3:\n",
      "        rows, cols, NBands = data.shape\n",
      "    else:\n",
      "        rows, cols = data.shape\n",
      "        NBands = 1\n",
      "\n",
      "    dataset = driver.Create(fname, cols, rows,  NBands, formatMem )\n",
      "    if driver is None:\n",
      "        print('DatasetCreation Failed')\n",
      "\n",
      "    dataset.SetGeoTransform(geo_transform)\n",
      "    dataset.SetProjection(projection)\n",
      "    if NBands > 1:\n",
      "        for b in range(NBands): \n",
      "            band = dataset.GetRasterBand(b+1)\n",
      "            band.WriteArray(data[:,:,b])\n",
      "    else:\n",
      "        band = dataset.GetRasterBand(1)\n",
      "        band.WriteArray(data[:,:])\n",
      "    dataset = None  # Close the file\n",
      "\n"
     ]
    }
   ],
   "source": [
    "lines = inspect.getsource(write_raster2)\n",
    "print(lines)"
   ]
  },
  {
   "cell_type": "code",
   "execution_count": 55,
   "metadata": {
    "collapsed": true
   },
   "outputs": [],
   "source": [
    "def getNCGeoTrans2(file, LonS, LatS ):\n",
    "    '''Extract Geotransform from Longitude and Latitude destination file'''\n",
    "    \n",
    "    f = h5py.File(file, 'r')\n",
    "    long = f[LonS][:]\n",
    "    lat = f[LatS][:]\n",
    "\n",
    "    nx = len(long)\n",
    "    ny = len(lat)\n",
    "    xmin, ymin, xmax, ymax = [long.min(), lat.min(), long.max(), lat.max()]\n",
    "    xres = (xmax - xmin) / float(nx)\n",
    "    yres = (ymax - ymin) / float(ny)\n",
    "    return (xmin, xres, 0, ymax, 0, -yres)\n",
    "\n",
    "\n",
    "\n",
    "def getNCGeoTrans(ds_lon, ds_lat, epsg ):\n",
    "    '''Extract Geotransform from Longitude and Latitude destination file'''\n",
    "    \n",
    "    longs = ds_lon.GetRasterBand(1).ReadAsArray()\n",
    "    lats = ds_lat.GetRasterBand(1).ReadAsArray()\n",
    "    proj_gcp = osr.SpatialReference()\n",
    "    proj_gcp.ImportFromEPSG(epsg)\n",
    "    transf = osr.CoordinateTransformation(proj_gcp, proj_out)\n",
    "    ul = transf.TransformPoint(float(longs[0][0]), float(lats[0][0]))\n",
    "    lr = transf.TransformPoint(float(longs[len(longs)-1][len(longs[0])-1]), float(lats[len(longs)-1][len(longs[0])-1]))\n",
    "    ur = transf.TransformPoint(float(longs[0][len(longs[0])-1]), float(lats[0][len(longs[0])-1]))\n",
    "    ll = transf.TransformPoint(float(longs[len(longs)-1][0]), float(lats[len(longs)-1][0]))\n",
    "    gt0 = ul[0]\n",
    "    gt1 = (ur[0] - gt0) / len(longs[0])\n",
    "    gt2 = (lr[0] - gt0 - gt1*len(longs[0])) / len(longs)\n",
    "    gt3 = ul[1]\n",
    "    gt5 = (ll[1] - gt3) / len(longs)\n",
    "    gt4 = (lr[1] - gt3 - gt5*len(longs) ) / len(longs[0])\n",
    "    \n",
    "    return (gt0,gt1,gt2,gt3,gt4,gt5)\n",
    "\n",
    "datafile = NetCdf_data_path+raster_data_path[1]\n",
    "\n",
    "LonS = 'lon'\n",
    "LatS = 'lat'\n",
    "\n",
    "datafile = NetCdf_data_path+raster_data_path[1]\n",
    "BlueData = h5py.File(NetCdf_data_path+raster_data_path[1], 'r')['rhos_492']\n",
    "\n",
    "projection = osr.SpatialReference()\n",
    "projection.ImportFromEPSG(4326)\n",
    "\n",
    "write_raster2('testscript.tif',\n",
    "              BlueData, \n",
    "              getNCGeoTrans2(datafile, LonS, LatS), \n",
    "              projection.ExportToWkt(), DriverName=\"GTiff\", \n",
    "              formatMem=gdal.GDT_CFloat64)"
   ]
  },
  {
   "cell_type": "code",
   "execution_count": 25,
   "metadata": {
    "collapsed": true
   },
   "outputs": [],
   "source": [
    "datafile = NetCdf_data_path+raster_data_path[1]\n",
    "lon = h5py.File(NetCdf_data_path+raster_data_path[1], 'r')['lon'][:]"
   ]
  },
  {
   "cell_type": "code",
   "execution_count": 53,
   "metadata": {},
   "outputs": [
    {
     "data": {
      "text/plain": [
       "(165.00212122663831,\n",
       " 0.00015221559775384353,\n",
       " 0,\n",
       " -21.306798823565913,\n",
       " 0,\n",
       " -9.0718149373187682e-05)"
      ]
     },
     "execution_count": 53,
     "metadata": {},
     "output_type": "execute_result"
    }
   ],
   "source": [
    "getNCGeoTrans2(datafile, LonS, LatS)"
   ]
  },
  {
   "cell_type": "code",
   "execution_count": 62,
   "metadata": {},
   "outputs": [
    {
     "data": {
      "text/plain": [
       "array([[ 1,  1,  0,  0,  1,  0],\n",
       "       [ 5,  0,  0,  0,  0,  0],\n",
       "       [ 0, 10,  0,  0,  0,  0],\n",
       "       [ 0,  0,  1,  1,  0,  1],\n",
       "       [ 0,  0, 10,  0,  0,  0],\n",
       "       [ 0,  0,  0,  5,  0,  0]])"
      ]
     },
     "execution_count": 62,
     "metadata": {},
     "output_type": "execute_result"
    }
   ],
   "source": [
    "A = np.array([[1, nx, 0, 0, 0, 0],\n",
    "             [1, 0, ny, 0, 0, 0],\n",
    "             [0, 0, 0, 1, ny, 0],\n",
    "             [0, 0, 0, 1, 0, nx],\n",
    "             [1, 0, 0, 0, 0, 0],\n",
    "             [0, 0, 0, 1, 0, 0]])\n",
    "A.T"
   ]
  },
  {
   "cell_type": "code",
   "execution_count": 65,
   "metadata": {},
   "outputs": [
    {
     "data": {
      "text/plain": [
       "array([[ 1,  5,  0,  0,  0,  0],\n",
       "       [ 1,  0, 10,  0,  0,  0],\n",
       "       [ 0,  0,  0,  1,  0, 10],\n",
       "       [ 0,  0,  0,  1,  5,  0],\n",
       "       [ 1,  5, 10,  0,  0,  0],\n",
       "       [ 0,  0,  0,  1,  5, 10],\n",
       "       [ 1,  0,  0,  0,  0,  0],\n",
       "       [ 0,  0,  0,  1,  0,  0]])"
      ]
     },
     "execution_count": 65,
     "metadata": {},
     "output_type": "execute_result"
    }
   ],
   "source": [
    "Enxny=7\n",
    "Nnxny=8\n",
    "\n",
    "A = np.array([[1, nx, 0, 0, 0, 0],[1, 0, ny, 0, 0, 0],[0, 0, 0, 1, 0, ny],[0, 0, 0, 1, nx, 0],[1, nx, ny, 0, 0, 0],[0, 0, 0, 1, nx, ny],[1, 0, 0, 0, 0, 0],[0, 0, 0, 1, 0, 0]])\n",
    "C = np.array([Enx, Eny, Nny, Nnx, Enxny, Nnxny, E0, N0]).reshape(8,1)\n",
    "A"
   ]
  },
  {
   "cell_type": "code",
   "execution_count": 66,
   "metadata": {},
   "outputs": [
    {
     "data": {
      "text/plain": [
       "array([[1],\n",
       "       [2],\n",
       "       [3],\n",
       "       [4],\n",
       "       [7],\n",
       "       [8],\n",
       "       [5],\n",
       "       [6]])"
      ]
     },
     "execution_count": 66,
     "metadata": {},
     "output_type": "execute_result"
    }
   ],
   "source": [
    "C"
   ]
  },
  {
   "cell_type": "code",
   "execution_count": null,
   "metadata": {
    "collapsed": true
   },
   "outputs": [],
   "source": [
    "bands_data = []\n",
    "for f in range(len(raster_data_path)):\n",
    "    raster_dataset = gdal.Open(rasters_data_path+raster_data_path[f], gdal.GA_ReadOnly)\n",
    "    for b in range(1, raster_dataset.RasterCount+1):\n",
    "        band = raster_dataset.GetRasterBand(b)\n",
    "        bands_data.append(band.ReadAsArray())\n",
    "        \n",
    "for i in range(len(bands_data)):\n",
    "    print(bands_data[i].shape)\n",
    "bands_data = np.dstack(bands_data)\n",
    "rows, cols, n_bands = bands_data.shape\n",
    "print(bands_data.shape)\n",
    "\n",
    "raster_dataset = gdal.Open(rasters_data_path+raster_data_path[0], gdal.GA_ReadOnly)\n",
    "geo_transform = raster_dataset.GetGeoTransform()\n",
    "proj = raster_dataset.GetProjectionRef()\n",
    "del raster_dataset"
   ]
  }
 ],
 "metadata": {
  "kernelspec": {
   "display_name": "Python 3",
   "language": "python",
   "name": "python3"
  },
  "language_info": {
   "codemirror_mode": {
    "name": "ipython",
    "version": 3
   },
   "file_extension": ".py",
   "mimetype": "text/x-python",
   "name": "python",
   "nbconvert_exporter": "python",
   "pygments_lexer": "ipython3",
   "version": "3.6.1"
  }
 },
 "nbformat": 4,
 "nbformat_minor": 2
}
