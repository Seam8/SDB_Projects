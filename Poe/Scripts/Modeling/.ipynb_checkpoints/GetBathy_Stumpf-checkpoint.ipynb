{
 "cells": [
  {
   "cell_type": "code",
   "execution_count": 1,
   "metadata": {},
   "outputs": [],
   "source": [
    "%matplotlib inline\n",
    "\n",
    "import sys\n",
    "import os\n",
    "sys.path.append(\"../../..\")\n",
    "\n",
    "import numpy as np\n",
    "import re\n",
    "import pandas as pd\n",
    "\n",
    "import matplotlib as mpl\n",
    "import matplotlib.pyplot as plt\n",
    "import matplotlib.image as mpimg\n",
    "from skimage import exposure, img_as_float, morphology, color\n",
    "from skimage.measure import label\n",
    "from sklearn.model_selection import KFold\n",
    "from PIL import Image\n",
    "import xml.etree.ElementTree as ET\n",
    "\n",
    "from osgeo import gdal\n",
    "import osr\n",
    "import my_packages.My_Geoprocess as mgp\n",
    "\n",
    "from sklearn.model_selection import cross_val_predict\n",
    "from sklearn import linear_model\n",
    "from sklearn.model_selection import LeaveOneOut\n",
    "from sklearn.metrics import r2_score\n"
   ]
  },
  {
   "cell_type": "markdown",
   "metadata": {},
   "source": [
    "## Get Rasters Informations, size, Geotransform... following one of the grid"
   ]
  },
  {
   "cell_type": "code",
   "execution_count": 2,
   "metadata": {},
   "outputs": [
    {
     "name": "stdout",
     "output_type": "stream",
     "text": [
      "10980 10980\n"
     ]
    }
   ],
   "source": [
    "ClassifFolder = '../../../Poe/Resultats/Classifications/'\n",
    "ImagesFolder = '../../../Poe/Images/Acolyte/S2A_MSIL1C_20180305T230901_N0206_R101_T58KEB_20180306T00234_bisAco/S2A_MSI_2018_03_05_23_09_01_T58KEB_L2R_tif/'\n",
    "raster_wavelength = ['560']\n",
    "raster_Name = ['rhos_' + l + '.tif' for l in raster_wavelength]\n",
    "\n",
    "src_ds = gdal.Open(ImagesFolder+raster_Name[0], gdal.GA_ReadOnly)\n",
    "band = src_ds.GetRasterBand(1)\n",
    "GT_ds = src_ds.GetGeoTransform()\n",
    "proj = src_ds.GetProjection()\n",
    "RasterHeight, RasterWidth = (src_ds.RasterYSize, src_ds.RasterXSize)\n",
    "print(RasterHeight, RasterWidth)"
   ]
  },
  {
   "cell_type": "markdown",
   "metadata": {},
   "source": [
    "## Define Rasters footprint"
   ]
  },
  {
   "cell_type": "code",
   "execution_count": 3,
   "metadata": {},
   "outputs": [
    {
     "name": "stdout",
     "output_type": "stream",
     "text": [
      "Upper left corner :  (164.99980652185837, -21.791778063706154) \n",
      "Lower right corner :  (166.0548316017674, -20.79645641405817)\n"
     ]
    }
   ],
   "source": [
    "# Define Raster Footprint\n",
    "min_x = GT_ds[0]\n",
    "min_y = GT_ds[3] + RasterWidth*GT_ds[4] + RasterHeight*GT_ds[5] \n",
    "max_x = GT_ds[0] + RasterWidth*GT_ds[1] + RasterHeight*GT_ds[2]\n",
    "max_y = GT_ds[3]   \n",
    "\n",
    "srs_ds = osr.SpatialReference()\n",
    "srs_ds.ImportFromWkt(src_ds.GetProjection())\n",
    "\n",
    "srsLatLong = srs_ds.CloneGeogCS()\n",
    "ct_ds = osr.CoordinateTransformation(srs_ds,srsLatLong)\n",
    "\n",
    "min_E, min_N = ct_ds.TransformPoint(min_x, min_y)[:2]\n",
    "max_E, max_N = ct_ds.TransformPoint(max_x, max_y)[:2]\n",
    "\n",
    "print('Upper left corner : ', (min_E, min_N), '\\nLower right corner : ', (max_E, max_N))\n"
   ]
  },
  {
   "cell_type": "markdown",
   "metadata": {},
   "source": [
    "## Get surveyfiles (ascii), having measurement contained in rasters footprint"
   ]
  },
  {
   "cell_type": "code",
   "execution_count": 4,
   "metadata": {},
   "outputs": [
    {
     "name": "stdout",
     "output_type": "stream",
     "text": [
      "Selected_xml :\n",
      "S195800800-01.object.xml\n",
      "S195800800-02.object.xml\n",
      "S195800800-03.object.xml\n",
      "S195800800-11.object.xml\n",
      "S196001200-1.object.xml\n",
      "S196101400-3.object.xml\n",
      "S196101500-1.object.xml\n",
      "S196101500-2.object.xml\n",
      "S196101500-3-1.object.xml\n",
      "S196101500-3-2.object.xml\n",
      "S196101500-4.object.xml\n",
      "S196101500-5.object.xml\n",
      "S196101500-6.object.xml\n",
      "S196101500-7.object.xml\n",
      "S196302000-10.object.xml\n",
      "S196302000-11.object.xml\n",
      "S196302000-16.object.xml\n",
      "S196302000-17.object.xml\n",
      "S196302000-19.object.xml\n",
      "S196302000-20.object.xml\n",
      "S196302000-21.object.xml\n",
      "S196302000-22.object.xml\n",
      "S196302000-23.object.xml\n",
      "S196302000-24.object.xml\n",
      "S196302000-25.object.xml\n",
      "S196302000-29.object.xml\n",
      "S196302000-30.object.xml\n",
      "S196302000-31.object.xml\n",
      "S196500900-1.object.xml\n",
      "S196500900-2.object.xml\n",
      "S196500900-3.object.xml\n",
      "S196500900-4.object.xml\n",
      "S196500900-5.object.xml\n",
      "S196500900-6.object.xml\n",
      "S196500900-9.object.xml\n",
      "S196600600-1.object.xml\n",
      "S196600800-1.object.xml\n",
      "S196600800-2.object.xml\n",
      "S196701100-1.object.xml\n",
      "S196801000-1.object.xml\n",
      "S196801000-2.object.xml\n",
      "S196801000-3.object.xml\n",
      "S196801000-4.object.xml\n",
      "S196801000-7.object.xml\n",
      "S196801000-8.object.xml\n",
      "S196801000-9.object.xml\n",
      "S198401000-1.object.xml\n",
      "S198402200-1.object.xml\n",
      "S198402200-2.object.xml\n",
      "S198600900-129.object.xml\n",
      "S198600900-130.object.xml\n",
      "S198600900-131.object.xml\n",
      "S198600900-132.object.xml\n",
      "S198600900-133.object.xml\n",
      "S198602100-01.object.xml\n",
      "S198602100-02.object.xml\n",
      "S198602100-03.object.xml\n",
      "S198602100-04.object.xml\n",
      "S198602100-05.object.xml\n",
      "S198602100-06.object.xml\n",
      "S198602100-07.object.xml\n",
      "S198602100-08.object.xml\n",
      "S198602100-09.object.xml\n",
      "S198602100-10.object.xml\n",
      "S198602100-11.object.xml\n",
      "S198602100-12.object.xml\n",
      "S198602900-04.object.xml\n",
      "S198602900-05.object.xml\n",
      "S198602900-06.object.xml\n",
      "S198602900-18.object.xml\n",
      "S198602900-19.object.xml\n",
      "S198602900-20.object.xml\n",
      "S198602900-21.object.xml\n",
      "S198602900-22.object.xml\n",
      "S198602900-23.object.xml\n",
      "S198602900-24.object.xml\n",
      "S198602900-25.object.xml\n",
      "S198803000-1.object.xml\n",
      "S198803000-10.object.xml\n",
      "S198803000-11.object.xml\n",
      "S198803000-2.object.xml\n",
      "S198803000-3.object.xml\n",
      "S198803000-4.object.xml\n",
      "S198803000-5.object.xml\n",
      "S198803000-9.object.xml\n",
      "S198902400-01.object.xml\n",
      "S198902400-02.object.xml\n",
      "S198902400-03.object.xml\n",
      "S198902400-04.object.xml\n",
      "S198902400-05.object.xml\n",
      "S198902400-06.object.xml\n",
      "S198902400-07.object.xml\n",
      "S198902400-08.object.xml\n",
      "S198902400-09.object.xml\n",
      "S198902400-10.object.xml\n",
      "S198902400-11.object.xml\n",
      "S198902400-12.object.xml\n",
      "S198902400-13.object.xml\n",
      "S198902400-14.object.xml\n",
      "S198902400-15.object.xml\n",
      "S198902400-16.object.xml\n",
      "S199107700-1.object.xml\n",
      "S199107700-2.object.xml\n",
      "S199107700-3.object.xml\n",
      "S199202500-1.object.xml\n",
      "S199202500-2.object.xml\n",
      "S199202500-3.object.xml\n",
      "S199202500-4.object.xml\n",
      "S199203800-1.object.xml\n",
      "S199203800-2.object.xml\n",
      "S199203800-3.object.xml\n",
      "S199203800-4.object.xml\n",
      "S199207200-04.object.xml\n",
      "S199207200-06.object.xml\n",
      "S199207200-07.object.xml\n",
      "S199207200-08.object.xml\n",
      "S199207200-11.object.xml\n",
      "S199207200-12.object.xml\n",
      "S199207200-16.object.xml\n",
      "S199207200-17.object.xml\n",
      "S199207200-19.object.xml\n",
      "S199207200-20.object.xml\n",
      "S199207300-1.object.xml\n",
      "S199301900-1.object.xml\n",
      "S199401700-1.object.xml\n",
      "S199401700-2.object.xml\n",
      "S199401800-1.object.xml\n",
      "S199401800-2.object.xml\n",
      "S200004800-1.object.xml\n",
      "S201101400-1.object.xml\n",
      "S201101400-2.object.xml\n",
      "S201101400-3.object.xml\n",
      "S201200100-1.object.xml\n",
      "S201200100-2.object.xml\n",
      "S201200100-3.object.xml\n",
      "S201200500-1.object.xml\n",
      "S201200500-2.object.xml\n",
      "S201200500-3.object.xml\n"
     ]
    }
   ],
   "source": [
    "# Select xml datafiles following common extent\n",
    "RePath_xmlDirectory = '../../../Data_SHOM/Global'\n",
    "TimeThres = 1950\n",
    "#%timeit mgp.GetXml_byFootprint(RePath_xmlDirectory,(min_E, max_E), (min_N, max_N))\n",
    "#%timeit mgp.GetXml_byFootprint2(RePath_xmlDirectory, min_E, max_E, min_N, max_N)\n",
    "Selected_xml, LoopCount, count = mgp.GetXml_byFootprint(RePath_xmlDirectory,(min_E, max_E), (min_N, max_N), FromYear=TimeThres)\n",
    "print('Selected_xml :')\n",
    "[print(xml) for xml in Selected_xml]\n",
    "# Select xml datafiles following maximum depth\n",
    "Upto = 20\n",
    "Set , Count, failedXml = mgp.GetSurvey_byDepthFP(Selected_xml, RePath_xmlDirectory,(min_E, max_E), (min_N, max_N), max_Depth=Upto)\n",
    "assert np.sum(Count) == Set[1].shape[0]"
   ]
  },
  {
   "cell_type": "markdown",
   "metadata": {},
   "source": [
    "##  Convert measurements coordinate in pixels coordinate (+ checking process)"
   ]
  },
  {
   "cell_type": "code",
   "execution_count": 5,
   "metadata": {},
   "outputs": [
    {
     "name": "stdout",
     "output_type": "stream",
     "text": [
      "no int\n",
      "Center 10979.5091234 10979.4685216\n",
      "UpperLeft 10979.0128596 10979.0156563\n",
      "LowerRight 10979.9925083 10979.9899339\n",
      "PreviousNext 10978.9757872 10979.444926\n",
      "with int\n",
      "Number of point with negative depth : 56\n"
     ]
    }
   ],
   "source": [
    "testLocation = np.array([[166.0618842, -21.7883184],\n",
    "                         [166.0618359, -21.7882778],\n",
    "                         [166.0619313, -21.7883652],\n",
    "                         [166.0618326, -21.7883166]])\n",
    "\n",
    "# Define pixel location of measured data\n",
    "ctInv = osr.CoordinateTransformation(srsLatLong, srs_ds)\n",
    "inv_geometrix = gdal.InvGeoTransform(GT_ds)\n",
    "(Px, Py) = mgp.GetPixel(ctInv, inv_geometrix, testLocation,integer=False)\n",
    "Location = ['Center', 'UpperLeft', 'LowerRight','PreviousNext']\n",
    "[print(Loc, pxx, pyy) for Loc, pxx, pyy in zip(Location, Px,Py)]\n",
    "\n",
    "px, py = mgp.GetPixel(ctInv, inv_geometrix, Set[1])\n",
    "\n",
    "# Height of tide from SHOM\n",
    "TideHeight = 1.31\n",
    "\n",
    "# filter measured data projected outside image extent\n",
    "indexOut = np.logical_or(np.logical_or(py>RasterHeight-1,py<0), np.logical_or(px>RasterWidth-1,px<0))\n",
    "px, py = px[~indexOut], py[~indexOut]\n",
    "depth=Set[2][~indexOut]+TideHeight\n",
    "\n",
    "# filter measured data with negative depth (due to tide)\n",
    "indexOut = depth<0\n",
    "print('Number of point with negative depth :', np.sum(indexOut))\n",
    "px, py = px[~indexOut], py[~indexOut]\n",
    "depth = depth[~indexOut]"
   ]
  },
  {
   "cell_type": "code",
   "execution_count": null,
   "metadata": {},
   "outputs": [],
   "source": [
    "npzfile = np.load('../../../Poe/CompressedData/TrainMatrix.npz')\n",
    "\n",
    "\n",
    "ClassifCroppedIndex = npzfile['CroppedIndex']\n",
    "ClassifCroppedIndex.shape\n",
    "\n"
   ]
  },
  {
   "cell_type": "code",
   "execution_count": 7,
   "metadata": {},
   "outputs": [
    {
     "data": {
      "text/plain": [
       "<matplotlib.image.AxesImage at 0x109b65c0>"
      ]
     },
     "execution_count": 7,
     "metadata": {},
     "output_type": "execute_result"
    },
    {
     "data": {
      "image/png": "[encoded data removed]",
      "text/plain": [
       "<matplotlib.figure.Figure at 0xd89d2e8>"
      ]
     },
     "metadata": {},
     "output_type": "display_data"
    }
   ],
   "source": [
    "Lagoon = 'Mask/Lagoon.tif'\n",
    "\n",
    "ClassifIndex = gdal.Open(ImagesFolder + Lagoon, gdal.GA_ReadOnly)\n",
    "ClassifIndex = ClassifIndex.GetRasterBand(1).ReadAsArray().astype(bool)\n",
    "plt.imshow(ClassifIndex)"
   ]
  },
  {
   "cell_type": "markdown",
   "metadata": {},
   "source": [
    "# WARNING : Special case from Poe, get globalImageIndex from CroppedImageIndex"
   ]
  },
  {
   "cell_type": "code",
   "execution_count": null,
   "metadata": {},
   "outputs": [],
   "source": [
    "WorkingIndex = np.full((RasterHeight, RasterWidth), False, np.bool)\n",
    "WorkingIndex[5000:,0:8500] = CroppedIndex\n",
    "WorkingIndex.shape # Simple False/True matrix where cropped area is True"
   ]
  },
  {
   "cell_type": "code",
   "execution_count": 8,
   "metadata": {},
   "outputs": [],
   "source": [
    "# Create sub (2d) index for measured pixel\n",
    "SurveyIndex = np.full(ClassifIndex.shape, 0, dtype=np.int8)\n",
    "Dicto = {}\n",
    "for i in range(len(px)):\n",
    "    try:\n",
    "        if ClassifIndex[py[i],px[i]] == False:\n",
    "            continue\n",
    "        SurveyIndex[py[i],px[i]] += 1\n",
    "        if SurveyIndex[py[i],px[i]] == 1:\n",
    "            Dicto[(py[i],px[i])] = [depth[i]]\n",
    "        else:\n",
    "            Dicto[(py[i],px[i])].append(depth[i])\n",
    "    except:\n",
    "        print(i)"
   ]
  },
  {
   "cell_type": "code",
   "execution_count": 9,
   "metadata": {
    "collapsed": true
   },
   "outputs": [],
   "source": [
    "SurveyValues = np.full(ClassifIndex.shape, np.NaN, dtype= np.float_)\n",
    "SurveyVariance = np.full(ClassifIndex.shape, np.NaN, dtype= np.float_)\n",
    "for i, j  in Dicto.keys():\n",
    "    SurveyValues[i, j] = np.mean(Dicto[(i, j)])\n",
    "    SurveyVariance[i, j] = np.std(Dicto[(i, j)])"
   ]
  },
  {
   "cell_type": "markdown",
   "metadata": {},
   "source": [
    "# Warning changes"
   ]
  },
  {
   "cell_type": "code",
   "execution_count": 10,
   "metadata": {},
   "outputs": [
    {
     "data": {
      "text/plain": [
       "(10980, 10980, 10)"
      ]
     },
     "execution_count": 10,
     "metadata": {},
     "output_type": "execute_result"
    }
   ],
   "source": [
    "npzfile = np.load('../../../Poe/CompressedData/SRXData.npz')\n",
    "\n",
    "Xc = npzfile['Ratios'] # croped shape\n",
    "RatiosKeys = npzfile['Keys'] # croped shape\n",
    "\n",
    "X = np.full((RasterHeight, RasterWidth, Xc.shape[2]), np.nan)\n",
    "ValidMap = np.full((RasterHeight, RasterWidth), False)\n",
    "\n",
    "X[5000:,0:8500,:] = Xc[:,:,:]\n",
    "ValidMap[5000:,0:8500] = True\n",
    "del Xc\n",
    "\n",
    "ToclassifyIndex = np.logical_and(ValidMap,ClassifIndex)\n",
    "X.shape"
   ]
  },
  {
   "cell_type": "code",
   "execution_count": 11,
   "metadata": {},
   "outputs": [
    {
     "data": {
      "text/plain": [
       "<matplotlib.image.AxesImage at 0xef31ef0>"
      ]
     },
     "execution_count": 11,
     "metadata": {},
     "output_type": "execute_result"
    },
    {
     "data": {
      "image/png": "[encoded data removed]",
      "text/plain": [
       "<matplotlib.figure.Figure at 0xd627390>"
      ]
     },
     "metadata": {},
     "output_type": "display_data"
    }
   ],
   "source": [
    "ShapeFolder = '../../../Poe/Shapes/'\n",
    "RoiPathName = 'SheratonLagoon.shp'\n",
    "\n",
    "ResctictedLagoon = mgp.create_mask_from_vector(ShapeFolder + RoiPathName,  RasterHeight, RasterWidth, GT_ds, proj, target_value=1, format=gdal.GDT_Byte)\n",
    "ResctictedLagoon = ResctictedLagoon.GetRasterBand(1).ReadAsArray().astype(bool)\n",
    "plt.imshow(ResctictedLagoon)"
   ]
  },
  {
   "cell_type": "code",
   "execution_count": 12,
   "metadata": {},
   "outputs": [
    {
     "name": "stdout",
     "output_type": "stream",
     "text": [
      "Nombre de pixel comportant une mesure : 115\n"
     ]
    },
    {
     "data": {
      "image/png": "[encoded data removed]",
      "text/plain": [
       "<matplotlib.figure.Figure at 0x10778cc0>"
      ]
     },
     "metadata": {},
     "output_type": "display_data"
    }
   ],
   "source": [
    "x,y = np.where(np.logical_and(ResctictedLagoon[8800:9400,3500:4650],SurveyIndex[8800:9400,3500:4650]>0))\n",
    "ind = ResctictedLagoon[8800:9400,3500:4650]\n",
    "fig = plt.figure(figsize=(50,50))\n",
    "plt.imshow(ind)\n",
    "plt.scatter(y,x,s=80, c='r')\n",
    "print(\"Nombre de pixel comportant une mesure :\",len(x))"
   ]
  },
  {
   "cell_type": "code",
   "execution_count": 13,
   "metadata": {
    "collapsed": true
   },
   "outputs": [],
   "source": [
    "ind = ResctictedLagoon * (SurveyIndex>0)\n",
    "Data_x = X[ind,:]\n",
    "Data_y = SurveyValues[ind].reshape(np.sum(ind),)"
   ]
  },
  {
   "cell_type": "code",
   "execution_count": 14,
   "metadata": {
    "collapsed": true
   },
   "outputs": [],
   "source": [
    "del X"
   ]
  },
  {
   "cell_type": "code",
   "execution_count": null,
   "metadata": {},
   "outputs": [],
   "source": [
    "str(RatiosKeys)\n"
   ]
  },
  {
   "cell_type": "code",
   "execution_count": null,
   "metadata": {},
   "outputs": [],
   "source": [
    "for i in range(Data_x.shape[1]):\n",
    "    print(str(RatiosKeys[i]),'correlation : ',np.corrcoef(Data_x[:,i],Data_y)[0,1])\n",
    "    print(\"=\"*10)\n",
    "\n",
    "mgp.plot_ResRegPlots(Data_x, Data_y, Scale=True, SetTitles=False, Titles=RatiosKeys)"
   ]
  },
  {
   "cell_type": "code",
   "execution_count": null,
   "metadata": {},
   "outputs": [],
   "source": [
    "fig, axes = plt.subplots(2,5, figsize=(20, 8))\n",
    "for i, ax in enumerate(fig.axes):\n",
    "    ax.scatter(Data_x[:,i],Data_y, s=4)\n",
    "    ax.set_title('Band  ' + str(RatiosKeys[i]))\n",
    "    ax.set_ylabel('Depth')\n",
    "    ax.set_xlabel('Optical Signal')"
   ]
  },
  {
   "cell_type": "code",
   "execution_count": null,
   "metadata": {
    "collapsed": true
   },
   "outputs": [],
   "source": [
    "x = Data_x\n",
    "y = Data_y"
   ]
  },
  {
   "cell_type": "code",
   "execution_count": null,
   "metadata": {},
   "outputs": [],
   "source": [
    "from scipy import stats\n",
    "used_x = Data_x[:,1].reshape(len(y),)\n",
    "plt.scatter(used_x,y)\n",
    "buffer = np.array(stats.linregress(used_x,y)[:])\n",
    "Interval = np.array([np.min(x),np.max(x)])\n",
    "plt.plot(Interval, Interval*buffer[0]+buffer[1], c='k')\n",
    "plt.xlabel('Optical Signal')\n",
    "plt.ylabel('predicted Depth')\n"
   ]
  },
  {
   "cell_type": "markdown",
   "metadata": {},
   "source": [
    "# Huber Regression"
   ]
  },
  {
   "cell_type": "code",
   "execution_count": null,
   "metadata": {},
   "outputs": [],
   "source": [
    "lr = linear_model.RidgeCV(cv=115,fit_intercept=True, alphas= (10 ,0.1))\n",
    "\n",
    "# cross_val_predict returns an array of the same size as `y` where each entry\n",
    "# is a prediction obtained by cross validation:\n",
    "predicted = lr.fit(x, y).predict(x)\n",
    "\n",
    "fig, ax = plt.subplots()\n",
    "ax.plot([y.min(), y.max()], [y.min(), y.max()], 'k--', lw=1)\n",
    "ax.scatter(y, predicted, s=4)\n",
    "ax.set_xlabel('Measured')\n",
    "ax.set_ylabel('Predicted')\n",
    "ax.set_title('R2 : '+str(r2_score(y, predicted)))\n",
    "plt.show()"
   ]
  },
  {
   "cell_type": "code",
   "execution_count": null,
   "metadata": {},
   "outputs": [],
   "source": [
    "lr.score(x,y)"
   ]
  },
  {
   "cell_type": "markdown",
   "metadata": {},
   "source": [
    "# Simple Crossvalidated Linear model"
   ]
  },
  {
   "cell_type": "code",
   "execution_count": null,
   "metadata": {},
   "outputs": [],
   "source": [
    "lr = linear_model.LinearRegression()\n",
    "\n",
    "# cross_val_predict returns an array of the same size as `y` where each entry\n",
    "# is a prediction obtained by cross validation:\n",
    "#predicted = cross_val_predict(lr, x, y, cv=len(y))\n",
    "predicted = lr.fit(x, y).predict(x)\n",
    "\n",
    "fig, ax = plt.subplots()\n",
    "ax.scatter(y, predicted, edgecolors=(0, 0, 0))\n",
    "ax.plot([y.min(), y.max()], [y.min(), y.max()], 'k--', lw=4)\n",
    "ax.set_xlabel('Measured')\n",
    "ax.set_ylabel('Predicted')\n",
    "ax.set_title('R2 : '+str(r2_score(y, predicted)))\n",
    "plt.show()"
   ]
  },
  {
   "cell_type": "markdown",
   "metadata": {},
   "source": [
    "# Cross Validated RANSAC"
   ]
  },
  {
   "cell_type": "code",
   "execution_count": null,
   "metadata": {},
   "outputs": [],
   "source": [
    "loo = LeaveOneOut()\n",
    "loo.get_n_splits(x)\n",
    "predicted = np.full(y.shape,np.nan, np.float)\n",
    "inlierMat = np.full((y.shape[0], 1, len(y)),np.nan, np.float)\n",
    "#lr = linear_model.RANSACRegressor(min_samples=0.9, max_trials=100000, residual_threshold=0.4,stop_probability=0.999)\n",
    "lr = linear_model.RANSACRegressor(min_samples=0.5, residual_threshold=0.2)\n",
    "counterCheck = 0\n",
    "\n",
    "\n",
    "for train_index, test_index in loo.split(x):\n",
    "    lr.fit(x[train_index], y[train_index])\n",
    "    predicted[test_index] = lr.predict(x[test_index])\n",
    "    inlierMat[train_index, 0, counterCheck] = lr.inlier_mask_\n",
    "    counterCheck = counterCheck + 1\n",
    "    \n",
    "col = np.nansum(inlierMat, axis=2)\n",
    "fig, ax = plt.subplots(figsize=(15,15))\n",
    "im = ax.scatter(y, predicted,c=col, cmap='jet')\n",
    "plt.colorbar(im)\n",
    "ax.plot([y.min(), y.max()], [y.min(), y.max()], 'k--', lw=4)\n",
    "ax.set_xlabel('Measured')\n",
    "ax.set_ylabel('Predicted')\n",
    "ax.set_title('R2 : '+str(r2_score(y, predicted)))\n",
    "plt.show()"
   ]
  },
  {
   "cell_type": "markdown",
   "metadata": {},
   "source": [
    "# TheilSenRegressor"
   ]
  },
  {
   "cell_type": "code",
   "execution_count": null,
   "metadata": {},
   "outputs": [],
   "source": [
    "loo = LeaveOneOut()\n",
    "loo.get_n_splits(x)\n",
    "predicted = np.full(y.shape,np.nan, np.float)\n",
    "lr = linear_model.TheilSenRegressor()\n",
    "counterCheck = 0\n",
    "\n",
    "for train_index, test_index in loo.split(x):\n",
    "    lr.fit(x[train_index], y[train_index])\n",
    "    predicted[test_index] = lr.predict(x[test_index])\n",
    "    counterCheck = counterCheck + 1\n",
    "    \n",
    "fig, ax = plt.subplots()\n",
    "im = ax.scatter(y, predicted, edgecolors=(0, 0, 0))\n",
    "ax.plot([y.min(), y.max()], [y.min(), y.max()], 'k--', lw=4)\n",
    "ax.set_xlabel('Measured')\n",
    "ax.set_ylabel('Predicted')\n",
    "plt.show()"
   ]
  },
  {
   "cell_type": "markdown",
   "metadata": {},
   "source": [
    "# RANSAC Whithout cross validation"
   ]
  },
  {
   "cell_type": "code",
   "execution_count": null,
   "metadata": {},
   "outputs": [],
   "source": [
    "lr = linear_model.RANSACRegressor(min_samples=0.9, max_trials=100000, residual_threshold=0.4,stop_probability=0.999)\n",
    "\n",
    "\n",
    "# cross_val_predict returns an array of the same size as `y` where each entry\n",
    "# is a prediction obtained by cross validation:\n",
    "predicted = lr.fit(x, y).predict(x)\n",
    "\n",
    "fig, ax = plt.subplots()\n",
    "ax.plot([y.min(), y.max()], [y.min(), y.max()], 'k--', lw=1)\n",
    "ax.scatter(y, predicted, c=lr.inlier_mask_, s=4)\n",
    "ax.set_xlabel('Measured')\n",
    "ax.set_ylabel('Predicted')\n",
    "plt.show()"
   ]
  },
  {
   "cell_type": "code",
   "execution_count": null,
   "metadata": {},
   "outputs": [],
   "source": [
    "xIm,yIm = np.where(np.logical_and(ResctictedLagoon[8800:9400,3500:4650],SurveyIndex[8800:9400,3500:4650]>0))\n",
    "y = SurveyValues[ind].reshape(np.sum(ind),)\n",
    "plotInd = (col>5).reshape(len(y),)\n",
    "ind = ResctictedLagoon[8800:9400,3500:4650]\n",
    "fig = plt.figure(figsize=(50,50))\n",
    "plt.imshow(ind)\n",
    "plt.scatter(yIm[plotInd],xIm[plotInd],s=80, c='b')\n",
    "plt.scatter(yIm[~plotInd],xIm[~plotInd],s=80, c='r')\n",
    "print(\"Nombre de point extreme :\",np.sum(~plotInd))"
   ]
  },
  {
   "cell_type": "code",
   "execution_count": null,
   "metadata": {
    "collapsed": true
   },
   "outputs": [],
   "source": [
    "testImage = testImage[8800:9400,3500:4650]**0.4"
   ]
  },
  {
   "cell_type": "code",
   "execution_count": null,
   "metadata": {
    "collapsed": true
   },
   "outputs": [],
   "source": [
    "xIm,yIm = np.where(np.logical_and(ResctictedLagoon[8800:9400,3500:4650],SurveyIndex[8800:9400,3500:4650]>0))\n",
    "fig = plt.figure(figsize=(50,50))\n",
    "plt.imshow(testImage)\n",
    "plt.scatter(yIm,xIm,s=80, c='r')"
   ]
  }
 ],
 "metadata": {
  "kernelspec": {
   "display_name": "Python 3",
   "language": "python",
   "name": "python3"
  },
  "language_info": {
   "codemirror_mode": {
    "name": "ipython",
    "version": 3
   },
   "file_extension": ".py",
   "mimetype": "text/x-python",
   "name": "python",
   "nbconvert_exporter": "python",
   "pygments_lexer": "ipython3",
   "version": "3.6.1"
  }
 },
 "nbformat": 4,
 "nbformat_minor": 2
}
