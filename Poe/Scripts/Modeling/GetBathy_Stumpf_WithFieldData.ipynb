{
 "cells": [
  {
   "cell_type": "code",
   "execution_count": 2,
   "metadata": {},
   "outputs": [],
   "source": [
    "%matplotlib inline\n",
    "\n",
    "import sys\n",
    "import os\n",
    "sys.path.append(\"../../..\")\n",
    "\n",
    "import numpy as np\n",
    "import re\n",
    "import pandas as pd\n",
    "\n",
    "import matplotlib as mpl\n",
    "import matplotlib.pyplot as plt\n",
    "import matplotlib.image as mpimg\n",
    "from skimage import exposure, img_as_float, morphology, color\n",
    "from skimage.measure import label\n",
    "from sklearn.model_selection import KFold\n",
    "from PIL import Image\n",
    "import xml.etree.ElementTree as ET\n",
    "\n",
    "from osgeo import gdal\n",
    "import osr\n",
    "import my_packages.My_Geoprocess as mgp\n",
    "\n",
    "from sklearn.model_selection import cross_val_predict\n",
    "from sklearn import linear_model\n",
    "from sklearn.model_selection import LeaveOneOut\n",
    "from sklearn.metrics import r2_score\n"
   ]
  },
  {
   "cell_type": "markdown",
   "metadata": {},
   "source": [
    "## Get Rasters Informations, size, Geotransform... following one of the grid"
   ]
  },
  {
   "cell_type": "code",
   "execution_count": 3,
   "metadata": {},
   "outputs": [
    {
     "ename": "AttributeError",
     "evalue": "'NoneType' object has no attribute 'GetRasterBand'",
     "output_type": "error",
     "traceback": [
      "\u001b[0;31m---------------------------------------------------------------------------\u001b[0m",
      "\u001b[0;31mAttributeError\u001b[0m                            Traceback (most recent call last)",
      "\u001b[0;32m<ipython-input-3-4953ba510c85>\u001b[0m in \u001b[0;36m<module>\u001b[0;34m()\u001b[0m\n\u001b[1;32m      5\u001b[0m \u001b[0;34m\u001b[0m\u001b[0m\n\u001b[1;32m      6\u001b[0m \u001b[0msrc_ds\u001b[0m \u001b[0;34m=\u001b[0m \u001b[0mgdal\u001b[0m\u001b[0;34m.\u001b[0m\u001b[0mOpen\u001b[0m\u001b[0;34m(\u001b[0m\u001b[0mImagesFolder\u001b[0m\u001b[0;34m+\u001b[0m\u001b[0mraster_Name\u001b[0m\u001b[0;34m[\u001b[0m\u001b[0;36m0\u001b[0m\u001b[0;34m]\u001b[0m\u001b[0;34m,\u001b[0m \u001b[0mgdal\u001b[0m\u001b[0;34m.\u001b[0m\u001b[0mGA_ReadOnly\u001b[0m\u001b[0;34m)\u001b[0m\u001b[0;34m\u001b[0m\u001b[0m\n\u001b[0;32m----> 7\u001b[0;31m \u001b[0mband\u001b[0m \u001b[0;34m=\u001b[0m \u001b[0msrc_ds\u001b[0m\u001b[0;34m.\u001b[0m\u001b[0mGetRasterBand\u001b[0m\u001b[0;34m(\u001b[0m\u001b[0;36m1\u001b[0m\u001b[0;34m)\u001b[0m\u001b[0;34m\u001b[0m\u001b[0m\n\u001b[0m\u001b[1;32m      8\u001b[0m \u001b[0mGT_ds\u001b[0m \u001b[0;34m=\u001b[0m \u001b[0msrc_ds\u001b[0m\u001b[0;34m.\u001b[0m\u001b[0mGetGeoTransform\u001b[0m\u001b[0;34m(\u001b[0m\u001b[0;34m)\u001b[0m\u001b[0;34m\u001b[0m\u001b[0m\n\u001b[1;32m      9\u001b[0m \u001b[0mproj\u001b[0m \u001b[0;34m=\u001b[0m \u001b[0msrc_ds\u001b[0m\u001b[0;34m.\u001b[0m\u001b[0mGetProjection\u001b[0m\u001b[0;34m(\u001b[0m\u001b[0;34m)\u001b[0m\u001b[0;34m\u001b[0m\u001b[0m\n",
      "\u001b[0;31mAttributeError\u001b[0m: 'NoneType' object has no attribute 'GetRasterBand'"
     ]
    }
   ],
   "source": [
    "ClassifFolder = '../../../Poe/Resultats/Classifications/'\n",
    "ImagesFolder = '../../../Poe/Images/Acolyte/S2A_MSIL1C_20180305T230901_N0206_R101_T58KEB_20180306T00234_bisAco/S2A_MSI_2018_03_05_23_09_01_T58KEB_L2R_tif/'\n",
    "raster_wavelength = ['560']\n",
    "raster_Name = ['rhos_' + l + '.tif' for l in raster_wavelength]\n",
    "\n",
    "src_ds = gdal.Open(ImagesFolder+raster_Name[0], gdal.GA_ReadOnly)\n",
    "band = src_ds.GetRasterBand(1)\n",
    "GT_ds = src_ds.GetGeoTransform()\n",
    "proj = src_ds.GetProjection()\n",
    "RasterHeight, RasterWidth = (src_ds.RasterYSize, src_ds.RasterXSize)\n",
    "print(RasterHeight, RasterWidth)"
   ]
  },
  {
   "cell_type": "markdown",
   "metadata": {},
   "source": [
    "## Define Rasters footprint"
   ]
  },
  {
   "cell_type": "code",
   "execution_count": 11,
   "metadata": {},
   "outputs": [
    {
     "name": "stdout",
     "output_type": "stream",
     "text": [
      "Upper left corner :  (164.99980652185837, -21.791778063706154) \n",
      "Lower right corner :  (166.0548316017674, -20.79645641405817)\n"
     ]
    }
   ],
   "source": [
    "# Define Raster Footprint\n",
    "min_x = GT_ds[0]\n",
    "min_y = GT_ds[3] + RasterWidth*GT_ds[4] + RasterHeight*GT_ds[5] \n",
    "max_x = GT_ds[0] + RasterWidth*GT_ds[1] + RasterHeight*GT_ds[2]\n",
    "max_y = GT_ds[3]   \n",
    "\n",
    "srs_ds = osr.SpatialReference()\n",
    "srs_ds.ImportFromWkt(src_ds.GetProjection())\n",
    "\n",
    "srsLatLong = srs_ds.CloneGeogCS()\n",
    "ct_ds = osr.CoordinateTransformation(srs_ds,srsLatLong)\n",
    "\n",
    "min_E, min_N = ct_ds.TransformPoint(min_x, min_y)[:2]\n",
    "max_E, max_N = ct_ds.TransformPoint(max_x, max_y)[:2]\n",
    "\n",
    "print('Upper left corner : ', (min_E, min_N), '\\nLower right corner : ', (max_E, max_N))\n"
   ]
  },
  {
   "cell_type": "markdown",
   "metadata": {},
   "source": [
    "## Get surveyfiles (ascii), having measurement contained in rasters footprint"
   ]
  },
  {
   "cell_type": "code",
   "execution_count": 12,
   "metadata": {},
   "outputs": [],
   "source": [
    "FileWorkableSur = '../../Terrain/MesuresBathy/Poe_22and23_05_2018.txt'\n",
    "\n",
    "MeasurementFrame = pd.read_csv(FileWorkableSur)\n",
    "Lon = MeasurementFrame['Lon'].astype('float64').values\n",
    "Lat = MeasurementFrame['Lat'].astype('float64').values\n",
    "\n",
    "CoordinatesSet = np.stack([Lon,Lat], axis=1)\n",
    "depth = MeasurementFrame['Depth'].astype('float32').values\n",
    "\n",
    "del MeasurementFrame, Lon, Lat"
   ]
  },
  {
   "cell_type": "markdown",
   "metadata": {},
   "source": [
    "##  Convert measurements coordinate in pixels coordinate (+ checking process)"
   ]
  },
  {
   "cell_type": "code",
   "execution_count": 13,
   "metadata": {},
   "outputs": [
    {
     "name": "stdout",
     "output_type": "stream",
     "text": [
      "no int\n",
      "Center at Row: 10979.4685216 , Col: 10979.5091234\n",
      "UpperLeft at Row: 10979.0156563 , Col: 10979.0128596\n",
      "UpperRight at Row: 10979.0224421 , Col: 10979.999165\n",
      "LowerRight at Row: 10979.9899339 , Col: 10979.9925083\n",
      "PreviousNext at Row: 10979.444926 , Col: 10978.9757872\n",
      "no int\n",
      "Number of point with negative depth : 0\n"
     ]
    }
   ],
   "source": [
    "testLocation = np.array([[166.0618842, -21.7883184],\n",
    "                         [166.0618359, -21.7882778],\n",
    "                         [166.0619313, -21.7882778],\n",
    "                         [166.0619313, -21.7883652],\n",
    "                         [166.0618326, -21.7883166]])\n",
    "\n",
    "# Define pixel location of measured data\n",
    "ctInv = osr.CoordinateTransformation(srsLatLong, srs_ds)\n",
    "inv_geometrix = gdal.InvGeoTransform(GT_ds)\n",
    "(Cols, Rows) = mgp.GetPixel(ctInv, inv_geometrix, testLocation,integer=False)\n",
    "Location = ['Center', 'UpperLeft', 'UpperRight', 'LowerRight','PreviousNext']\n",
    "[print(Loc,'at Row:', row,', Col:', col) for Loc, col, row in zip(Location, Cols,Rows)]\n",
    "\n",
    "# Project coordinates in pixel coordinates then filter measured data projected outside image extent\n",
    "px, py = mgp.GetPixel(ctInv, inv_geometrix, CoordinatesSet,integer=False) # Case for dense field data, need interger=False for wheigtering or interpolation\n",
    "indexOut = np.logical_or(np.logical_or(py>RasterHeight-1,py<0), np.logical_or(px>RasterWidth-1,px<0))\n",
    "px, py = px[~indexOut], py[~indexOut]\n",
    "\n",
    "# Adjust water depth following the Tide at the image sensor Time\n",
    "TideHeight = 1.31 # Height of tide from SHOM website\n",
    "depth = depth[~indexOut]+TideHeight\n",
    "\n",
    "# filter measured data with negative depth (due to tide)\n",
    "indexOut = depth<0\n",
    "print('Number of point with negative depth :', np.sum(indexOut))\n",
    "px, py, depth = px[~indexOut], py[~indexOut], depth[~indexOut]\n",
    "assert px.shape==py.shape and px.shape == depth.shape"
   ]
  },
  {
   "cell_type": "code",
   "execution_count": 14,
   "metadata": {},
   "outputs": [
    {
     "data": {
      "text/plain": [
       "<matplotlib.text.Text at 0xe059278>"
      ]
     },
     "execution_count": 14,
     "metadata": {},
     "output_type": "execute_result"
    },
    {
     "data": {
      "image/png": "[encoded data removed]",
      "text/plain": [
       "<matplotlib.figure.Figure at 0x5568198>"
      ]
     },
     "metadata": {},
     "output_type": "display_data"
    }
   ],
   "source": [
    "A = np.array([[True,False,True, False],\n",
    "             [False,False,True, False],\n",
    "             [False,True,False, False]])\n",
    "fig, ax = plt.subplots()\n",
    "row, col = np.where(A)\n",
    "ax.imshow(A)\n",
    "ax.scatter(col, row)\n",
    "ax.set_xlabel('1rst')\n",
    "ax.set_ylabel('second')"
   ]
  },
  {
   "cell_type": "code",
   "execution_count": 15,
   "metadata": {
    "collapsed": true
   },
   "outputs": [],
   "source": [
    "import shapely"
   ]
  },
  {
   "cell_type": "code",
   "execution_count": null,
   "metadata": {
    "collapsed": true
   },
   "outputs": [],
   "source": [
    "shapely."
   ]
  },
  {
   "cell_type": "code",
   "execution_count": 92,
   "metadata": {},
   "outputs": [
    {
     "data": {
      "text/plain": [
       "<function matplotlib.pyplot.show>"
      ]
     },
     "execution_count": 92,
     "metadata": {},
     "output_type": "execute_result"
    },
    {
     "data": {
      "image/png": "[encoded data removed]",
      "text/plain": [
       "<matplotlib.figure.Figure at 0xfeaf470>"
      ]
     },
     "metadata": {},
     "output_type": "display_data"
    }
   ],
   "source": [
    "plt.imshow(A)\n",
    "plt.scatter(px,py)\n",
    "plt.axis('equal')\n",
    "plt.ylim(9200, 8800)\n",
    "plt.xlim(3480, 4220)\n",
    "plt.show"
   ]
  },
  {
   "cell_type": "code",
   "execution_count": 87,
   "metadata": {},
   "outputs": [
    {
     "data": {
      "text/plain": [
       "<matplotlib.collections.PathCollection at 0xf447be0>"
      ]
     },
     "execution_count": 87,
     "metadata": {},
     "output_type": "execute_result"
    },
    {
     "data": {
      "image/png": "[encoded data removed]",
      "text/plain": [
       "<matplotlib.figure.Figure at 0xdcdd0b8>"
      ]
     },
     "metadata": {},
     "output_type": "display_data"
    }
   ],
   "source": [
    "fig, ax = plt.subplots()\n",
    "ax.invert_yaxis()\n",
    "plt.axis('equal')\n",
    "ax.scatter(px,py)\n"
   ]
  },
  {
   "cell_type": "markdown",
   "metadata": {},
   "source": [
    "## Get workingIndex or Index of classification and bathymetry mapping\n",
    "###### In others words :        ClassifIndex = ~Soil x ~DeepOcean x CroppedImage\n",
    "######                                     ClassifIndex.shape == Initial_Rasters.shape"
   ]
  },
  {
   "cell_type": "code",
   "execution_count": 16,
   "metadata": {},
   "outputs": [
    {
     "name": "stdout",
     "output_type": "stream",
     "text": [
      "(10980, 10980)\n"
     ]
    },
    {
     "data": {
      "text/plain": [
       "<matplotlib.image.AxesImage at 0xd7a0dd8>"
      ]
     },
     "execution_count": 16,
     "metadata": {},
     "output_type": "execute_result"
    },
    {
     "data": {
      "image/png": "[encoded data removed]",
      "text/plain": [
       "<matplotlib.figure.Figure at 0xa220c88>"
      ]
     },
     "metadata": {},
     "output_type": "display_data"
    }
   ],
   "source": [
    "Lagoon = 'Mask/Lagoon.tif'\n",
    "\n",
    "ClassifIndex = gdal.Open(ImagesFolder + Lagoon, gdal.GA_ReadOnly)\n",
    "ClassifIndex = ClassifIndex.GetRasterBand(1).ReadAsArray().astype(bool)\n",
    "print(ClassifIndex.shape)\n",
    "plt.imshow(ClassifIndex)"
   ]
  },
  {
   "cell_type": "markdown",
   "metadata": {},
   "source": [
    "## Create index(SurveyIndex) indicating the presence of measurements in a pixel\n",
    "## Create dictionary(Dicto) of depths measured at a pixel location"
   ]
  },
  {
   "cell_type": "code",
   "execution_count": 17,
   "metadata": {
    "collapsed": true
   },
   "outputs": [],
   "source": [
    "# Create sub (2d) index for measured pixel\n",
    "SurveyIndex = np.full(ClassifIndex.shape, 0, dtype=np.int8)\n",
    "DictoDeph = {}\n",
    "DictoPos = {}\n",
    "for i in range(len(px)):\n",
    "    Intpy, Intpx = int(py[i]),int(px[i])\n",
    "    try:\n",
    "        if ClassifIndex[Intpy, Intpx] == False: # Case for Poe int(px)\n",
    "            continue\n",
    "        SurveyIndex[Intpy, Intpx] += 1\n",
    "        if SurveyIndex[Intpy, Intpx] == 1:\n",
    "            DictoDeph[Intpy, Intpx] = []\n",
    "            DictoPos[Intpy, Intpx] = []\n",
    "            DictoDeph[Intpy, Intpx].append(depth[i])\n",
    "            DictoPos[Intpy, Intpx].append([py[i], px[i]])\n",
    "        else:\n",
    "            DictoDeph[Intpy, Intpx].append(depth[i])\n",
    "            DictoPos[Intpy, Intpx].append([py[i], px[i]])\n",
    "    except:\n",
    "        print(i)"
   ]
  },
  {
   "cell_type": "code",
   "execution_count": 150,
   "metadata": {},
   "outputs": [
    {
     "data": {
      "text/plain": [
       "[10.33,\n",
       " 10.5,\n",
       " 10.369999,\n",
       " 10.369999,\n",
       " 10.429998,\n",
       " 10.349998,\n",
       " 10.389999,\n",
       " 10.469999,\n",
       " 10.34,\n",
       " 10.459999,\n",
       " 10.32,\n",
       " 10.379999,\n",
       " 10.389999,\n",
       " 10.369999,\n",
       " 10.379999,\n",
       " 10.4,\n",
       " 10.389999,\n",
       " 10.389999,\n",
       " 10.359999,\n",
       " 10.41,\n",
       " 10.369999,\n",
       " 10.349998,\n",
       " 10.379999,\n",
       " 10.369999,\n",
       " 10.34,\n",
       " 10.359999,\n",
       " 10.359999,\n",
       " 10.439999,\n",
       " 10.41,\n",
       " 10.439999,\n",
       " 10.439999,\n",
       " 10.429998,\n",
       " 10.429998,\n",
       " 10.439999,\n",
       " 10.439999,\n",
       " 10.429998,\n",
       " 10.439999,\n",
       " 10.439999,\n",
       " 10.41,\n",
       " 10.359999,\n",
       " 10.42,\n",
       " 10.389999]"
      ]
     },
     "execution_count": 150,
     "metadata": {},
     "output_type": "execute_result"
    }
   ],
   "source": [
    "DictoDeph[locr[0],locc[0]]"
   ]
  },
  {
   "cell_type": "code",
   "execution_count": 27,
   "metadata": {},
   "outputs": [
    {
     "name": "stdout",
     "output_type": "stream",
     "text": [
      "[2.4699998, 2.6399999, 2.51, 2.51, 2.5699999, 2.4899998, 2.53, 2.6099999, 2.48, 2.5999999, 2.46, 2.52, 2.53, 2.51, 2.52, 2.54, 2.53, 2.53, 2.5, 2.55, 2.51, 2.4899998, 2.52, 2.51, 2.48, 2.5, 2.5, 2.5799999, 2.55, 2.5799999, 2.5799999, 2.5699999, 2.5699999, 2.5799999, 2.5799999, 2.5699999, 2.5799999, 2.5799999, 2.55, 2.5, 2.5599999, 2.53]\n"
     ]
    },
    {
     "data": {
      "text/plain": [
       "<matplotlib.collections.PathCollection at 0xde17a20>"
      ]
     },
     "execution_count": 27,
     "metadata": {},
     "output_type": "execute_result"
    },
    {
     "data": {
      "image/png": "[encoded data removed]",
      "text/plain": [
       "<matplotlib.figure.Figure at 0xdd54160>"
      ]
     },
     "metadata": {},
     "output_type": "display_data"
    }
   ],
   "source": [
    "locr,locc = np.where(SurveyIndex==np.max(SurveyIndex))\n",
    "print(DictoDeph[locr[0],locc[0]])\n",
    "tx, ty = np.asarray(DictoPos[locr[0],locc[0]])[:,0], np.asarray(DictoPos[locr[0],locc[0]])[:,1]\n",
    "fig, ax = plt.subplots()\n",
    "ax.invert_yaxis()\n",
    "plt.ylim(int(ty[0]), int(ty[0]) + 1)\n",
    "plt.xlim(int(tx[0]), int(tx[0]) + 1)\n",
    "ax.scatter(tx, ty)"
   ]
  },
  {
   "cell_type": "code",
   "execution_count": 36,
   "metadata": {},
   "outputs": [],
   "source": [
    "from shapely import geometry as gom\n",
    "\n",
    "PixPoints = []\n",
    "for cx,cy in zip(tx, ty):\n",
    "    PixPoints.append(gom.Point(cx,cy).buffer(0.2))"
   ]
  },
  {
   "cell_type": "code",
   "execution_count": 40,
   "metadata": {},
   "outputs": [
    {
     "name": "stdout",
     "output_type": "stream",
     "text": [
      "POLYGON ((8840.772442405858 3578.079976294553, 8840.771479351191 3578.060372866488, 8840.768599461937 3578.04095823015, 8840.763830473004 3578.021919359102, 8840.757218312359 3578.00343960808, 8840.748826658726 3577.985696947188, 8840.738736328318 3577.968862247949, 8840.727044496529 3577.953097637721, 8840.713863762094 3577.938554938316, 8840.69932106269 3577.925374203881, 8840.683556452461 3577.913682372093, 8840.666721753223 3577.903592041684, 8840.64897909233 3577.895200388051, 8840.630499341309 3577.888588227407, 8840.61146047026 3577.883819238473, 8840.592045833922 3577.880939349219, 8840.572442405857 3577.879976294554, 8840.552838977792 3577.880939349219, 8840.533424341455 3577.883819238473, 8840.514385470406 3577.888588227407, 8840.495905719385 3577.895200388051, 8840.478163058491 3577.903592041684, 8840.461328359253 3577.913682372093, 8840.445563749025 3577.925374203881, 8840.431021049621 3577.938554938316, 8840.417840315185 3577.953097637721, 8840.406148483396 3577.968862247949, 8840.396058152988 3577.985696947188, 8840.387666499355 3578.00343960808, 8840.38105433871 3578.021919359102, 8840.376285349777 3578.04095823015, 8840.373405460523 3578.060372866488, 8840.372442405856 3578.079976294553, 8840.373405460523 3578.099579722619, 8840.376285349777 3578.118994358957, 8840.38105433871 3578.138033230005, 8840.387666499355 3578.156512981026, 8840.396058152988 3578.174255641919, 8840.406148483396 3578.191090341158, 8840.417840315185 3578.206854951386, 8840.431021049621 3578.221397650791, 8840.445563749025 3578.234578385226, 8840.461328359253 3578.246270217014, 8840.478163058491 3578.256360547423, 8840.495905719385 3578.264752201056, 8840.514385470406 3578.2713643617, 8840.533424341455 3578.276133350634, 8840.552838977792 3578.279013239888, 8840.572442405857 3578.279976294553, 8840.592045833922 3578.279013239888, 8840.61146047026 3578.276133350634, 8840.630499341309 3578.2713643617, 8840.64897909233 3578.264752201056, 8840.666721753223 3578.256360547423, 8840.683556452461 3578.246270217014, 8840.69932106269 3578.234578385226, 8840.713863762094 3578.221397650791, 8840.727044496529 3578.206854951386, 8840.738736328318 3578.191090341158, 8840.748826658726 3578.174255641919, 8840.757218312359 3578.156512981026, 8840.763830473004 3578.138033230005, 8840.768599461937 3578.118994358957, 8840.771479351191 3578.099579722619, 8840.772442405858 3578.079976294553))\n"
     ]
    }
   ],
   "source": [
    "print(PixPoints[1])"
   ]
  },
  {
   "cell_type": "code",
   "execution_count": 33,
   "metadata": {},
   "outputs": [
    {
     "name": "stdout",
     "output_type": "stream",
     "text": [
      "Help on class Point in module shapely.geometry.point:\n",
      "\n",
      "class Point(shapely.geometry.base.BaseGeometry)\n",
      " |  A zero dimensional feature\n",
      " |  \n",
      " |  A point has zero length and zero area.\n",
      " |  \n",
      " |  Attributes\n",
      " |  ----------\n",
      " |  x, y, z : float\n",
      " |      Coordinate values\n",
      " |  \n",
      " |  Example\n",
      " |  -------\n",
      " |    >>> p = Point(1.0, -1.0)\n",
      " |    >>> print(p)\n",
      " |    POINT (1.0000000000000000 -1.0000000000000000)\n",
      " |    >>> p.y\n",
      " |    -1.0\n",
      " |    >>> p.x\n",
      " |    1.0\n",
      " |  \n",
      " |  Method resolution order:\n",
      " |      Point\n",
      " |      shapely.geometry.base.BaseGeometry\n",
      " |      builtins.object\n",
      " |  \n",
      " |  Methods defined here:\n",
      " |  \n",
      " |  __init__(self, *args)\n",
      " |      Parameters\n",
      " |      ----------\n",
      " |      There are 2 cases:\n",
      " |      \n",
      " |      1) 1 parameter: this must satisfy the numpy array protocol.\n",
      " |      2) 2 or more parameters: x, y, z : float\n",
      " |          Easting, northing, and elevation.\n",
      " |  \n",
      " |  array_interface(self)\n",
      " |      Provide the Numpy array protocol.\n",
      " |  \n",
      " |  svg(self, scale_factor=1.0, fill_color=None)\n",
      " |      Returns SVG circle element for the Point geometry.\n",
      " |      \n",
      " |      Parameters\n",
      " |      ==========\n",
      " |      scale_factor : float\n",
      " |          Multiplication factor for the SVG circle diameter.  Default is 1.\n",
      " |      fill_color : str, optional\n",
      " |          Hex string for fill color. Default is to use \"#66cc99\" if\n",
      " |          geometry is valid, and \"#ff3333\" if invalid.\n",
      " |  \n",
      " |  ----------------------------------------------------------------------\n",
      " |  Data descriptors defined here:\n",
      " |  \n",
      " |  __array_interface__\n",
      " |      Provide the Numpy array protocol.\n",
      " |  \n",
      " |  __geo_interface__\n",
      " |      Dictionary representation of the geometry\n",
      " |  \n",
      " |  bounds\n",
      " |      Returns minimum bounding region (minx, miny, maxx, maxy)\n",
      " |  \n",
      " |  coords\n",
      " |      Access to geometry's coordinates (CoordinateSequence)\n",
      " |  \n",
      " |  ctypes\n",
      " |      Return ctypes buffer\n",
      " |  \n",
      " |  x\n",
      " |      Return x coordinate.\n",
      " |  \n",
      " |  xy\n",
      " |      Separate arrays of X and Y coordinate values\n",
      " |      \n",
      " |      Example:\n",
      " |        >>> x, y = Point(0, 0).xy\n",
      " |        >>> list(x)\n",
      " |        [0.0]\n",
      " |        >>> list(y)\n",
      " |        [0.0]\n",
      " |  \n",
      " |  y\n",
      " |      Return y coordinate.\n",
      " |  \n",
      " |  z\n",
      " |      Return z coordinate.\n",
      " |  \n",
      " |  ----------------------------------------------------------------------\n",
      " |  Methods inherited from shapely.geometry.base.BaseGeometry:\n",
      " |  \n",
      " |  __and__(self, other)\n",
      " |  \n",
      " |  __del__(self)\n",
      " |  \n",
      " |  __eq__(self, other)\n",
      " |      Return self==value.\n",
      " |  \n",
      " |  __ne__(self, other)\n",
      " |      Return self!=value.\n",
      " |  \n",
      " |  __or__(self, other)\n",
      " |  \n",
      " |  __reduce__(self)\n",
      " |      helper for pickle\n",
      " |  \n",
      " |  __setstate__(self, state)\n",
      " |  \n",
      " |  __str__(self)\n",
      " |      Return str(self).\n",
      " |  \n",
      " |  __sub__(self, other)\n",
      " |  \n",
      " |  __xor__(self, other)\n",
      " |  \n",
      " |  almost_equals(self, other, decimal=6)\n",
      " |      Returns True if geometries are equal at all coordinates to a\n",
      " |      specified decimal place\n",
      " |      \n",
      " |      Refers to approximate coordinate equality, which requires coordinates be\n",
      " |      approximately equal and in the same order for all components of a geometry.\n",
      " |  \n",
      " |  buffer(self, distance, resolution=16, quadsegs=None, cap_style=1, join_style=1, mitre_limit=5.0)\n",
      " |      Returns a geometry with an envelope at a distance from the object's\n",
      " |      envelope\n",
      " |      \n",
      " |      A negative distance has a \"shrink\" effect. A zero distance may be used\n",
      " |      to \"tidy\" a polygon. The resolution of the buffer around each vertex of\n",
      " |      the object increases by increasing the resolution keyword parameter\n",
      " |      or second positional parameter. Note: the use of a `quadsegs` parameter\n",
      " |      is deprecated and will be gone from the next major release.\n",
      " |      \n",
      " |      The styles of caps are: CAP_STYLE.round (1), CAP_STYLE.flat (2), and\n",
      " |      CAP_STYLE.square (3).\n",
      " |      \n",
      " |      The styles of joins between offset segments are: JOIN_STYLE.round (1),\n",
      " |      JOIN_STYLE.mitre (2), and JOIN_STYLE.bevel (3).\n",
      " |      \n",
      " |      The mitre limit ratio is used for very sharp corners. The mitre ratio\n",
      " |      is the ratio of the distance from the corner to the end of the mitred\n",
      " |      offset corner. When two line segments meet at a sharp angle, a miter\n",
      " |      join will extend the original geometry. To prevent unreasonable\n",
      " |      geometry, the mitre limit allows controlling the maximum length of the\n",
      " |      join corner. Corners with a ratio which exceed the limit will be\n",
      " |      beveled.\n",
      " |      \n",
      " |      Example:\n",
      " |      \n",
      " |        >>> from shapely.wkt import loads\n",
      " |        >>> g = loads('POINT (0.0 0.0)')\n",
      " |        >>> g.buffer(1.0).area        # 16-gon approx of a unit radius circle\n",
      " |        3.1365484905459389\n",
      " |        >>> g.buffer(1.0, 128).area   # 128-gon approximation\n",
      " |        3.1415138011443009\n",
      " |        >>> g.buffer(1.0, 3).area     # triangle approximation\n",
      " |        3.0\n",
      " |        >>> list(g.buffer(1.0, cap_style='square').exterior.coords)\n",
      " |        [(1.0, 1.0), (1.0, -1.0), (-1.0, -1.0), (-1.0, 1.0), (1.0, 1.0)]\n",
      " |        >>> g.buffer(1.0, cap_style='square').area\n",
      " |        4.0\n",
      " |  \n",
      " |  contains(self, other)\n",
      " |      Returns True if the geometry contains the other, else False\n",
      " |  \n",
      " |  covers(self, other)\n",
      " |      Returns True if the geometry covers the other, else False\n",
      " |  \n",
      " |  crosses(self, other)\n",
      " |      Returns True if the geometries cross, else False\n",
      " |  \n",
      " |  difference(self, other)\n",
      " |      Returns the difference of the geometries\n",
      " |  \n",
      " |  disjoint(self, other)\n",
      " |      Returns True if geometries are disjoint, else False\n",
      " |  \n",
      " |  distance(self, other)\n",
      " |      Unitless distance to other geometry (float)\n",
      " |  \n",
      " |  empty(self, val=202815272)\n",
      " |  \n",
      " |  equals(self, other)\n",
      " |      Returns True if geometries are equal, else False\n",
      " |      \n",
      " |      Refers to point-set equality (or topological equality), and is equivalent to\n",
      " |      (self.within(other) & self.contains(other))\n",
      " |  \n",
      " |  equals_exact(self, other, tolerance)\n",
      " |      Returns True if geometries are equal to within a specified\n",
      " |      tolerance\n",
      " |      \n",
      " |      Refers to coordinate equality, which requires coordinates to be equal \n",
      " |      and in the same order for all components of a geometry\n",
      " |  \n",
      " |  geometryType(self)\n",
      " |  \n",
      " |  hausdorff_distance(self, other)\n",
      " |      Unitless hausdorff distance to other geometry (float)\n",
      " |  \n",
      " |  interpolate(self, distance, normalized=False)\n",
      " |      Return a point at the specified distance along a linear geometry\n",
      " |      \n",
      " |      If the normalized arg is True, the distance will be interpreted as a\n",
      " |      fraction of the geometry's length.\n",
      " |  \n",
      " |  intersection(self, other)\n",
      " |      Returns the intersection of the geometries\n",
      " |  \n",
      " |  intersects(self, other)\n",
      " |      Returns True if geometries intersect, else False\n",
      " |  \n",
      " |  overlaps(self, other)\n",
      " |      Returns True if geometries overlap, else False\n",
      " |  \n",
      " |  project(self, other, normalized=False)\n",
      " |      Returns the distance along this geometry to a point nearest the\n",
      " |      specified point\n",
      " |      \n",
      " |      If the normalized arg is True, return the distance normalized to the\n",
      " |      length of the linear geometry.\n",
      " |  \n",
      " |  relate(self, other)\n",
      " |      Returns the DE-9IM intersection matrix for the two geometries\n",
      " |      (string)\n",
      " |  \n",
      " |  relate_pattern(self, other, pattern)\n",
      " |      Returns True if the DE-9IM string code for the relationship between\n",
      " |      the geometries satisfies the pattern, else False\n",
      " |  \n",
      " |  representative_point(self)\n",
      " |      Returns a point guaranteed to be within the object, cheaply.\n",
      " |  \n",
      " |  simplify(self, tolerance, preserve_topology=True)\n",
      " |      Returns a simplified geometry produced by the Douglas-Peucker\n",
      " |      algorithm\n",
      " |      \n",
      " |      Coordinates of the simplified geometry will be no more than the\n",
      " |      tolerance distance from the original. Unless the topology preserving\n",
      " |      option is used, the algorithm may produce self-intersecting or\n",
      " |      otherwise invalid geometries.\n",
      " |  \n",
      " |  symmetric_difference(self, other)\n",
      " |      Returns the symmetric difference of the geometries\n",
      " |      (Shapely geometry)\n",
      " |  \n",
      " |  to_wkb(self)\n",
      " |  \n",
      " |  to_wkt(self)\n",
      " |  \n",
      " |  touches(self, other)\n",
      " |      Returns True if geometries touch, else False\n",
      " |  \n",
      " |  union(self, other)\n",
      " |      Returns the union of the geometries (Shapely geometry)\n",
      " |  \n",
      " |  within(self, other)\n",
      " |      Returns True if geometry is within the other, else False\n",
      " |  \n",
      " |  ----------------------------------------------------------------------\n",
      " |  Data descriptors inherited from shapely.geometry.base.BaseGeometry:\n",
      " |  \n",
      " |  __dict__\n",
      " |      dictionary for instance variables (if defined)\n",
      " |  \n",
      " |  __weakref__\n",
      " |      list of weak references to the object (if defined)\n",
      " |  \n",
      " |  area\n",
      " |      Unitless area of the geometry (float)\n",
      " |  \n",
      " |  array_interface_base\n",
      " |  \n",
      " |  boundary\n",
      " |      Returns a lower dimension geometry that bounds the object\n",
      " |      \n",
      " |      The boundary of a polygon is a line, the boundary of a line is a\n",
      " |      collection of points. The boundary of a point is an empty (null)\n",
      " |      collection.\n",
      " |  \n",
      " |  centroid\n",
      " |      Returns the geometric center of the object\n",
      " |  \n",
      " |  convex_hull\n",
      " |      Imagine an elastic band stretched around the geometry: that's a\n",
      " |      convex hull, more or less\n",
      " |      \n",
      " |      The convex hull of a three member multipoint, for example, is a\n",
      " |      triangular polygon.\n",
      " |  \n",
      " |  envelope\n",
      " |      A figure that envelopes the geometry\n",
      " |  \n",
      " |  geom_type\n",
      " |      Name of the geometry's type, such as 'Point'\n",
      " |  \n",
      " |  has_z\n",
      " |      True if the geometry's coordinate sequence(s) have z values (are\n",
      " |      3-dimensional)\n",
      " |  \n",
      " |  is_closed\n",
      " |      True if the geometry is closed, else False\n",
      " |      \n",
      " |      Applicable only to 1-D geometries.\n",
      " |  \n",
      " |  is_empty\n",
      " |      True if the set of points in this geometry is empty, else False\n",
      " |  \n",
      " |  is_ring\n",
      " |      True if the geometry is a closed ring, else False\n",
      " |  \n",
      " |  is_simple\n",
      " |      True if the geometry is simple, meaning that any self-intersections\n",
      " |      are only at boundary points, else False\n",
      " |  \n",
      " |  is_valid\n",
      " |      True if the geometry is valid (definition depends on sub-class),\n",
      " |      else False\n",
      " |  \n",
      " |  length\n",
      " |      Unitless length of the geometry (float)\n",
      " |  \n",
      " |  minimum_rotated_rectangle\n",
      " |      Returns the general minimum bounding rectangle of\n",
      " |      the geometry. Can possibly be rotated. If the convex hull\n",
      " |      of the object is a degenerate (line or point) this same degenerate\n",
      " |      is returned.\n",
      " |  \n",
      " |  type\n",
      " |  \n",
      " |  wkb\n",
      " |      WKB representation of the geometry\n",
      " |  \n",
      " |  wkb_hex\n",
      " |      WKB hex representation of the geometry\n",
      " |  \n",
      " |  wkt\n",
      " |      WKT representation of the geometry\n",
      " |  \n",
      " |  ----------------------------------------------------------------------\n",
      " |  Data and other attributes inherited from shapely.geometry.base.BaseGeometry:\n",
      " |  \n",
      " |  __geom__ = 202815272\n",
      " |  \n",
      " |  __hash__ = None\n",
      " |  \n",
      " |  __p__ = None\n",
      " |  \n",
      " |  impl = <GEOSImpl object: GEOS C API version (1, 8, 0)>\n",
      "\n"
     ]
    }
   ],
   "source": [
    "help(gom.Point)"
   ]
  },
  {
   "cell_type": "code",
   "execution_count": 23,
   "metadata": {},
   "outputs": [
    {
     "data": {
      "text/plain": [
       "array([ 2.46999979,  2.63999987,  2.50999999,  2.50999999,  2.56999993,\n",
       "        2.48999977,  2.52999997,  2.6099999 ,  2.48000002,  2.5999999 ,\n",
       "        2.46000004,  2.51999998,  2.52999997,  2.50999999,  2.51999998,\n",
       "        2.53999996,  2.52999997,  2.52999997,  2.5       ,  2.54999995,\n",
       "        2.50999999,  2.48999977,  2.51999998,  2.50999999,  2.48000002,\n",
       "        2.5       ,  2.5       ,  2.57999992,  2.54999995,  2.57999992,\n",
       "        2.57999992,  2.56999993,  2.56999993,  2.57999992,  2.57999992,\n",
       "        2.56999993,  2.57999992,  2.57999992,  2.54999995,  2.5       ,\n",
       "        2.55999994,  2.52999997], dtype=float32)"
      ]
     },
     "execution_count": 23,
     "metadata": {},
     "output_type": "execute_result"
    }
   ],
   "source": [
    "np.asarray(DictoDeph[locr[0], locc[0]])"
   ]
  },
  {
   "cell_type": "markdown",
   "metadata": {},
   "source": [
    "## Compute Statistics on pixels containing measurements "
   ]
  },
  {
   "cell_type": "code",
   "execution_count": null,
   "metadata": {
    "collapsed": true
   },
   "outputs": [],
   "source": [
    "SurveyValues = np.full(ClassifIndex.shape, np.NaN, dtype= np.float_)\n",
    "SurveyVariance = np.full(ClassifIndex.shape, np.NaN, dtype= np.float_)\n",
    "for i, j  in Dicto.keys():\n",
    "    SurveyValues[i, j] = np.mean(Dicto[(i, j)])\n",
    "    SurveyVariance[i, j] = np.std(Dicto[(i, j)])"
   ]
  },
  {
   "cell_type": "markdown",
   "metadata": {},
   "source": [
    "## Load Optical Data\n",
    "### WARNING: Poe special case -> to avoid bigger backup size, data need to be resize at Rasters dimension"
   ]
  },
  {
   "cell_type": "code",
   "execution_count": null,
   "metadata": {
    "collapsed": true
   },
   "outputs": [],
   "source": [
    "# Load Data at reduce backup size\n",
    "npzfile = np.load('../../../Poe/CompressedData/SRXData.npz')\n",
    "Xc = npzfile['Ratios'] # Optical data at croped shape (reduce backup size)\n",
    "RatiosKeys = npzfile['Keys'] # Keys defining order of recorded ratios \n",
    "\n",
    "# Creation of arrays at Raster Size\n",
    "X = np.full((RasterHeight, RasterWidth, Xc.shape[2]), np.nan) # Final array of optical data at Raster size \n",
    "ValidMap = np.full((RasterHeight, RasterWidth), False) # Map of area of Interest -> cropped area reducing backup size\n",
    "\n",
    "# Translation of the data at the suitable dimension\n",
    "X[5000:,0:8500,:] = Xc[:,:,:]\n",
    "ValidMap[5000:,0:8500] = True\n",
    "del Xc\n",
    "\n",
    "# Useless here...\n",
    "ToclassifyIndex = np.logical_and(ValidMap,ClassifIndex)\n",
    "X.shape"
   ]
  },
  {
   "cell_type": "markdown",
   "metadata": {},
   "source": [
    "## Special case in Poe, Area of interest for specific calibration manually created"
   ]
  },
  {
   "cell_type": "code",
   "execution_count": null,
   "metadata": {
    "collapsed": true
   },
   "outputs": [],
   "source": [
    "ShapeFolder = '../../../Poe/Shapes/'\n",
    "RoiPathName = 'SheratonLagoon.shp'\n",
    "\n",
    "ResctictedLagoon = mgp.create_mask_from_vector(ShapeFolder + RoiPathName,  RasterHeight, RasterWidth, GT_ds, proj, target_value=1, format=gdal.GDT_Byte)\n",
    "ResctictedLagoon = ResctictedLagoon.GetRasterBand(1).ReadAsArray().astype(bool)\n",
    "plt.imshow(ResctictedLagoon)"
   ]
  },
  {
   "cell_type": "markdown",
   "metadata": {},
   "source": [
    "## Visual check !"
   ]
  },
  {
   "cell_type": "code",
   "execution_count": null,
   "metadata": {
    "collapsed": true,
    "scrolled": true
   },
   "outputs": [],
   "source": [
    "# Manual cropping for better visual rendering\n",
    "ScatterIndex = np.logical_and(ResctictedLagoon[8800:9400,3500:4650],SurveyIndex[8800:9400,3500:4650]>0)\n",
    "CroppedDepth = SurveyValues[8800:9400,3500:4650] # Average deph of pixels contained in the visual cropped\n",
    "\n",
    "# Scatter coordinates and image in rendered dimension\n",
    "x,y = np.where(ScatterIndex)\n",
    "Im = ResctictedLagoon[8800:9400,3500:4650]\n",
    "\n",
    "# Plot\n",
    "fig, ax = plt.subplots(figsize=(50,50))\n",
    "plt.imshow(Im)\n",
    "plt.scatter(y,x,s=80, c='r')\n",
    "for i in range(len(x)):\n",
    "    ax.annotate(CroppedDepth[ScatterIndex][i], (y[i]-10,x[i]+10), color='red', size=20)\n",
    "print(\"Nombre de pixel comportant une mesure immergées:\",len(x))"
   ]
  },
  {
   "cell_type": "markdown",
   "metadata": {},
   "source": [
    "## Creation of calibration dataset"
   ]
  },
  {
   "cell_type": "code",
   "execution_count": null,
   "metadata": {
    "collapsed": true
   },
   "outputs": [],
   "source": [
    "assert X.shape[:2]==SurveyValues.shape\n",
    "ind = ResctictedLagoon * (SurveyIndex>0) # Index of calibration data\n",
    "Data_x = X[ind,:] # model optical descriptors\n",
    "Data_y = SurveyValues[ind].reshape(np.sum(ind),) # model target depth"
   ]
  },
  {
   "cell_type": "markdown",
   "metadata": {},
   "source": [
    "## release memory"
   ]
  },
  {
   "cell_type": "code",
   "execution_count": null,
   "metadata": {
    "collapsed": true
   },
   "outputs": [],
   "source": [
    "del X"
   ]
  },
  {
   "cell_type": "markdown",
   "metadata": {},
   "source": [
    "## exploratory statistics"
   ]
  },
  {
   "cell_type": "code",
   "execution_count": null,
   "metadata": {
    "collapsed": true
   },
   "outputs": [],
   "source": [
    "for i in range(Data_x.shape[1]):\n",
    "    print(str(RatiosKeys[i]),'correlation : ',np.corrcoef(Data_x[:,i],Data_y)[0,1])\n",
    "    print(\"=\"*10)\n",
    "mgp.plot_ResRegPlots(Data_x, Data_y, Scale=True, SetTitles=False, Titles=RatiosKeys)"
   ]
  },
  {
   "cell_type": "code",
   "execution_count": null,
   "metadata": {
    "collapsed": true
   },
   "outputs": [],
   "source": [
    "fig, axes = plt.subplots(2,5, figsize=(20, 8))\n",
    "for i, ax in enumerate(fig.axes):\n",
    "    ax.scatter(Data_x[:,i],Data_y, s=4)\n",
    "    ax.set_title('Band  ' + str(RatiosKeys[i]))\n",
    "    ax.set_ylabel('Depth')\n",
    "    ax.set_xlabel('Optical Signal')"
   ]
  },
  {
   "cell_type": "code",
   "execution_count": null,
   "metadata": {
    "collapsed": true
   },
   "outputs": [],
   "source": [
    "x = Data_x\n",
    "y = Data_y"
   ]
  },
  {
   "cell_type": "code",
   "execution_count": null,
   "metadata": {
    "collapsed": true
   },
   "outputs": [],
   "source": [
    "from scipy import stats\n",
    "used_x = Data_x[:,1].reshape(len(y),)\n",
    "plt.scatter(used_x,y)\n",
    "buffer = np.array(stats.linregress(used_x,y)[:])\n",
    "Interval = np.array([np.min(x),np.max(x)])\n",
    "plt.plot(Interval, Interval*buffer[0]+buffer[1], c='k')\n",
    "plt.xlabel('Optical Signal')\n",
    "plt.ylabel('predicted Depth')\n"
   ]
  },
  {
   "cell_type": "markdown",
   "metadata": {},
   "source": [
    "# Huber Regression"
   ]
  },
  {
   "cell_type": "code",
   "execution_count": null,
   "metadata": {
    "collapsed": true
   },
   "outputs": [],
   "source": [
    "lr = linear_model.RidgeCV(cv=115,fit_intercept=True, alphas= (10 ,0.1))\n",
    "\n",
    "# cross_val_predict returns an array of the same size as `y` where each entry\n",
    "# is a prediction obtained by cross validation:\n",
    "predicted = lr.fit(x, y).predict(x)\n",
    "\n",
    "fig, ax = plt.subplots()\n",
    "ax.plot([y.min(), y.max()], [y.min(), y.max()], 'k--', lw=1)\n",
    "ax.scatter(y, predicted, s=4)\n",
    "ax.set_xlabel('Measured')\n",
    "ax.set_ylabel('Predicted')\n",
    "ax.set_title('R2 : '+str(r2_score(y, predicted)))\n",
    "plt.show()"
   ]
  },
  {
   "cell_type": "code",
   "execution_count": null,
   "metadata": {
    "collapsed": true
   },
   "outputs": [],
   "source": [
    "lr.score(x,y)"
   ]
  },
  {
   "cell_type": "markdown",
   "metadata": {},
   "source": [
    "# Simple Crossvalidated Linear model"
   ]
  },
  {
   "cell_type": "code",
   "execution_count": null,
   "metadata": {
    "collapsed": true
   },
   "outputs": [],
   "source": [
    "lr = linear_model.LinearRegression()\n",
    "\n",
    "# cross_val_predict returns an array of the same size as `y` where each entry\n",
    "# is a prediction obtained by cross validation:\n",
    "#predicted = cross_val_predict(lr, x, y, cv=len(y))\n",
    "predicted = lr.fit(x, y).predict(x)\n",
    "\n",
    "fig, ax = plt.subplots()\n",
    "ax.scatter(y, predicted, edgecolors=(0, 0, 0))\n",
    "ax.plot([y.min(), y.max()], [y.min(), y.max()], 'k--', lw=4)\n",
    "ax.set_xlabel('Measured')\n",
    "ax.set_ylabel('Predicted')\n",
    "ax.set_title('R2 : '+str(r2_score(y, predicted)))\n",
    "plt.show()"
   ]
  },
  {
   "cell_type": "markdown",
   "metadata": {},
   "source": [
    "# Cross Validated RANSAC"
   ]
  },
  {
   "cell_type": "code",
   "execution_count": null,
   "metadata": {
    "collapsed": true
   },
   "outputs": [],
   "source": [
    "loo = LeaveOneOut()\n",
    "loo.get_n_splits(x)\n",
    "predicted = np.full(y.shape,np.nan, np.float)\n",
    "inlierMat = np.full((y.shape[0], 1, len(y)),np.nan, np.float)\n",
    "#lr = linear_model.RANSACRegressor(min_samples=0.9, max_trials=100000, residual_threshold=0.4,stop_probability=0.999)\n",
    "lr = linear_model.RANSACRegressor(min_samples=0.5, residual_threshold=0.2)\n",
    "counterCheck = 0\n",
    "\n",
    "\n",
    "for train_index, test_index in loo.split(x):\n",
    "    lr.fit(x[train_index], y[train_index])\n",
    "    predicted[test_index] = lr.predict(x[test_index])\n",
    "    inlierMat[train_index, 0, counterCheck] = lr.inlier_mask_\n",
    "    counterCheck = counterCheck + 1\n",
    "    \n",
    "col = np.nansum(inlierMat, axis=2)\n",
    "fig, ax = plt.subplots(figsize=(15,15))\n",
    "im = ax.scatter(y, predicted,c=col, cmap='jet')\n",
    "plt.colorbar(im)\n",
    "ax.plot([y.min(), y.max()], [y.min(), y.max()], 'k--', lw=4)\n",
    "ax.set_xlabel('Measured')\n",
    "ax.set_ylabel('Predicted')\n",
    "ax.set_title('R2 : '+str(r2_score(y, predicted)))\n",
    "plt.show()"
   ]
  },
  {
   "cell_type": "markdown",
   "metadata": {},
   "source": [
    "# TheilSenRegressor"
   ]
  },
  {
   "cell_type": "code",
   "execution_count": null,
   "metadata": {
    "collapsed": true
   },
   "outputs": [],
   "source": [
    "loo = LeaveOneOut()\n",
    "loo.get_n_splits(x)\n",
    "predicted = np.full(y.shape,np.nan, np.float)\n",
    "lr = linear_model.TheilSenRegressor()\n",
    "counterCheck = 0\n",
    "\n",
    "for train_index, test_index in loo.split(x):\n",
    "    lr.fit(x[train_index], y[train_index])\n",
    "    predicted[test_index] = lr.predict(x[test_index])\n",
    "    counterCheck = counterCheck + 1\n",
    "    \n",
    "fig, ax = plt.subplots()\n",
    "im = ax.scatter(y, predicted, edgecolors=(0, 0, 0))\n",
    "ax.plot([y.min(), y.max()], [y.min(), y.max()], 'k--', lw=4)\n",
    "ax.set_xlabel('Measured')\n",
    "ax.set_ylabel('Predicted')\n",
    "plt.show()"
   ]
  },
  {
   "cell_type": "markdown",
   "metadata": {},
   "source": [
    "# RANSAC Whithout cross validation"
   ]
  },
  {
   "cell_type": "code",
   "execution_count": null,
   "metadata": {
    "collapsed": true
   },
   "outputs": [],
   "source": [
    "lr = linear_model.RANSACRegressor(min_samples=0.9, max_trials=100000, residual_threshold=0.4,stop_probability=0.999)\n",
    "\n",
    "\n",
    "# cross_val_predict returns an array of the same size as `y` where each entry\n",
    "# is a prediction obtained by cross validation:\n",
    "predicted = lr.fit(x, y).predict(x)\n",
    "\n",
    "fig, ax = plt.subplots()\n",
    "ax.plot([y.min(), y.max()], [y.min(), y.max()], 'k--', lw=1)\n",
    "ax.scatter(y, predicted, c=lr.inlier_mask_, s=4)\n",
    "ax.set_xlabel('Measured')\n",
    "ax.set_ylabel('Predicted')\n",
    "plt.show()"
   ]
  },
  {
   "cell_type": "code",
   "execution_count": null,
   "metadata": {
    "collapsed": true
   },
   "outputs": [],
   "source": [
    "xIm,yIm = np.where(np.logical_and(ResctictedLagoon[8800:9400,3500:4650],SurveyIndex[8800:9400,3500:4650]>0))\n",
    "y = SurveyValues[ind].reshape(np.sum(ind),)\n",
    "plotInd = (col>5).reshape(len(y),)\n",
    "ind = ResctictedLagoon[8800:9400,3500:4650]\n",
    "fig = plt.figure(figsize=(50,50))\n",
    "plt.imshow(ind)\n",
    "plt.scatter(yIm[plotInd],xIm[plotInd],s=80, c='b')\n",
    "plt.scatter(yIm[~plotInd],xIm[~plotInd],s=80, c='r')\n",
    "print(\"Nombre de point extreme :\",np.sum(~plotInd))"
   ]
  },
  {
   "cell_type": "code",
   "execution_count": null,
   "metadata": {
    "collapsed": true
   },
   "outputs": [],
   "source": [
    "testImage = testImage[8800:9400,3500:4650]**0.4"
   ]
  },
  {
   "cell_type": "code",
   "execution_count": null,
   "metadata": {
    "collapsed": true
   },
   "outputs": [],
   "source": [
    "xIm,yIm = np.where(np.logical_and(ResctictedLagoon[8800:9400,3500:4650],SurveyIndex[8800:9400,3500:4650]>0))\n",
    "fig = plt.figure(figsize=(50,50))\n",
    "plt.imshow(testImage)\n",
    "plt.scatter(yIm,xIm,s=80, c='r')"
   ]
  }
 ],
 "metadata": {
  "kernelspec": {
   "display_name": "Python 3",
   "language": "python",
   "name": "python3"
  },
  "language_info": {
   "codemirror_mode": {
    "name": "ipython",
    "version": 3
   },
   "file_extension": ".py",
   "mimetype": "text/x-python",
   "name": "python",
   "nbconvert_exporter": "python",
   "pygments_lexer": "ipython3",
   "version": "3.6.5"
  }
 },
 "nbformat": 4,
 "nbformat_minor": 2
}
