{
 "cells": [
  {
   "cell_type": "code",
   "execution_count": 1,
   "metadata": {
    "collapsed": true
   },
   "outputs": [],
   "source": [
    "%matplotlib inline\n",
    "import matplotlib as mpl\n",
    "import matplotlib.pyplot as plt\n",
    "import numpy as np\n",
    "from matplotlib import cm\n",
    "from numpy import random\n",
    "from scipy import stats"
   ]
  },
  {
   "cell_type": "code",
   "execution_count": 2,
   "metadata": {
    "collapsed": true
   },
   "outputs": [],
   "source": []
  },
  {
   "cell_type": "code",
   "execution_count": 12,
   "metadata": {},
   "outputs": [
    {
     "data": {
      "text/plain": [
       "(0.0022624802530464695, 0.14618762562731338)"
      ]
     },
     "execution_count": 12,
     "metadata": {},
     "output_type": "execute_result"
    }
   ],
   "source": []
  },
  {
   "cell_type": "code",
   "execution_count": 17,
   "metadata": {},
   "outputs": [
    {
     "name": "stdout",
     "output_type": "stream",
     "text": [
      "Help on gaussian_kde in module scipy.stats.kde object:\n",
      "\n",
      "class gaussian_kde(builtins.object)\n",
      " |  Representation of a kernel-density estimate using Gaussian kernels.\n",
      " |  \n",
      " |  Kernel density estimation is a way to estimate the probability density\n",
      " |  function (PDF) of a random variable in a non-parametric way.\n",
      " |  `gaussian_kde` works for both uni-variate and multi-variate data.   It\n",
      " |  includes automatic bandwidth determination.  The estimation works best for\n",
      " |  a unimodal distribution; bimodal or multi-modal distributions tend to be\n",
      " |  oversmoothed.\n",
      " |  \n",
      " |  Parameters\n",
      " |  ----------\n",
      " |  dataset : array_like\n",
      " |      Datapoints to estimate from. In case of univariate data this is a 1-D\n",
      " |      array, otherwise a 2-D array with shape (# of dims, # of data).\n",
      " |  bw_method : str, scalar or callable, optional\n",
      " |      The method used to calculate the estimator bandwidth.  This can be\n",
      " |      'scott', 'silverman', a scalar constant or a callable.  If a scalar,\n",
      " |      this will be used directly as `kde.factor`.  If a callable, it should\n",
      " |      take a `gaussian_kde` instance as only parameter and return a scalar.\n",
      " |      If None (default), 'scott' is used.  See Notes for more details.\n",
      " |  \n",
      " |  Attributes\n",
      " |  ----------\n",
      " |  dataset : ndarray\n",
      " |      The dataset with which `gaussian_kde` was initialized.\n",
      " |  d : int\n",
      " |      Number of dimensions.\n",
      " |  n : int\n",
      " |      Number of datapoints.\n",
      " |  factor : float\n",
      " |      The bandwidth factor, obtained from `kde.covariance_factor`, with which\n",
      " |      the covariance matrix is multiplied.\n",
      " |  covariance : ndarray\n",
      " |      The covariance matrix of `dataset`, scaled by the calculated bandwidth\n",
      " |      (`kde.factor`).\n",
      " |  inv_cov : ndarray\n",
      " |      The inverse of `covariance`.\n",
      " |  \n",
      " |  Methods\n",
      " |  -------\n",
      " |  evaluate\n",
      " |  __call__\n",
      " |  integrate_gaussian\n",
      " |  integrate_box_1d\n",
      " |  integrate_box\n",
      " |  integrate_kde\n",
      " |  pdf\n",
      " |  logpdf\n",
      " |  resample\n",
      " |  set_bandwidth\n",
      " |  covariance_factor\n",
      " |  \n",
      " |  Notes\n",
      " |  -----\n",
      " |  Bandwidth selection strongly influences the estimate obtained from the KDE\n",
      " |  (much more so than the actual shape of the kernel).  Bandwidth selection\n",
      " |  can be done by a \"rule of thumb\", by cross-validation, by \"plug-in\n",
      " |  methods\" or by other means; see [3]_, [4]_ for reviews.  `gaussian_kde`\n",
      " |  uses a rule of thumb, the default is Scott's Rule.\n",
      " |  \n",
      " |  Scott's Rule [1]_, implemented as `scotts_factor`, is::\n",
      " |  \n",
      " |      n**(-1./(d+4)),\n",
      " |  \n",
      " |  with ``n`` the number of data points and ``d`` the number of dimensions.\n",
      " |  Silverman's Rule [2]_, implemented as `silverman_factor`, is::\n",
      " |  \n",
      " |      (n * (d + 2) / 4.)**(-1. / (d + 4)).\n",
      " |  \n",
      " |  Good general descriptions of kernel density estimation can be found in [1]_\n",
      " |  and [2]_, the mathematics for this multi-dimensional implementation can be\n",
      " |  found in [1]_.\n",
      " |  \n",
      " |  References\n",
      " |  ----------\n",
      " |  .. [1] D.W. Scott, \"Multivariate Density Estimation: Theory, Practice, and\n",
      " |         Visualization\", John Wiley & Sons, New York, Chicester, 1992.\n",
      " |  .. [2] B.W. Silverman, \"Density Estimation for Statistics and Data\n",
      " |         Analysis\", Vol. 26, Monographs on Statistics and Applied Probability,\n",
      " |         Chapman and Hall, London, 1986.\n",
      " |  .. [3] B.A. Turlach, \"Bandwidth Selection in Kernel Density Estimation: A\n",
      " |         Review\", CORE and Institut de Statistique, Vol. 19, pp. 1-33, 1993.\n",
      " |  .. [4] D.M. Bashtannyk and R.J. Hyndman, \"Bandwidth selection for kernel\n",
      " |         conditional density estimation\", Computational Statistics & Data\n",
      " |         Analysis, Vol. 36, pp. 279-298, 2001.\n",
      " |  \n",
      " |  Examples\n",
      " |  --------\n",
      " |  Generate some random two-dimensional data:\n",
      " |  \n",
      " |  >>> from scipy import stats\n",
      " |  >>> def measure(n):\n",
      " |  ...     \"Measurement model, return two coupled measurements.\"\n",
      " |  ...     m1 = np.random.normal(size=n)\n",
      " |  ...     m2 = np.random.normal(scale=0.5, size=n)\n",
      " |  ...     return m1+m2, m1-m2\n",
      " |  \n",
      " |  >>> m1, m2 = measure(2000)\n",
      " |  >>> xmin = m1.min()\n",
      " |  >>> xmax = m1.max()\n",
      " |  >>> ymin = m2.min()\n",
      " |  >>> ymax = m2.max()\n",
      " |  \n",
      " |  Perform a kernel density estimate on the data:\n",
      " |  \n",
      " |  >>> X, Y = np.mgrid[xmin:xmax:100j, ymin:ymax:100j]\n",
      " |  >>> positions = np.vstack([X.ravel(), Y.ravel()])\n",
      " |  >>> values = np.vstack([m1, m2])\n",
      " |  >>> kernel = stats.gaussian_kde(values)\n",
      " |  >>> Z = np.reshape(kernel(positions).T, X.shape)\n",
      " |  \n",
      " |  Plot the results:\n",
      " |  \n",
      " |  >>> import matplotlib.pyplot as plt\n",
      " |  >>> fig, ax = plt.subplots()\n",
      " |  >>> ax.imshow(np.rot90(Z), cmap=plt.cm.gist_earth_r,\n",
      " |  ...           extent=[xmin, xmax, ymin, ymax])\n",
      " |  >>> ax.plot(m1, m2, 'k.', markersize=2)\n",
      " |  >>> ax.set_xlim([xmin, xmax])\n",
      " |  >>> ax.set_ylim([ymin, ymax])\n",
      " |  >>> plt.show()\n",
      " |  \n",
      " |  Methods defined here:\n",
      " |  \n",
      " |  __call__ = evaluate(self, points)\n",
      " |  \n",
      " |  __init__(self, dataset, bw_method=None)\n",
      " |      Initialize self.  See help(type(self)) for accurate signature.\n",
      " |  \n",
      " |  covariance_factor = scotts_factor(self)\n",
      " |  \n",
      " |  evaluate(self, points)\n",
      " |      Evaluate the estimated pdf on a set of points.\n",
      " |      \n",
      " |      Parameters\n",
      " |      ----------\n",
      " |      points : (# of dimensions, # of points)-array\n",
      " |          Alternatively, a (# of dimensions,) vector can be passed in and\n",
      " |          treated as a single point.\n",
      " |      \n",
      " |      Returns\n",
      " |      -------\n",
      " |      values : (# of points,)-array\n",
      " |          The values at each point.\n",
      " |      \n",
      " |      Raises\n",
      " |      ------\n",
      " |      ValueError : if the dimensionality of the input points is different than\n",
      " |                   the dimensionality of the KDE.\n",
      " |  \n",
      " |  integrate_box(self, low_bounds, high_bounds, maxpts=None)\n",
      " |      Computes the integral of a pdf over a rectangular interval.\n",
      " |      \n",
      " |      Parameters\n",
      " |      ----------\n",
      " |      low_bounds : array_like\n",
      " |          A 1-D array containing the lower bounds of integration.\n",
      " |      high_bounds : array_like\n",
      " |          A 1-D array containing the upper bounds of integration.\n",
      " |      maxpts : int, optional\n",
      " |          The maximum number of points to use for integration.\n",
      " |      \n",
      " |      Returns\n",
      " |      -------\n",
      " |      value : scalar\n",
      " |          The result of the integral.\n",
      " |  \n",
      " |  integrate_box_1d(self, low, high)\n",
      " |      Computes the integral of a 1D pdf between two bounds.\n",
      " |      \n",
      " |      Parameters\n",
      " |      ----------\n",
      " |      low : scalar\n",
      " |          Lower bound of integration.\n",
      " |      high : scalar\n",
      " |          Upper bound of integration.\n",
      " |      \n",
      " |      Returns\n",
      " |      -------\n",
      " |      value : scalar\n",
      " |          The result of the integral.\n",
      " |      \n",
      " |      Raises\n",
      " |      ------\n",
      " |      ValueError\n",
      " |          If the KDE is over more than one dimension.\n",
      " |  \n",
      " |  integrate_gaussian(self, mean, cov)\n",
      " |      Multiply estimated density by a multivariate Gaussian and integrate\n",
      " |      over the whole space.\n",
      " |      \n",
      " |      Parameters\n",
      " |      ----------\n",
      " |      mean : aray_like\n",
      " |          A 1-D array, specifying the mean of the Gaussian.\n",
      " |      cov : array_like\n",
      " |          A 2-D array, specifying the covariance matrix of the Gaussian.\n",
      " |      \n",
      " |      Returns\n",
      " |      -------\n",
      " |      result : scalar\n",
      " |          The value of the integral.\n",
      " |      \n",
      " |      Raises\n",
      " |      ------\n",
      " |      ValueError\n",
      " |          If the mean or covariance of the input Gaussian differs from\n",
      " |          the KDE's dimensionality.\n",
      " |  \n",
      " |  integrate_kde(self, other)\n",
      " |      Computes the integral of the product of this  kernel density estimate\n",
      " |      with another.\n",
      " |      \n",
      " |      Parameters\n",
      " |      ----------\n",
      " |      other : gaussian_kde instance\n",
      " |          The other kde.\n",
      " |      \n",
      " |      Returns\n",
      " |      -------\n",
      " |      value : scalar\n",
      " |          The result of the integral.\n",
      " |      \n",
      " |      Raises\n",
      " |      ------\n",
      " |      ValueError\n",
      " |          If the KDEs have different dimensionality.\n",
      " |  \n",
      " |  logpdf(self, x)\n",
      " |      Evaluate the log of the estimated pdf on a provided set of points.\n",
      " |  \n",
      " |  pdf(self, x)\n",
      " |      Evaluate the estimated pdf on a provided set of points.\n",
      " |      \n",
      " |      Notes\n",
      " |      -----\n",
      " |      This is an alias for `gaussian_kde.evaluate`.  See the ``evaluate``\n",
      " |      docstring for more details.\n",
      " |  \n",
      " |  resample(self, size=None)\n",
      " |      Randomly sample a dataset from the estimated pdf.\n",
      " |      \n",
      " |      Parameters\n",
      " |      ----------\n",
      " |      size : int, optional\n",
      " |          The number of samples to draw.  If not provided, then the size is\n",
      " |          the same as the underlying dataset.\n",
      " |      \n",
      " |      Returns\n",
      " |      -------\n",
      " |      resample : (self.d, `size`) ndarray\n",
      " |          The sampled dataset.\n",
      " |  \n",
      " |  scotts_factor(self)\n",
      " |      Computes the coefficient (`kde.factor`) that\n",
      " |      multiplies the data covariance matrix to obtain the kernel covariance\n",
      " |      matrix. The default is `scotts_factor`.  A subclass can overwrite this\n",
      " |      method to provide a different method, or set it through a call to\n",
      " |      `kde.set_bandwidth`.\n",
      " |  \n",
      " |  set_bandwidth(self, bw_method=None)\n",
      " |      Compute the estimator bandwidth with given method.\n",
      " |      \n",
      " |      The new bandwidth calculated after a call to `set_bandwidth` is used\n",
      " |      for subsequent evaluations of the estimated density.\n",
      " |      \n",
      " |      Parameters\n",
      " |      ----------\n",
      " |      bw_method : str, scalar or callable, optional\n",
      " |          The method used to calculate the estimator bandwidth.  This can be\n",
      " |          'scott', 'silverman', a scalar constant or a callable.  If a\n",
      " |          scalar, this will be used directly as `kde.factor`.  If a callable,\n",
      " |          it should take a `gaussian_kde` instance as only parameter and\n",
      " |          return a scalar.  If None (default), nothing happens; the current\n",
      " |          `kde.covariance_factor` method is kept.\n",
      " |      \n",
      " |      Notes\n",
      " |      -----\n",
      " |      .. versionadded:: 0.11\n",
      " |      \n",
      " |      Examples\n",
      " |      --------\n",
      " |      >>> import scipy.stats as stats\n",
      " |      >>> x1 = np.array([-7, -5, 1, 4, 5.])\n",
      " |      >>> kde = stats.gaussian_kde(x1)\n",
      " |      >>> xs = np.linspace(-10, 10, num=50)\n",
      " |      >>> y1 = kde(xs)\n",
      " |      >>> kde.set_bandwidth(bw_method='silverman')\n",
      " |      >>> y2 = kde(xs)\n",
      " |      >>> kde.set_bandwidth(bw_method=kde.factor / 3.)\n",
      " |      >>> y3 = kde(xs)\n",
      " |      \n",
      " |      >>> import matplotlib.pyplot as plt\n",
      " |      >>> fig, ax = plt.subplots()\n",
      " |      >>> ax.plot(x1, np.ones(x1.shape) / (4. * x1.size), 'bo',\n",
      " |      ...         label='Data points (rescaled)')\n",
      " |      >>> ax.plot(xs, y1, label='Scott (default)')\n",
      " |      >>> ax.plot(xs, y2, label='Silverman')\n",
      " |      >>> ax.plot(xs, y3, label='Const (1/3 * Silverman)')\n",
      " |      >>> ax.legend()\n",
      " |      >>> plt.show()\n",
      " |  \n",
      " |  silverman_factor(self)\n",
      " |  \n",
      " |  ----------------------------------------------------------------------\n",
      " |  Data descriptors defined here:\n",
      " |  \n",
      " |  __dict__\n",
      " |      dictionary for instance variables (if defined)\n",
      " |  \n",
      " |  __weakref__\n",
      " |      list of weak references to the object (if defined)\n",
      "\n"
     ]
    }
   ],
   "source": [
    "help(kde)"
   ]
  },
  {
   "cell_type": "code",
   "execution_count": 93,
   "metadata": {},
   "outputs": [
    {
     "data": {
      "image/png": "[encoded data removed]",
      "text/plain": [
       "<matplotlib.figure.Figure at 0x9df71d0>"
      ]
     },
     "metadata": {},
     "output_type": "display_data"
    }
   ],
   "source": [
    "def measure(n):\n",
    "\n",
    "    \"Measurement model, return two coupled measurements.\"\n",
    "    m1 = np.random.normal(size=n)\n",
    "    m2 = np.random.normal(size=n)\n",
    "    return m1+m2, m1-m2\n",
    "\n",
    "m1, m2 = measure(10)\n",
    "ymax = m2.max()+2\n",
    "xmin = m1.min()-2\n",
    "xmax = m1.max()+2\n",
    "ymin = m2.min()-2\n",
    "\n",
    "def Get_DensityMap(m1,m2, patch=2):\n",
    "    ymax = m2.max()+patch\n",
    "    xmin = m1.min()-patch\n",
    "    xmax = m1.max()+patch\n",
    "    ymin = m2.min()-patch\n",
    "    X, Y = np.mgrid[xmin:xmax:100j, ymin:ymax:100j]\n",
    "    positions = np.vstack([X.ravel(), Y.ravel()])\n",
    "    values = np.vstack([m1, m2])\n",
    "    kernel = stats.gaussian_kde(values, 0.5)\n",
    "    return np.rot90(np.reshape(kernel(positions).T, X.shape)), [xmin, xmax, ymin, ymax]\n",
    "\n",
    "Z , ext = Get_DensityMap(m1,m2)\n",
    "\n",
    "import matplotlib.pyplot as plt\n",
    "fig, ax = plt.subplots()\n",
    "ax.imshow(Z,\n",
    "          extent=ext)\n",
    "ax.plot(m1, m2, 'k.', markersize=2)\n",
    "ax.set_xlim([xmin, xmax])\n",
    "ax.set_ylim([ymin, ymax])\n",
    "plt.show()"
   ]
  },
  {
   "cell_type": "code",
   "execution_count": 69,
   "metadata": {},
   "outputs": [
    {
     "data": {
      "text/plain": [
       "array([[ 1.02103655,  0.02831777],\n",
       "       [ 0.02831777,  0.82168481]])"
      ]
     },
     "execution_count": 69,
     "metadata": {},
     "output_type": "execute_result"
    }
   ],
   "source": [
    "kernel.covariance"
   ]
  },
  {
   "cell_type": "code",
   "execution_count": 58,
   "metadata": {},
   "outputs": [
    {
     "data": {
      "text/plain": [
       "(0.0023862402437036597, 0.14743270161822961)"
      ]
     },
     "execution_count": 58,
     "metadata": {},
     "output_type": "execute_result"
    }
   ],
   "source": [
    "n = 600\n",
    "xx = np.random.randn(n)\n",
    "yy = (1 * xx) + np.random.randn(n)\n",
    "kde = stats.gaussian_kde(np.vstack([xx,yy]))\n",
    "zz = kde(np.vstack([xx,yy]))\n",
    "zz.min(),zz.max()"
   ]
  },
  {
   "cell_type": "code",
   "execution_count": 63,
   "metadata": {},
   "outputs": [
    {
     "data": {
      "text/plain": [
       "(2, 600)"
      ]
     },
     "execution_count": 63,
     "metadata": {},
     "output_type": "execute_result"
    }
   ],
   "source": [
    "np.vstack([xx,yy]).shape"
   ]
  },
  {
   "cell_type": "code",
   "execution_count": 60,
   "metadata": {},
   "outputs": [
    {
     "data": {
      "text/plain": [
       "(0.0, 1.0)"
      ]
     },
     "execution_count": 60,
     "metadata": {},
     "output_type": "execute_result"
    }
   ],
   "source": [
    "cc = cm.get_cmap('jet')((zz-zz.min())/(zz.max()-zz.min()))\n",
    "cc.min(),cc.max()"
   ]
  },
  {
   "cell_type": "code",
   "execution_count": 61,
   "metadata": {},
   "outputs": [
    {
     "data": {
      "text/plain": [
       "(500,)"
      ]
     },
     "execution_count": 61,
     "metadata": {},
     "output_type": "execute_result"
    }
   ],
   "source": [
    "np.mgrid[xmin:xmax:500j].shape"
   ]
  },
  {
   "cell_type": "code",
   "execution_count": 62,
   "metadata": {},
   "outputs": [
    {
     "data": {
      "image/png": "[encoded data removed]",
      "text/plain": [
       "<matplotlib.figure.Figure at 0xabf20f0>"
      ]
     },
     "metadata": {},
     "output_type": "display_data"
    }
   ],
   "source": [
    "fig = plt.figure(figsize=(4.3,4))\n",
    "ax = plt.subplot(1,1,1)\n",
    "ax.scatter(xx,yy,facecolors=cc, s=2)\n",
    "ax.set_aspect('equal','datalim')\n",
    "plt.savefig('scatter_gaussian_kde.png', bbox_inches='tight', pad_inches=0.02, dpi=200)\n",
    "\n"
   ]
  },
  {
   "cell_type": "code",
   "execution_count": 8,
   "metadata": {},
   "outputs": [
    {
     "data": {
      "image/png": "[encoded data removed]",
      "text/plain": [
       "<matplotlib.figure.Figure at 0x97b9748>"
      ]
     },
     "metadata": {},
     "output_type": "display_data"
    }
   ],
   "source": [
    "fig = plt.figure(figsize=(4.3,4))\n",
    "ax = plt.subplot(1,1,1)\n",
    "def ScatterDensity(ax, xx, yy, CmapName='jet', Si=2, edgecolor=None):\n",
    "    from scipy.stats import gaussian_kde\n",
    "    kde = stats.gaussian_kde([xx,yy])\n",
    "    zz = kde([xx,yy])\n",
    "    zz.min(),zz.max()\n",
    "    cc = cm.get_cmap(CmapName)((zz-zz.min())/(zz.max()-zz.min()))\n",
    "    ax.scatter(xx,yy,facecolors=cc, s=Si, edgecolor=None)\n",
    "ScatterDensity(ax, xx, yy, CmapName='jet', Si=2, edgecolor=None)"
   ]
  },
  {
   "cell_type": "code",
   "execution_count": 47,
   "metadata": {},
   "outputs": [
    {
     "ename": "ModuleNotFoundError",
     "evalue": "No module named 'cartopy'",
     "output_type": "error",
     "traceback": [
      "\u001b[1;31m---------------------------------------------------------------------------\u001b[0m",
      "\u001b[1;31mModuleNotFoundError\u001b[0m                       Traceback (most recent call last)",
      "\u001b[1;32m<ipython-input-47-eca3ac81eaf6>\u001b[0m in \u001b[0;36m<module>\u001b[1;34m()\u001b[0m\n\u001b[1;32m----> 1\u001b[1;33m \u001b[1;32mimport\u001b[0m \u001b[0mcartopy\u001b[0m\u001b[1;33m.\u001b[0m\u001b[0mcrs\u001b[0m \u001b[1;32mas\u001b[0m \u001b[0mccrs\u001b[0m\u001b[1;33m\u001b[0m\u001b[0m\n\u001b[0m\u001b[0;32m      2\u001b[0m \u001b[1;32mimport\u001b[0m \u001b[0mmatplotlib\u001b[0m\u001b[1;33m.\u001b[0m\u001b[0mpyplot\u001b[0m \u001b[1;32mas\u001b[0m \u001b[0mplt\u001b[0m\u001b[1;33m\u001b[0m\u001b[0m\n\u001b[0;32m      3\u001b[0m \u001b[1;33m\u001b[0m\u001b[0m\n\u001b[0;32m      4\u001b[0m \u001b[0max\u001b[0m \u001b[1;33m=\u001b[0m \u001b[0mplt\u001b[0m\u001b[1;33m.\u001b[0m\u001b[0maxes\u001b[0m\u001b[1;33m(\u001b[0m\u001b[0mprojection\u001b[0m\u001b[1;33m=\u001b[0m\u001b[0mccrs\u001b[0m\u001b[1;33m.\u001b[0m\u001b[0mMollweide\u001b[0m\u001b[1;33m(\u001b[0m\u001b[1;33m)\u001b[0m\u001b[1;33m)\u001b[0m\u001b[1;33m\u001b[0m\u001b[0m\n\u001b[0;32m      5\u001b[0m \u001b[0max\u001b[0m\u001b[1;33m.\u001b[0m\u001b[0mstock_img\u001b[0m\u001b[1;33m(\u001b[0m\u001b[1;33m)\u001b[0m\u001b[1;33m\u001b[0m\u001b[0m\n",
      "\u001b[1;31mModuleNotFoundError\u001b[0m: No module named 'cartopy'"
     ]
    }
   ],
   "source": [
    "import cartopy.crs as ccrs\n",
    "import matplotlib.pyplot as plt\n",
    "\n",
    "ax = plt.axes(projection=ccrs.Mollweide())\n",
    "ax.stock_img()\n",
    "plt.show()"
   ]
  }
 ],
 "metadata": {
  "kernelspec": {
   "display_name": "Python 3",
   "language": "python",
   "name": "python3"
  },
  "language_info": {
   "codemirror_mode": {
    "name": "ipython",
    "version": 3
   },
   "file_extension": ".py",
   "mimetype": "text/x-python",
   "name": "python",
   "nbconvert_exporter": "python",
   "pygments_lexer": "ipython3",
   "version": "3.6.1"
  }
 },
 "nbformat": 4,
 "nbformat_minor": 2
}
