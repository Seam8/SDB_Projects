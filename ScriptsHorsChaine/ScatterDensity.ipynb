{
 "cells": [
  {
   "cell_type": "code",
   "execution_count": 9,
   "metadata": {
    "collapsed": true
   },
   "outputs": [],
   "source": [
    "%matplotlib inline\n",
    "import matplotlib as mpl\n",
    "import matplotlib.pyplot as plt\n",
    "import numpy as np\n",
    "from matplotlib import cm\n",
    "from numpy import random\n",
    "from scipy import stats"
   ]
  },
  {
   "cell_type": "code",
   "execution_count": null,
   "metadata": {
    "collapsed": true
   },
   "outputs": [],
   "source": []
  },
  {
   "cell_type": "code",
   "execution_count": null,
   "metadata": {},
   "outputs": [],
   "source": []
  },
  {
   "cell_type": "code",
   "execution_count": 2,
   "metadata": {},
   "outputs": [
    {
     "ename": "NameError",
     "evalue": "name 'kde' is not defined",
     "output_type": "error",
     "traceback": [
      "\u001b[1;31m---------------------------------------------------------------------------\u001b[0m",
      "\u001b[1;31mNameError\u001b[0m                                 Traceback (most recent call last)",
      "\u001b[1;32m<ipython-input-2-c49b278bcb18>\u001b[0m in \u001b[0;36m<module>\u001b[1;34m()\u001b[0m\n\u001b[1;32m----> 1\u001b[1;33m \u001b[0mhelp\u001b[0m\u001b[1;33m(\u001b[0m\u001b[0mkde\u001b[0m\u001b[1;33m)\u001b[0m\u001b[1;33m\u001b[0m\u001b[0m\n\u001b[0m",
      "\u001b[1;31mNameError\u001b[0m: name 'kde' is not defined"
     ]
    }
   ],
   "source": [
    "help(kde)"
   ]
  },
  {
   "cell_type": "code",
   "execution_count": 56,
   "metadata": {},
   "outputs": [
    {
     "data": {
      "image/png": "[encoded data removed]",
      "text/plain": [
       "<matplotlib.figure.Figure at 0xeb0e6d8>"
      ]
     },
     "metadata": {},
     "output_type": "display_data"
    }
   ],
   "source": [
    "import matplotlib.pyplot as plt\n",
    "\n",
    "def Get_series(n):\n",
    "    m1 = np.random.normal(size=n)*10\n",
    "    m2 = np.random.normal(size=n)\n",
    "    return m1, m2\n",
    "\n",
    "def Get_DensityMap(m1,m2, patch=2):\n",
    "    ymax = m2.max()+patch\n",
    "    xmin = m1.min()-patch\n",
    "    xmax = m1.max()+patch\n",
    "    ymin = m2.min()-patch\n",
    "    X, Y = np.mgrid[xmin:xmax:100j, ymin:ymax:100j]\n",
    "    positions = np.vstack([X.flatten(), Y.flatten()])\n",
    "    values = np.vstack([m1, m2])\n",
    "    kernel = stats.kde.gaussian_kde(values,0.2)\n",
    "    return np.rot90(np.reshape(kernel(positions).T, X.shape)), [xmin, xmax, ymin, ymax]\n",
    "\n",
    "m1, m2 = Get_series(100000)\n",
    "Z , ext = Get_DensityMap(m1,m2)\n",
    "\n",
    "fig, ax = plt.subplots()\n",
    "ax.imshow(Z,extent=ext)\n",
    "ax.plot(m1, m2, 'r.', markersize=3)\n",
    "ax.set_xlim([ext[0], ext[1]])\n",
    "ax.set_ylim([ext[2], ext[3]])\n",
    "ax.set_aspect('equal')\n",
    "plt.show()"
   ]
  },
  {
   "cell_type": "code",
   "execution_count": 57,
   "metadata": {},
   "outputs": [
    {
     "data": {
      "image/png": "[encoded data removed]",
      "text/plain": [
       "<matplotlib.figure.Figure at 0xe8995c0>"
      ]
     },
     "metadata": {},
     "output_type": "display_data"
    }
   ],
   "source": [
    "import statsmodels.api as sm\n",
    "patch=2\n",
    "ymax = m2.max()+patch\n",
    "xmin = m1.min()-patch\n",
    "xmax = m1.max()+patch\n",
    "ymin = m2.min()-patch\n",
    "X, Y = np.mgrid[xmin:xmax:100j, ymin:ymax:100j]\n",
    "\n",
    "ext = [xmin, xmax, ymin, ymax]\n",
    "\n",
    "import statsmodels.api as sm\n",
    "kde = sm.nonparametric.KDEMultivariate([m1, m2], var_type='cc', bw='normal_reference')\n",
    "kde = sm.nonparametric.KDEMultivariate([m1, m2], var_type='cc', bw=np.tile((kde.bw[0]),2))\n",
    "fig, ax = plt.subplots()\n",
    "ax.imshow(np.rot90(np.reshape(kde.pdf([X.flatten(), Y.flatten()]).T, X.shape)),extent=ext)\n",
    "ax.plot(m1, m2, 'r.', markersize=3)\n",
    "ax.set_xlim([ext[0], ext[1]])\n",
    "ax.set_ylim([ext[2], ext[3]])\n",
    "ax.set_aspect('equal')"
   ]
  },
  {
   "cell_type": "code",
   "execution_count": 54,
   "metadata": {},
   "outputs": [
    {
     "data": {
      "text/plain": [
       "array([ 5.46405076,  5.46405076])"
      ]
     },
     "execution_count": 54,
     "metadata": {},
     "output_type": "execute_result"
    }
   ],
   "source": []
  },
  {
   "cell_type": "code",
   "execution_count": 40,
   "metadata": {},
   "outputs": [
    {
     "name": "stdout",
     "output_type": "stream",
     "text": [
      "Help on class KDEMultivariate in module statsmodels.nonparametric.kernel_density:\n",
      "\n",
      "class KDEMultivariate(statsmodels.nonparametric._kernel_base.GenericKDE)\n",
      " |  Multivariate kernel density estimator.\n",
      " |  \n",
      " |  This density estimator can handle univariate as well as multivariate data,\n",
      " |  including mixed continuous / ordered discrete / unordered discrete data.\n",
      " |  It also provides cross-validated bandwidth selection methods (least\n",
      " |  squares, maximum likelihood).\n",
      " |  \n",
      " |  Parameters\n",
      " |  ----------\n",
      " |  data: list of ndarrays or 2-D ndarray\n",
      " |      The training data for the Kernel Density Estimation, used to determine\n",
      " |      the bandwidth(s).  If a 2-D array, should be of shape\n",
      " |      (num_observations, num_variables).  If a list, each list element is a\n",
      " |      separate observation.\n",
      " |  var_type: str\n",
      " |      The type of the variables:\n",
      " |  \n",
      " |          - c : continuous\n",
      " |          - u : unordered (discrete)\n",
      " |          - o : ordered (discrete)\n",
      " |  \n",
      " |      The string should contain a type specifier for each variable, so for\n",
      " |      example ``var_type='ccuo'``.\n",
      " |  bw: array_like or str, optional\n",
      " |      If an array, it is a fixed user-specified bandwidth.  If a string,\n",
      " |      should be one of:\n",
      " |  \n",
      " |          - normal_reference: normal reference rule of thumb (default)\n",
      " |          - cv_ml: cross validation maximum likelihood\n",
      " |          - cv_ls: cross validation least squares\n",
      " |  \n",
      " |  defaults: EstimatorSettings instance, optional\n",
      " |      The default values for (efficient) bandwidth estimation.\n",
      " |  \n",
      " |  Attributes\n",
      " |  ----------\n",
      " |  bw: array_like\n",
      " |      The bandwidth parameters.\n",
      " |  \n",
      " |  See Also\n",
      " |  --------\n",
      " |  KDEMultivariateConditional\n",
      " |  \n",
      " |  Examples\n",
      " |  --------\n",
      " |  >>> import statsmodels.api as sm\n",
      " |  >>> nobs = 300\n",
      " |  >>> np.random.seed(1234)  # Seed random generator\n",
      " |  >>> c1 = np.random.normal(size=(nobs,1))\n",
      " |  >>> c2 = np.random.normal(2, 1, size=(nobs,1))\n",
      " |  \n",
      " |  Estimate a bivariate distribution and display the bandwidth found:\n",
      " |  \n",
      " |  >>> dens_u = sm.nonparametric.KDEMultivariate(data=[c1,c2],\n",
      " |  ...     var_type='cc', bw='normal_reference')\n",
      " |  >>> dens_u.bw\n",
      " |  array([ 0.39967419,  0.38423292])\n",
      " |  \n",
      " |  Method resolution order:\n",
      " |      KDEMultivariate\n",
      " |      statsmodels.nonparametric._kernel_base.GenericKDE\n",
      " |      builtins.object\n",
      " |  \n",
      " |  Methods defined here:\n",
      " |  \n",
      " |  __init__(self, data, var_type, bw=None, defaults=<statsmodels.nonparametric._kernel_base.EstimatorSettings object at 0x000000000DC272B0>)\n",
      " |      Initialize self.  See help(type(self)) for accurate signature.\n",
      " |  \n",
      " |  __repr__(self)\n",
      " |      Provide something sane to print.\n",
      " |  \n",
      " |  cdf(self, data_predict=None)\n",
      " |      Evaluate the cumulative distribution function.\n",
      " |      \n",
      " |      Parameters\n",
      " |      ----------\n",
      " |      data_predict: array_like, optional\n",
      " |          Points to evaluate at.  If unspecified, the training data is used.\n",
      " |      \n",
      " |      Returns\n",
      " |      -------\n",
      " |      cdf_est: array_like\n",
      " |          The estimate of the cdf.\n",
      " |      \n",
      " |      Notes\n",
      " |      -----\n",
      " |      See http://en.wikipedia.org/wiki/Cumulative_distribution_function\n",
      " |      For more details on the estimation see Ref. [5] in module docstring.\n",
      " |      \n",
      " |      The multivariate CDF for mixed data (continuous and ordered/unordered\n",
      " |      discrete) is estimated by:\n",
      " |      \n",
      " |      ..math:: F(x^{c},x^{d})=n^{-1}\\sum_{i=1}^{n}\\left[G(\n",
      " |          \\frac{x^{c}-X_{i}}{h})\\sum_{u\\leq x^{d}}L(X_{i}^{d},x_{i}^{d},\n",
      " |          \\lambda)\\right]\n",
      " |      \n",
      " |      where G() is the product kernel CDF estimator for the continuous\n",
      " |      and L() for the discrete variables.\n",
      " |      \n",
      " |      Used bandwidth is ``self.bw``.\n",
      " |  \n",
      " |  imse(self, bw)\n",
      " |      Returns the Integrated Mean Square Error for the unconditional KDE.\n",
      " |      \n",
      " |      Parameters\n",
      " |      ----------\n",
      " |      bw: array_like\n",
      " |          The bandwidth parameter(s).\n",
      " |      \n",
      " |      Returns\n",
      " |      -------\n",
      " |      CV: float\n",
      " |          The cross-validation objective function.\n",
      " |      \n",
      " |      Notes\n",
      " |      -----\n",
      " |      See p. 27 in [1]_ for details on how to handle the multivariate\n",
      " |      estimation with mixed data types see p.6 in [2]_.\n",
      " |      \n",
      " |      The formula for the cross-validation objective function is:\n",
      " |      \n",
      " |      .. math:: CV=\\frac{1}{n^{2}}\\sum_{i=1}^{n}\\sum_{j=1}^{N}\n",
      " |          \\bar{K}_{h}(X_{i},X_{j})-\\frac{2}{n(n-1)}\\sum_{i=1}^{n}\n",
      " |          \\sum_{j=1,j\\neq i}^{N}K_{h}(X_{i},X_{j})\n",
      " |      \n",
      " |      Where :math:`\\bar{K}_{h}` is the multivariate product convolution\n",
      " |      kernel (consult [2]_ for mixed data types).\n",
      " |      \n",
      " |      References\n",
      " |      ----------\n",
      " |      .. [1] Racine, J., Li, Q. Nonparametric econometrics: theory and\n",
      " |              practice. Princeton University Press. (2007)\n",
      " |      .. [2] Racine, J., Li, Q. \"Nonparametric Estimation of Distributions\n",
      " |              with Categorical and Continuous Data.\" Working Paper. (2000)\n",
      " |  \n",
      " |  loo_likelihood(self, bw, func=<function KDEMultivariate.<lambda> at 0x000000000DC29BF8>)\n",
      " |      Returns the leave-one-out likelihood function.\n",
      " |      \n",
      " |      The leave-one-out likelihood function for the unconditional KDE.\n",
      " |      \n",
      " |      Parameters\n",
      " |      ----------\n",
      " |      bw: array_like\n",
      " |          The value for the bandwidth parameter(s).\n",
      " |      func: callable, optional\n",
      " |          Function to transform the likelihood values (before summing); for\n",
      " |          the log likelihood, use ``func=np.log``.  Default is ``f(x) = x``.\n",
      " |      \n",
      " |      Notes\n",
      " |      -----\n",
      " |      The leave-one-out kernel estimator of :math:`f_{-i}` is:\n",
      " |      \n",
      " |      .. math:: f_{-i}(X_{i})=\\frac{1}{(n-1)h}\n",
      " |                  \\sum_{j=1,j\\neq i}K_{h}(X_{i},X_{j})\n",
      " |      \n",
      " |      where :math:`K_{h}` represents the generalized product kernel\n",
      " |      estimator:\n",
      " |      \n",
      " |      .. math:: K_{h}(X_{i},X_{j}) =\n",
      " |          \\prod_{s=1}^{q}h_{s}^{-1}k\\left(\\frac{X_{is}-X_{js}}{h_{s}}\\right)\n",
      " |  \n",
      " |  pdf(self, data_predict=None)\n",
      " |      Evaluate the probability density function.\n",
      " |      \n",
      " |      Parameters\n",
      " |      ----------\n",
      " |      data_predict: array_like, optional\n",
      " |          Points to evaluate at.  If unspecified, the training data is used.\n",
      " |      \n",
      " |      Returns\n",
      " |      -------\n",
      " |      pdf_est: array_like\n",
      " |          Probability density function evaluated at `data_predict`.\n",
      " |      \n",
      " |      Notes\n",
      " |      -----\n",
      " |      The probability density is given by the generalized product kernel\n",
      " |      estimator:\n",
      " |      \n",
      " |      .. math:: K_{h}(X_{i},X_{j}) =\n",
      " |          \\prod_{s=1}^{q}h_{s}^{-1}k\\left(\\frac{X_{is}-X_{js}}{h_{s}}\\right)\n",
      " |  \n",
      " |  ----------------------------------------------------------------------\n",
      " |  Data descriptors inherited from statsmodels.nonparametric._kernel_base.GenericKDE:\n",
      " |  \n",
      " |  __dict__\n",
      " |      dictionary for instance variables (if defined)\n",
      " |  \n",
      " |  __weakref__\n",
      " |      list of weak references to the object (if defined)\n",
      "\n"
     ]
    }
   ],
   "source": [
    "help(sm.nonparametric.KDEMultivariate)"
   ]
  },
  {
   "cell_type": "code",
   "execution_count": 39,
   "metadata": {},
   "outputs": [
    {
     "data": {
      "image/png": "[encoded data removed]",
      "text/plain": [
       "<matplotlib.figure.Figure at 0xe94f278>"
      ]
     },
     "metadata": {},
     "output_type": "display_data"
    }
   ],
   "source": [
    "import statsmodels.api as sm\n",
    "patch=2\n",
    "ymax = m2.max()+patch\n",
    "xmin = m1.min()-patch\n",
    "xmax = m1.max()+patch\n",
    "ymin = m2.min()-patch\n",
    "X, Y = np.mgrid[xmin:xmax:100j, ymin:ymax:100j]\n",
    "\n",
    "ext = [xmin, xmax, ymin, ymax]\n",
    "\n",
    "import statsmodels.api as sm\n",
    "kde = sm.nonparametric.KDEMultivariate([m1, m2], var_type='cc', bw=np.array([1,  1]))\n",
    "fig, ax = plt.subplots()\n",
    "\n",
    "cc = kde.pdf([m1, m2])\n",
    "\n",
    "\n",
    "ax.scatter(m1, m2, c=cc)\n",
    "ax.set_xlim([ext[0], ext[1]])\n",
    "ax.set_ylim([ext[2], ext[3]])\n",
    "ax.set_aspect('equal')"
   ]
  },
  {
   "cell_type": "code",
   "execution_count": 35,
   "metadata": {},
   "outputs": [
    {
     "data": {
      "image/png": "[encoded data removed]",
      "text/plain": [
       "<matplotlib.figure.Figure at 0xecd2208>"
      ]
     },
     "metadata": {},
     "output_type": "display_data"
    }
   ],
   "source": [
    "\n"
   ]
  },
  {
   "cell_type": "code",
   "execution_count": 284,
   "metadata": {},
   "outputs": [
    {
     "data": {
      "text/plain": [
       "[<matplotlib.lines.Line2D at 0xfac9cf8>]"
      ]
     },
     "execution_count": 284,
     "metadata": {},
     "output_type": "execute_result"
    },
    {
     "data": {
      "image/png": "[encoded data removed]",
      "text/plain": [
       "<matplotlib.figure.Figure at 0x10399b38>"
      ]
     },
     "metadata": {},
     "output_type": "display_data"
    }
   ],
   "source": [
    "def ScatterDensity(ax, xx, yy, Bandw, Map=True,ScatterOptions ={},MapOptions = {}):\n",
    "    '''Should perform a density computation for scatter plot color or density map plot\n",
    "    but gaussian_kde seems to provide wrong elongated gaussian'''\n",
    "    from scipy.stats import gaussian_kde\n",
    "    from matplotlib import cm\n",
    "\n",
    "    \n",
    "    if Map: #if map case\n",
    "        ext,x_mesh,y_mesh,intensity = Quad_densityMap(xx,yy,h=1, grid_size=0.1)\n",
    "        if ScatterOptions== None:\n",
    "            ScatterOptions = {'facecolors':(0,0,1), 's':8, 'edgecolor':(0,0,0), 'linewidth':0.2}\n",
    "            \n",
    "        if MapOptions ==  None:\n",
    "            MapOptions = {'cmap':'Oranges'}\n",
    "            \n",
    "        if np.sum([k=='cmap' for k in MapOptions.keys()])==0:\n",
    "            MapOptions['cmap']='Oranges'\n",
    "        #MapOptions['extent'] = ext\n",
    "        im = ax.pcolormesh(x_mesh,y_mesh,intensity, vmax=np.mean(intensity), **MapOptions)# cmap='Oranges', extent=[xmin, xmax, ymin, ymax])\n",
    "        im = ax.scatter(xx,yy,zorder=2,**ScatterOptions) # facecolors=(0,0,1), s=Si, edgecolor=Edgecolor, linewidth=Linewidth)\n",
    "        #print(Z.max())\n",
    "        #print(Z.min())\n",
    "        #print(np.mean(Z))\n",
    "        #print(np.median(Z))\n",
    "        \n",
    "    else: #if simple scatter case\n",
    "        \n",
    "        kde = gaussian_kde(np.vstack([xx,yy]),Bandw)\n",
    "        zz = kde(np.vstack([xx,yy]))\n",
    "        if ScatterOptions== None:\n",
    "            ScatterOptions = {'cmap':'jet', 's':8, 'edgecolor':None}\n",
    "        if np.sum([k=='s' for k in ScatterOptions.keys()])==0:\n",
    "            ScatterOptions['s'] = 8\n",
    "        if np.sum([k=='cmap' for k in ScatterOptions.keys()])==0:\n",
    "            ScatterOptions['cmap'] = 'jet'\n",
    "            \n",
    "        cc = cm.get_cmap(ScatterOptions['cmap'])((zz-zz.min())/(zz.max()-zz.min()))\n",
    "        ScatterOptions['facecolors'] = cc\n",
    "        im = ax.scatter(xx,yy,zorder=2, **ScatterOptions) #facecolors=cc, s=Si, edgecolor=Edgecolor, linewidth=Linewidth)\n",
    "        \n",
    "    return im\n"
   ]
  },
  {
   "cell_type": "code",
   "execution_count": 219,
   "metadata": {},
   "outputs": [
    {
     "data": {
      "image/png": "[encoded data removed]",
      "text/plain": [
       "<matplotlib.figure.Figure at 0x9e0e5f8>"
      ]
     },
     "metadata": {},
     "output_type": "display_data"
    }
   ],
   "source": [
    "import matplotlib.pyplot as plt\n",
    "import numpy as np\n",
    "import math\n",
    "#POINT DATASET\n",
    "x=m1\n",
    "y=m2\n",
    "\n",
    "#DEFINE GRID SIZE AND RADIUS(h)\n",
    "grid_size=0.1\n",
    "h=2\n",
    "def Quad_densityMap(x,y,h=0.5, grid_size=1):\n",
    "    import math\n",
    "\n",
    "    #GETTING X,Y MIN AND MAX\n",
    "    x_min=min(x)\n",
    "    x_max=max(x)\n",
    "    y_min=min(y)\n",
    "    y_max=max(y)\n",
    "\n",
    "    #CONSTRUCT GRID\n",
    "    x_grid=np.arange(x_min-h,x_max+h,grid_size)\n",
    "    y_grid=np.arange(y_min-h,y_max+h,grid_size)\n",
    "    x_mesh,y_mesh=np.meshgrid(x_grid,y_grid)\n",
    "\n",
    "    #GRID CENTER POINT\n",
    "    xc=x_mesh+(grid_size/2)\n",
    "    yc=y_mesh+(grid_size/2)\n",
    "\n",
    "    #FUNCTION TO CALCULATE INTENSITY WITH QUARTIC KERNEL\n",
    "    def kde_quartic(d,h):\n",
    "        dn=d/h\n",
    "        P=(15/16)*(1-dn**2)**2\n",
    "        return P\n",
    "\n",
    "    #PROCESSING\n",
    "    intensity_list=[]\n",
    "    for j in range(len(xc)):\n",
    "        intensity_row=[]\n",
    "        for k in range(len(xc[0])):\n",
    "            kde_value_list=[]\n",
    "            for i in range(len(x)):\n",
    "                #CALCULATE DISTANCE\n",
    "                d=math.sqrt((xc[j][k]-x[i])**2+(yc[j][k]-y[i])**2) \n",
    "                if d<=h:\n",
    "                    p=kde_quartic(d,h)\n",
    "                else:\n",
    "                    p=0\n",
    "                kde_value_list.append(p)\n",
    "            #SUM ALL INTENSITY VALUE\n",
    "            p_total=sum(kde_value_list)\n",
    "            intensity_row.append(p_total)\n",
    "        intensity_list.append(intensity_row)\n",
    "\n",
    "    #HEATMAP OUTPUT    \n",
    "    intensity=np.array(intensity_list)\n",
    "    return x_mesh,y_mesh,intensity\n",
    "x_mesh,y_mesh,intensity = Quad_densityMap(x,y,h=2, grid_size=0.1)\n",
    "plt.pcolormesh(x_mesh,y_mesh,intensity,cmap='Oranges')\n",
    "plt.plot(x,y,'ro')\n",
    "plt.axis()\n",
    "plt.show()"
   ]
  },
  {
   "cell_type": "code",
   "execution_count": 202,
   "metadata": {},
   "outputs": [
    {
     "data": {
      "text/plain": [
       "(24, 55)"
      ]
     },
     "execution_count": 202,
     "metadata": {},
     "output_type": "execute_result"
    }
   ],
   "source": [
    "x_mesh.shape"
   ]
  },
  {
   "cell_type": "code",
   "execution_count": 170,
   "metadata": {},
   "outputs": [
    {
     "data": {
      "image/png": "[encoded data removed]",
      "text/plain": [
       "<matplotlib.figure.Figure at 0xbf5bf28>"
      ]
     },
     "metadata": {},
     "output_type": "display_data"
    }
   ],
   "source": [
    "import numpy as np\n",
    "import scipy.stats as stats\n",
    "from matplotlib import pyplot as plt\n",
    "\n",
    "# Create some dummy data\n",
    "rvs = np.append(np.random.normal(size=(20,1))*5,\n",
    "                np.random.normal(size=(20,1)),\n",
    "                axis=1)\n",
    "\n",
    "kde = stats.kde.gaussian_kde(rvs.T,0.2)\n",
    "\n",
    "# Regular grid to evaluate kde upon\n",
    "x_flat = np.r_[rvs[:,0].min():rvs[:,0].max():128j]\n",
    "y_flat = np.r_[rvs[:,1].min():rvs[:,1].max():128j]\n",
    "x,y = np.meshgrid(x_flat,y_flat)\n",
    "grid_coords = np.append(x.reshape(-1,1),y.reshape(-1,1),axis=1)\n",
    "\n",
    "z = kde(grid_coords.T)\n",
    "z = z.reshape(128,128)\n",
    "\n",
    "plt.imshow(z,aspect=x_flat.ptp()/y_flat.ptp())\n",
    "plt.show()"
   ]
  },
  {
   "cell_type": "code",
   "execution_count": 58,
   "metadata": {},
   "outputs": [
    {
     "data": {
      "text/plain": [
       "(0.0023862402437036597, 0.14743270161822961)"
      ]
     },
     "execution_count": 58,
     "metadata": {},
     "output_type": "execute_result"
    }
   ],
   "source": [
    "n = 600\n",
    "xx = np.random.randn(n)\n",
    "yy = (1 * xx) + np.random.randn(n)\n",
    "kde = stats.gaussian_kde(np.vstack([xx,yy]))\n",
    "zz = kde(np.vstack([xx,yy]))\n",
    "zz.min(),zz.max()"
   ]
  },
  {
   "cell_type": "code",
   "execution_count": 63,
   "metadata": {},
   "outputs": [
    {
     "data": {
      "text/plain": [
       "(2, 600)"
      ]
     },
     "execution_count": 63,
     "metadata": {},
     "output_type": "execute_result"
    }
   ],
   "source": [
    "np.vstack([xx,yy]).shape"
   ]
  },
  {
   "cell_type": "code",
   "execution_count": 60,
   "metadata": {},
   "outputs": [
    {
     "data": {
      "text/plain": [
       "(0.0, 1.0)"
      ]
     },
     "execution_count": 60,
     "metadata": {},
     "output_type": "execute_result"
    }
   ],
   "source": [
    "cc = cm.get_cmap('jet')((zz-zz.min())/(zz.max()-zz.min()))\n",
    "cc.min(),cc.max()"
   ]
  },
  {
   "cell_type": "code",
   "execution_count": 61,
   "metadata": {},
   "outputs": [
    {
     "data": {
      "text/plain": [
       "(500,)"
      ]
     },
     "execution_count": 61,
     "metadata": {},
     "output_type": "execute_result"
    }
   ],
   "source": [
    "np.mgrid[xmin:xmax:500j].shape"
   ]
  },
  {
   "cell_type": "code",
   "execution_count": 62,
   "metadata": {},
   "outputs": [
    {
     "data": {
      "image/png": "[encoded data removed]",
      "text/plain": [
       "<matplotlib.figure.Figure at 0xabf20f0>"
      ]
     },
     "metadata": {},
     "output_type": "display_data"
    }
   ],
   "source": [
    "fig = plt.figure(figsize=(4.3,4))\n",
    "ax = plt.subplot(1,1,1)\n",
    "ax.scatter(xx,yy,facecolors=cc, s=2)\n",
    "ax.set_aspect('equal','datalim')\n",
    "plt.savefig('scatter_gaussian_kde.png', bbox_inches='tight', pad_inches=0.02, dpi=200)\n",
    "\n"
   ]
  },
  {
   "cell_type": "code",
   "execution_count": 8,
   "metadata": {},
   "outputs": [
    {
     "data": {
      "image/png": "[encoded data removed]",
      "text/plain": [
       "<matplotlib.figure.Figure at 0x97b9748>"
      ]
     },
     "metadata": {},
     "output_type": "display_data"
    }
   ],
   "source": [
    "fig = plt.figure(figsize=(4.3,4))\n",
    "ax = plt.subplot(1,1,1)\n",
    "def ScatterDensity(ax, xx, yy, CmapName='jet', Si=2, edgecolor=None):\n",
    "    from scipy.stats import gaussian_kde\n",
    "    kde = stats.gaussian_kde([xx,yy])\n",
    "    zz = kde([xx,yy])\n",
    "    zz.min(),zz.max()\n",
    "    cc = cm.get_cmap(CmapName)((zz-zz.min())/(zz.max()-zz.min()))\n",
    "    ax.scatter(xx,yy,facecolors=cc, s=Si, edgecolor=None)\n",
    "ScatterDensity(ax, xx, yy, CmapName='jet', Si=2, edgecolor=None)"
   ]
  },
  {
   "cell_type": "code",
   "execution_count": 350,
   "metadata": {
    "collapsed": true
   },
   "outputs": [],
   "source": [
    "\n",
    "\n"
   ]
  },
  {
   "cell_type": "code",
   "execution_count": 351,
   "metadata": {
    "collapsed": true
   },
   "outputs": [],
   "source": [
    "y = np.random.randint(0,100,(30,))\n",
    "Indexs = GetIndex(y, )"
   ]
  },
  {
   "cell_type": "code",
   "execution_count": 359,
   "metadata": {},
   "outputs": [
    {
     "data": {
      "text/plain": [
       "30"
      ]
     },
     "execution_count": 359,
     "metadata": {},
     "output_type": "execute_result"
    }
   ],
   "source": [
    "np.sum([len(ind[0]) for ind in Indexs])"
   ]
  },
  {
   "cell_type": "code",
   "execution_count": 366,
   "metadata": {},
   "outputs": [
    {
     "data": {
      "text/plain": [
       "[8, 8, 8, 8]"
      ]
     },
     "execution_count": 366,
     "metadata": {},
     "output_type": "execute_result"
    }
   ],
   "source": [
    "[8 for s in range(len([8,50,88])+1)]"
   ]
  },
  {
   "cell_type": "code",
   "execution_count": 346,
   "metadata": {
    "collapsed": true
   },
   "outputs": [],
   "source": [
    "def GetIndex(y, Thresholds):\n",
    "    sub_s = -np.inf\n",
    "    Indexs = []\n",
    "    Thresholds.append(np.inf)\n",
    "    for s in Thresholds:\n",
    "        Indexs.append(np.where(np.logical_and(y<=s, y>sub_s)))\n",
    "        sub_s = s\n",
    "    assert np.sum([len(ind[0]) for ind in Indexs])==len(y)\n",
    "    return Indexs\n",
    "\n",
    "class my_2IterationsModel():\n",
    "    '''Allows to fit and predicts model with to different steps.'''\n",
    "    def __init__(self, Model, Thresholds, ModelsArguments={}):\n",
    "        Thresholds.append(np.inf)\n",
    "        self.Thres = Thresholds\n",
    "        self.Models_ = [Model(**ModelsArguments) for s in range(1+len(self.Thres))]\n",
    "        self.GlobModel = Model(**ModelsArguments)\n",
    "        self.y_First = np.float()\n",
    "        \n",
    "    def __repr__(self):\n",
    "        return \"2Iters\"+str(self.GlobModel)\n",
    "\n",
    "        \n",
    "    def fit(self,x, y):\n",
    "        self.GlobModel.fit(x,y)\n",
    "\n",
    "        Indexs = GetIndex(y, self.Thres)   \n",
    "        for i, ind in enumerate(Indexs):\n",
    "            if len(x[ind])!=0:\n",
    "                self.Models_[i].fit(x[ind], y[ind])\n",
    "                \n",
    "        self.coef_ = [m.coef_ for m in self.Models_]\n",
    "        self.intercept_ = [m.intercept_ for m in self.Models_]\n",
    "            \n",
    "    def predict(self, x):\n",
    "        self.y_First = self.GlobModel.predict(x)\n",
    "        predicted = np.full(self.y_First.shape, np.nan)\n",
    "        Indexs = GetIndex(self.y_First, self.Thres)  \n",
    "        \n",
    "        for i, ind in enumerate(Indexs):\n",
    "            if len(x[ind])!=0:\n",
    "                predicted[ind] = self.Models_[i].predict(x[ind])\n",
    "        return predicted"
   ]
  },
  {
   "cell_type": "code",
   "execution_count": null,
   "metadata": {},
   "outputs": [],
   "source": []
  },
  {
   "cell_type": "code",
   "execution_count": null,
   "metadata": {
    "collapsed": true
   },
   "outputs": [],
   "source": [
    "def Get_DensityMap(m1,m2, patch=2, bandW='scott'):\n",
    "    from scipy.stats import gaussian_kde\n",
    "    \n",
    "    ymax = m2.max()+patch\n",
    "    xmin = m1.min()-patch\n",
    "    xmax = m1.max()+patch\n",
    "    ymin = m2.min()-patch\n",
    "    X, Y = np.mgrid[xmin:xmax:100j, ymin:ymax:100j]\n",
    "    positions = np.vstack([X.ravel(), Y.ravel()])\n",
    "    values = np.vstack([m1, m2])\n",
    "    kernel = gaussian_kde(values, bandW)\n",
    "    print(kernel.covariance)\n",
    "    return np.rot90(np.reshape(kernel(positions).T, X.shape)), [xmin, xmax, ymin, ymax]\n",
    "\n",
    "def ScatterDensity(ax, xx, yy, Bandw, Map=True,ScatterOptions ={},MapOptions = {}):\n",
    "    '''Should perform a density computation for scatter plot color or density map plot\n",
    "    but gaussian_kde seems to provide wrong elongated gaussian'''\n",
    "    from scipy.stats import gaussian_kde\n",
    "    from matplotlib import cm\n",
    "\n",
    "    \n",
    "    if Map: #if map case\n",
    "        ext,x_mesh,y_mesh,intensity = Quad_densityMap(xx,yy,h=1, grid_size=0.1)\n",
    "        if ScatterOptions== None:\n",
    "            ScatterOptions = {'facecolors':(0,0,1), 's':8, 'edgecolor':(0,0,0), 'linewidth':0.2}\n",
    "            \n",
    "        if MapOptions ==  None:\n",
    "            MapOptions = {'cmap':'Oranges'}\n",
    "            \n",
    "        if np.sum([k=='cmap' for k in MapOptions.keys()])==0:\n",
    "            MapOptions['cmap']='Oranges'\n",
    "        #MapOptions['extent'] = ext\n",
    "        im = ax.pcolormesh(x_mesh,y_mesh,intensity, vmax=np.mean(intensity), **MapOptions)# cmap='Oranges', extent=[xmin, xmax, ymin, ymax])\n",
    "        im = ax.scatter(xx,yy,zorder=2,**ScatterOptions) # facecolors=(0,0,1), s=Si, edgecolor=Edgecolor, linewidth=Linewidth)\n",
    "        #print(Z.max())\n",
    "        #print(Z.min())\n",
    "        #print(np.mean(Z))\n",
    "        #print(np.median(Z))\n",
    "        \n",
    "    else: #if simple scatter case\n",
    "        \n",
    "        kde = gaussian_kde(np.vstack([xx,yy]),Bandw)\n",
    "        zz = kde(np.vstack([xx,yy]))\n",
    "        if ScatterOptions== None:\n",
    "            ScatterOptions = {'cmap':'jet', 's':8, 'edgecolor':None}\n",
    "        if np.sum([k=='s' for k in ScatterOptions.keys()])==0:\n",
    "            ScatterOptions['s'] = 8\n",
    "        if np.sum([k=='cmap' for k in ScatterOptions.keys()])==0:\n",
    "            ScatterOptions['cmap'] = 'jet'\n",
    "            \n",
    "        cc = cm.get_cmap(ScatterOptions['cmap'])((zz-zz.min())/(zz.max()-zz.min()))\n",
    "        ScatterOptions['facecolors'] = cc\n",
    "        im = ax.scatter(xx,yy,zorder=2, **ScatterOptions) #facecolors=cc, s=Si, edgecolor=Edgecolor, linewidth=Linewidth)\n",
    "        \n",
    "    return im"
   ]
  },
  {
   "cell_type": "code",
   "execution_count": null,
   "metadata": {
    "collapsed": true
   },
   "outputs": [],
   "source": [
    "def Quad_densityMap(x,y,h=0.5, grid_size=1):\n",
    "    '''Perform a computaion of density map.\n",
    "    Thank you the web'''\n",
    "    import math\n",
    "\n",
    "    #GETTING X,Y MIN AND MAX\n",
    "    x_min=min(x)\n",
    "    x_max=max(x)\n",
    "    y_min=min(y)\n",
    "    y_max=max(y)\n",
    "\n",
    "    #CONSTRUCT GRID\n",
    "    x_grid=np.arange(x_min-h,x_max+h,grid_size)\n",
    "    y_grid=np.arange(y_min-h,y_max+h,grid_size)\n",
    "    x_mesh,y_mesh=np.meshgrid(x_grid,y_grid)\n",
    "\n",
    "    #GRID CENTER POINT\n",
    "    xc=x_mesh+(grid_size/2)\n",
    "    yc=y_mesh+(grid_size/2)\n",
    "\n",
    "    #FUNCTION TO CALCULATE INTENSITY WITH QUARTIC KERNEL\n",
    "    def kde_quartic(d,h):\n",
    "        dn=d/h\n",
    "        P=(15/16)*(1-dn**2)**2\n",
    "        return P\n",
    "\n",
    "    #PROCESSING\n",
    "    intensity_list=[]\n",
    "    for j in range(len(xc)):\n",
    "        intensity_row=[]\n",
    "        for k in range(len(xc[0])):\n",
    "            kde_value_list=[]\n",
    "            for i in range(len(x)):\n",
    "                #CALCULATE DISTANCE\n",
    "                d=math.sqrt((xc[j][k]-x[i])**2+(yc[j][k]-y[i])**2) \n",
    "                if d<=h:\n",
    "                    p=kde_quartic(d,h)\n",
    "                else:\n",
    "                    p=0\n",
    "                kde_value_list.append(p)\n",
    "            #SUM ALL INTENSITY VALUE\n",
    "            p_total=sum(kde_value_list)\n",
    "            intensity_row.append(p_total)\n",
    "        intensity_list.append(intensity_row)\n",
    "\n",
    "    #HEATMAP OUTPUT    \n",
    "    intensity=np.array(intensity_list)\n",
    "    return [x_min, x_max, y_min, y_max], x_mesh,y_mesh,intensity"
   ]
  },
  {
   "cell_type": "code",
   "execution_count": null,
   "metadata": {
    "collapsed": true
   },
   "outputs": [],
   "source": []
  }
 ],
 "metadata": {
  "kernelspec": {
   "display_name": "Python 3",
   "language": "python",
   "name": "python3"
  },
  "language_info": {
   "codemirror_mode": {
    "name": "ipython",
    "version": 3
   },
   "file_extension": ".py",
   "mimetype": "text/x-python",
   "name": "python",
   "nbconvert_exporter": "python",
   "pygments_lexer": "ipython3",
   "version": "3.6.1"
  }
 },
 "nbformat": 4,
 "nbformat_minor": 2
}
