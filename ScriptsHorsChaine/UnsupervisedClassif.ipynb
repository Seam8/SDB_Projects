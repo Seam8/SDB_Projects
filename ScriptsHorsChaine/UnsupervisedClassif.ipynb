{
 "cells": [
  {
   "cell_type": "code",
   "execution_count": 28,
   "metadata": {
    "collapsed": true
   },
   "outputs": [],
   "source": [
    "%matplotlib inline\n",
    "\n",
    "import sys\n",
    "import os\n",
    "sys.path.append('C:/Users/samrari/ComputBuffer')\n",
    "\n",
    "import numpy as np\n",
    "\n",
    "import matplotlib.pyplot as plt\n",
    "import matplotlib.image as mpimg\n",
    "from matplotlib.colors import Normalize\n",
    "from skimage import exposure, img_as_float, morphology\n",
    "from PIL import Image\n",
    "\n",
    "from osgeo import gdal\n",
    "import osr\n",
    "import xml.etree.ElementTree as ET\n",
    "from my_packages.My_Geoprocess import*\n",
    "\n",
    "from sklearn import metrics\n",
    "from sklearn.ensemble import RandomForestClassifier\n",
    "from sklearn.model_selection import StratifiedKFold\n",
    "from sklearn.model_selection import StratifiedShuffleSplit\n",
    "from sklearn import preprocessing\n",
    "from sklearn.decomposition import PCA\n",
    "from sklearn import svm\n",
    "from sklearn import metrics\n",
    "from sklearn.metrics import silhouette_samples, silhouette_score\n",
    "\n",
    "from sklearn.cluster import KMeans\n",
    "from datetime import datetime\n"
   ]
  },
  {
   "cell_type": "code",
   "execution_count": null,
   "metadata": {
    "collapsed": true
   },
   "outputs": [],
   "source": [
    "\n"
   ]
  },
  {
   "cell_type": "code",
   "execution_count": 177,
   "metadata": {
    "collapsed": true
   },
   "outputs": [],
   "source": [
    "Ncluster = 8\n",
    "Footprint = 'all'"
   ]
  },
  {
   "cell_type": "code",
   "execution_count": 285,
   "metadata": {
    "collapsed": true
   },
   "outputs": [],
   "source": [
    "MaskPath = 'C:/Users/samrari/ComputBuffer/Image/Sen2/S2A_MSIL1C_20170718T231141_N0205_R101_T58KFA_20170718T231219.SAFE/Mask/'\n",
    "shapefile_path = [\"D:/testInterp/error.shp\"]\n",
    "\n",
    "SoilIndex = gdal.Open( MaskPath+'10m.tif')\n",
    "cols = SoilIndex.RasterXSize\n",
    "rows = SoilIndex.RasterYSize\n",
    "geo_transform = SoilIndex.GetGeoTransform()\n",
    "proj = SoilIndex.GetProjectionRef()\n",
    "del SoilIndex\n",
    "\n",
    "'''CompoPath = 'C:/Users/samrari/ComputBuffer/Image/Sen2/S2A_MSIL1C_20170718T231141_N0205_R101_T58KFA_20170718T231219.SAFE/GRANULE/L1C_T58KFA_A010823_20170718T231219/IMG_DATA/Deglinted/Compo.tif'\n",
    "Compo = gdal.Open(CompoPath)\n",
    "CompoBands = np.full((rows, cols, 3), np.NaN, np.uint16)\n",
    "CompoBands = np.dstack((Compo.GetRasterBand(1).ReadAsArray(),\\\n",
    "                     Compo.GetRasterBand(2).ReadAsArray(),\\\n",
    "                     Compo.GetRasterBand(3).ReadAsArray()))'''\n",
    "\n",
    "errors = vectors_to_raster(shapefile_path, rows, cols, geo_transform, proj)\n",
    "\n"
   ]
  },
  {
   "cell_type": "code",
   "execution_count": 31,
   "metadata": {
    "collapsed": true
   },
   "outputs": [],
   "source": [
    "npzfile = np.load('TrainMatrix_all.npz')\n",
    "TX, ClassifIndex = npzfile['arr_0'], npzfile['arr_1']"
   ]
  },
  {
   "cell_type": "code",
   "execution_count": 32,
   "metadata": {
    "collapsed": true
   },
   "outputs": [],
   "source": [
    "errors = errors==1"
   ]
  },
  {
   "cell_type": "code",
   "execution_count": 33,
   "metadata": {},
   "outputs": [
    {
     "data": {
      "text/plain": [
       "(20765849, 11)"
      ]
     },
     "execution_count": 33,
     "metadata": {},
     "output_type": "execute_result"
    }
   ],
   "source": [
    "TX.shape"
   ]
  },
  {
   "cell_type": "code",
   "execution_count": 34,
   "metadata": {},
   "outputs": [
    {
     "name": "stdout",
     "output_type": "stream",
     "text": [
      "(20765849, 11)\n",
      "(20745809, 11)\n"
     ]
    }
   ],
   "source": [
    "Im = np.full((ClassifIndex.shape[0],ClassifIndex.shape[1],TX.shape[1]), np.NaN, TX.dtype)\n",
    "Im[ClassifIndex] = TX\n",
    "ClassifIndex[errors] = False\n",
    "print(TX.shape)\n",
    "TX = Im[ClassifIndex]\n",
    "print(TX.shape)\n",
    "del Im"
   ]
  },
  {
   "cell_type": "code",
   "execution_count": 8,
   "metadata": {
    "collapsed": true
   },
   "outputs": [],
   "source": [
    "scaler = preprocessing.StandardScaler().fit(TX)\n",
    "TX = np.array(scaler.transform(TX))"
   ]
  },
  {
   "cell_type": "code",
   "execution_count": 35,
   "metadata": {},
   "outputs": [
    {
     "data": {
      "text/plain": [
       "array([ -0.23852866,  -4.63836089, -12.701999  ,  -7.9303911 ,\n",
       "        -3.59495069,  -9.3299396 ,  -5.45863511,  -2.40812257,\n",
       "        -0.39222544,   1.4023531 ,   0.07714932])"
      ]
     },
     "execution_count": 35,
     "metadata": {},
     "output_type": "execute_result"
    }
   ],
   "source": [
    "np.mean(TX, axis=0)\n"
   ]
  },
  {
   "cell_type": "code",
   "execution_count": 36,
   "metadata": {},
   "outputs": [
    {
     "data": {
      "text/plain": [
       "array([ 0.36455387,  0.95512315,  1.82614055,  3.10746637,  0.79421928,\n",
       "        1.41927458,  2.50394125,  0.43367454,  1.19026968,  0.61569969,\n",
       "        0.02086536])"
      ]
     },
     "execution_count": 36,
     "metadata": {},
     "output_type": "execute_result"
    }
   ],
   "source": [
    "np.std(TX, axis=0)"
   ]
  },
  {
   "cell_type": "code",
   "execution_count": 178,
   "metadata": {
    "collapsed": true
   },
   "outputs": [],
   "source": [
    "class1 = 'KmeansClassif_'+str(Ncluster)+'Train1.1'+'.tif'\n",
    "\n",
    "test = gdal.Open( 'Classif2/'+class1)\n",
    "Classif = test.GetRasterBand(1).ReadAsArray()"
   ]
  },
  {
   "cell_type": "code",
   "execution_count": 179,
   "metadata": {
    "collapsed": true
   },
   "outputs": [],
   "source": [
    "\n",
    "Y = Classif[ClassifIndex]"
   ]
  },
  {
   "cell_type": "code",
   "execution_count": 150,
   "metadata": {
    "collapsed": true
   },
   "outputs": [],
   "source": [
    "clustersCent = np.asarray([np.mean(TX[Y==i], axis=0) for i in range(1,len(np.unique(Classif)))])"
   ]
  },
  {
   "cell_type": "code",
   "execution_count": 180,
   "metadata": {},
   "outputs": [
    {
     "data": {
      "text/plain": [
       "array([0, 1, 2, 3, 4, 5, 6, 7, 8], dtype=uint16)"
      ]
     },
     "execution_count": 180,
     "metadata": {},
     "output_type": "execute_result"
    }
   ],
   "source": [
    "np.unique(Classif)"
   ]
  },
  {
   "cell_type": "code",
   "execution_count": 182,
   "metadata": {},
   "outputs": [
    {
     "data": {
      "text/plain": [
       "array([ 915780, 1104623, 3906250, 2996513, 3709886, 6015906, 1090638,\n",
       "       1006213])"
      ]
     },
     "execution_count": 182,
     "metadata": {},
     "output_type": "execute_result"
    }
   ],
   "source": [
    "Nombre8"
   ]
  },
  {
   "cell_type": "code",
   "execution_count": 55,
   "metadata": {},
   "outputs": [
    {
     "data": {
      "text/plain": [
       "18.843593201892816"
      ]
     },
     "execution_count": 55,
     "metadata": {},
     "output_type": "execute_result"
    }
   ],
   "source": [
    "def my_dist(x1,x2):\n",
    "    return np.sqrt(np.sum(np.square(x1 - x2)))\n",
    "my_dist(clustersCent[0,:],clustersCent[1,:])\n"
   ]
  },
  {
   "cell_type": "code",
   "execution_count": 157,
   "metadata": {
    "collapsed": true
   },
   "outputs": [],
   "source": [
    "def my_dist(x1,x2):\n",
    "    return np.sqrt(np.sum(np.square(x1 - x2)))\n",
    "\n",
    "Distance_mat = np.full((Ncluster,Ncluster), np.nan, np.float)\n",
    "for i in range(Ncluster):\n",
    "    for i2 in range(Ncluster):\n",
    "        Distance_mat[i,i2] = my_dist(clustersCent[i,:], clustersCent[i2,:])"
   ]
  },
  {
   "cell_type": "code",
   "execution_count": 191,
   "metadata": {},
   "outputs": [
    {
     "data": {
      "text/plain": [
       "0.62257919949036455"
      ]
     },
     "execution_count": 191,
     "metadata": {},
     "output_type": "execute_result"
    }
   ],
   "source": [
    "np.sum(np.multiply(score, Nombre8)) / np.sum(Nombre8)"
   ]
  },
  {
   "cell_type": "code",
   "execution_count": 188,
   "metadata": {
    "collapsed": true
   },
   "outputs": [],
   "source": [
    "score3L = np.array([0.85,0.73,0.61])"
   ]
  },
  {
   "cell_type": "code",
   "execution_count": 189,
   "metadata": {},
   "outputs": [
    {
     "data": {
      "text/plain": [
       "0.68187457090730952"
      ]
     },
     "execution_count": 189,
     "metadata": {},
     "output_type": "execute_result"
    }
   ],
   "source": [
    "np.sum(np.multiply(score3L, Nombre3)) / np.sum(Nombre3)"
   ]
  },
  {
   "cell_type": "code",
   "execution_count": 187,
   "metadata": {},
   "outputs": [
    {
     "data": {
      "text/plain": [
       "0.58432763070362792"
      ]
     },
     "execution_count": 187,
     "metadata": {},
     "output_type": "execute_result"
    }
   ],
   "source": [
    "np.sum(np.multiply(score2, Nombre8)) / np.sum(Nombre8)"
   ]
  },
  {
   "cell_type": "code",
   "execution_count": 66,
   "metadata": {},
   "outputs": [
    {
     "name": "stdout",
     "output_type": "stream",
     "text": [
      "$\\left[\\begin{array}{*{8}c}\n",
      "0.0 & 18.8435932019 & 7.73713566796 & 14.4910239634 & 6.22455418583 & 10.4327051994 & 4.4011059891 & 10.0841007001 \\\\\n",
      "- & 0.0 & 11.3632936752 & 4.46688814319 & 12.6824499755 & 8.55136492478 & 18.754117233 & 9.25322739726 \\\\\n",
      "- & - & 0.0 & 6.91862590292 & 2.61536149492 & 2.83186897938 & 9.1221447589 & 2.55226801899 \\\\\n",
      "- & - & - & 0.0 & 8.4211015369 & 4.12143813858 & 14.800327265 & 4.83364952606 \\\\\n",
      "- & - & - & - & 0.0 & 4.54811095973 & 6.73604017582 & 4.53502011425 \\\\\n",
      "- & - & - & - & - & 0.0 & 11.2098489623 & 1.39976150359 \\\\\n",
      "- & - & - & - & - & - & 0.0 & 11.2033678899 \\\\\n",
      "- & - & - & - & - & - & - & 0.0 \\\\\n",
      "\\end{array}\\right]$\n"
     ]
    }
   ],
   "source": [
    "def bmatrix(a):\n",
    "    text = r'$\\left[\\begin{array}{*{'\n",
    "    text += str(len(a[0]))\n",
    "    text += r'}c}'\n",
    "    text += '\\n'\n",
    "    for x in range(len(a)):\n",
    "        for y in range(len(a[x])):\n",
    "            if np.isnan(a[x][y]):\n",
    "                text += '-'\n",
    "            else:\n",
    "                text += str(a[x][y])\n",
    "            text += r' & '\n",
    "        text = text[:-2]\n",
    "        text += r'\\\\'\n",
    "        text += '\\n'\n",
    "    text += r'\\end{array}\\right]$'\n",
    "\n",
    "    print(text)\n",
    "bmatrix(Distance_mat)"
   ]
  },
  {
   "cell_type": "code",
   "execution_count": 94,
   "metadata": {},
   "outputs": [
    {
     "data": {
      "text/plain": [
       "'\\\\begin{tabular}{lrrrrrrrr}\\n\\\\toprule\\n{} &   0 &     1 &     2 &     3 &     4 &     5 &     6 &     7 \\\\\\\\\\n\\\\midrule\\n0 & 0.0 & 18.84 &  7.74 & 14.49 &  6.22 & 10.43 &  4.40 & 10.08 \\\\\\\\\\n1 &   - &  0.00 & 11.36 &  4.47 & 12.68 &  8.55 & 18.75 &  9.25 \\\\\\\\\\n2 &   - &     - &  0.00 &  6.92 &  2.62 &  2.83 &  9.12 &  2.55 \\\\\\\\\\n3 &   - &     - &     - &  0.00 &  8.42 &  4.12 & 14.80 &  4.83 \\\\\\\\\\n4 &   - &     - &     - &     - &  0.00 &  4.55 &  6.74 &  4.54 \\\\\\\\\\n5 &   - &     - &     - &     - &     - &  0.00 & 11.21 &  1.40 \\\\\\\\\\n6 &   - &     - &     - &     - &     - &     - &  0.00 & 11.20 \\\\\\\\\\n7 &   - &     - &     - &     - &     - &     - &     - &  0.00 \\\\\\\\\\n\\\\bottomrule\\n\\\\end{tabular}\\n'"
      ]
     },
     "execution_count": 94,
     "metadata": {},
     "output_type": "execute_result"
    }
   ],
   "source": [
    "import pandas as pd\n",
    "pd.DataFrame(Distance_mat).to_latex(na_rep='-', float_format='%.2f')"
   ]
  },
  {
   "cell_type": "code",
   "execution_count": 121,
   "metadata": {},
   "outputs": [
    {
     "name": "stdout",
     "output_type": "stream",
     "text": [
      "\\begin{tabular}{lrrr}\n",
      "\\toprule\n",
      "{} &  Class 1 &  Class 2 &  Class 3 \\\\\n",
      "\\midrule\n",
      "Class 1 &      0.0 &    13.26 &     6.57 \\\\\n",
      "Class 2 &        - &     0.00 &     7.09 \\\\\n",
      "Class 3 &        - &        - &     0.00 \\\\\n",
      "\\bottomrule\n",
      "\\end{tabular}\n",
      "\n"
     ]
    }
   ],
   "source": [
    "print(pd.DataFrame(Distance_mat, columns = ['Class 1','Class 2','Class 3'], index = ['Class 1','Class 2','Class 3']).to_latex(longtable = False ,na_rep='-', float_format='%.2f'))"
   ]
  },
  {
   "cell_type": "code",
   "execution_count": 250,
   "metadata": {
    "collapsed": true
   },
   "outputs": [],
   "source": [
    "tableau20 = [(31, 119, 180), (174, 199, 232), (255, 127, 14), (255, 187, 120),  \n",
    "             (44, 160, 44), (152, 223, 138), (214, 39, 40), (255, 152, 150),  \n",
    "             (148, 103, 189), (197, 176, 213), (140, 86, 75), (196, 156, 148),  \n",
    "             (227, 119, 194), (247, 182, 210), (127, 127, 127), (199, 199, 199),  \n",
    "             (188, 189, 34), (219, 219, 141), (23, 190, 207), (158, 218, 229)] "
   ]
  },
  {
   "cell_type": "code",
   "execution_count": 278,
   "metadata": {},
   "outputs": [
    {
     "data": {
      "text/plain": [
       "[<matplotlib.lines.Line2D at 0x292bedd8>]"
      ]
     },
     "execution_count": 278,
     "metadata": {},
     "output_type": "execute_result"
    },
    {
     "data": {
      "image/png": "[encoded data removed]",
      "text/plain": [
       "<matplotlib.figure.Figure at 0x2927c2e8>"
      ]
     },
     "metadata": {},
     "output_type": "display_data"
    }
   ],
   "source": [
    "import matplotlib.pyplot as plt\n",
    "import numpy as np\n",
    "\n",
    "plt.figure(figsize = (10,10))\n",
    "ax = plt.subplot(111)\n",
    "ax.spines[\"top\"].set_visible(False)\n",
    "ax.spines[\"bottom\"].set_visible(False)\n",
    "ax.spines[\"right\"].set_visible(False)\n",
    "ax.spines[\"left\"].set_visible(False)\n",
    "\n",
    "N = 6\n",
    "width = 0.35 \n",
    "c=np.random.rand(8,3)\n",
    "c2=np.random.rand(3,3)\n",
    "\n",
    "Score8L = (0.77,0.80,0.37,0.85,0.57,0.59,0.75,0.71)\n",
    "Score8S = (0.84,0.78,0.27,0.82,0.59,0.55,0.75,0.66)\n",
    "Score3L = (0.85,0.73,0.61)\n",
    "Score3S = (0.81,0.79,0.60)\n",
    "\n",
    "BarL8 = np.multiply(Score8L, Nombre8/ np.sum(Nombre8))\n",
    "CumL8 = np.cumsum(BarL8)\n",
    "for i in range(1,9):\n",
    "    if i == 1 :\n",
    "        bar8 = plt.bar(8-width/2,BarL8[i-1], width ,color=c[i-1], bottom=0, label='Class '+str(i)+'/8')\n",
    "    else:\n",
    "        bar8 = plt.bar(8-width/2,BarL8[i-1], width ,color=c[i-1], bottom=CumL8[i-2], label='Class '+str(i)+'/8')\n",
    "        \n",
    "BarL3 = np.multiply(Score3L, Nombre3/ np.sum(Nombre3))\n",
    "CumL3 = np.cumsum(BarL3)\n",
    "for i in range(1,4):\n",
    "    if i == 1 :\n",
    "        plt.bar(3-width/2,BarL3[i-1], width ,color=c2[i-1], bottom=0, label='Class '+str(i)+'/3')\n",
    "    else:\n",
    "        plt.bar(3-width/2,BarL3[i-1], width ,color=c2[i-1], bottom=CumL3[i-2], label='Class '+str(i)+'/3')\n",
    "        \n",
    "plt.bar(0-width/2,0.62, width ,color=np.random.rand(3,), bottom=0, label='Lyzenga, all obs.')\n",
    "plt.bar(0+width/2,0.65, width ,color=np.random.rand(3,), bottom=0, label='Stumpf, all obs.')\n",
    "plt.legend(loc=(0.42,0.2), fontsize=20) \n",
    "BarS8 = np.multiply(Score8S, Nombre8/ np.sum(Nombre8))\n",
    "CumS8 = np.cumsum(BarS8)\n",
    "for i in range(1,9):\n",
    "    if i == 1 :\n",
    "        plt.bar(8+width/2,BarS8[i-1], width ,color=c[i-1], bottom=0, label='Class '+str(i)+'/8')\n",
    "    else:\n",
    "        plt.bar(8+width/2,BarS8[i-1], width ,color=c[i-1], bottom=CumS8[i-2], label='Class '+str(i)+'/8')\n",
    "\n",
    "\n",
    "BarS3 = np.multiply(Score3S, Nombre3/ np.sum(Nombre3))\n",
    "CumS3 = np.cumsum(BarS3)\n",
    "for i in range(1,4):\n",
    "    if i == 1 :\n",
    "        plt.bar(3+width/2,BarS3[i-1], width ,color=c2[i-1], bottom=0, label='Class '+str(i)+'/3')\n",
    "    else:\n",
    "        plt.bar(3+width/2,BarS3[i-1], width ,color=c2[i-1], bottom=CumS3[i-2], label='Class '+str(i)+'/3')\n",
    "\n",
    "plt.xticks([0-width/2, 0, 0+width/2, 3-width/2, 3, 3+width/2, 8-width/2, 8, 8+width/2],\\\n",
    "           ['Lyzenga','No classes              ', 'Stumpf', 'Lyzenga','3 classes              ', 'Stumpf', 'Lyzenga','8 classes              ', 'Stumpf'],\\\n",
    "          fontsize =16, rotation=90)\n",
    "plt.title('Scores weighted by surfaces',fontsize=20)        \n",
    "plt.xlabel('Number of clusters',fontsize=18)\n",
    "plt.ylabel('$R^{2}$',fontsize=18)\n",
    "plt.xticks(fontsize=16)\n",
    "plt.yticks(fontsize=16)\n",
    "plt.plot([0-width ,8+width], [0.6,0.6], 'k--')"
   ]
  },
  {
   "cell_type": "code",
   "execution_count": 248,
   "metadata": {},
   "outputs": [
    {
     "data": {
      "text/plain": [
       "0.678613972585981"
      ]
     },
     "execution_count": 248,
     "metadata": {},
     "output_type": "execute_result"
    }
   ],
   "source": [
    "np.sum(BarS3)"
   ]
  },
  {
   "cell_type": "code",
   "execution_count": 283,
   "metadata": {},
   "outputs": [
    {
     "data": {
      "text/plain": [
       "array([ 0.03708003,  0.0786116 ,  0.12945018,  0.24789052,  0.35339774,\n",
       "        0.5128877 ,  0.55231632,  0.58432763])"
      ]
     },
     "execution_count": 283,
     "metadata": {},
     "output_type": "execute_result"
    }
   ],
   "source": [
    "CumS8"
   ]
  },
  {
   "cell_type": "code",
   "execution_count": null,
   "metadata": {
    "collapsed": true
   },
   "outputs": [],
   "source": [
    "    \n",
    "        \n",
    "Score8S = (0.84,0.78,0.27,0.82,0.59,0.55,0.75,0.66)\n",
    "\n",
    "ind = np.arange(N)    # the x locations for the groups\n",
    "width = 0.35       # the width of the bars: can also be len(x) sequence\n",
    "\n",
    "p1 = ax.bar(ind, menMeans, width, color=(0.2588,0.4433,1.0))\n",
    "p2 = ax.bar(ind, womenMeans, width, color=(1.0,0.5,0.62),\n",
    "             bottom=menMeans)\n",
    "ax.set_ylabel('Scores')\n",
    "ax.set_xlabel('Groups')\n",
    "ax.set_title('Scores by group and gender')\n",
    "\n",
    "ax.set_xticks(ind + width/2.)\n",
    "ax.set_yticks(np.arange(0, 81, 10))\n",
    "ax.set_xticklabels(('G1', 'G2', 'G3', 'G4', 'G5'))\n",
    "\n",
    "plotly_fig = tls.mpl_to_plotly( mpl_fig )\n",
    "\n",
    "# For Legend\n",
    "plotly_fig[\"layout\"][\"showlegend\"] = True\n",
    "plotly_fig[\"data\"][0][\"name\"] = \"Men\"\n",
    "plotly_fig[\"data\"][1][\"name\"] = \"Women\"\n"
   ]
  },
  {
   "cell_type": "code",
   "execution_count": 15,
   "metadata": {},
   "outputs": [
    {
     "name": "stdout",
     "output_type": "stream",
     "text": [
      "(24675890, 11)\n",
      "(24655850, 11)\n"
     ]
    }
   ],
   "source": [
    "npzfile = np.load('TrainMatrixGlob_all.npz')\n",
    "TX, ClassifIndex = npzfile['arr_0'], npzfile['arr_1']\n",
    "TX = np.array(scaler.transform(TX))\n",
    "Im = np.full((ClassifIndex.shape[0],ClassifIndex.shape[1],TX.shape[1]), np.NaN, TX.dtype)\n",
    "Im[ClassifIndex] = TX\n",
    "ClassifIndex[errors] = False\n",
    "print(TX.shape)\n",
    "TX = Im[ClassifIndex]\n",
    "print(TX.shape)\n",
    "del Im"
   ]
  },
  {
   "cell_type": "code",
   "execution_count": 286,
   "metadata": {
    "collapsed": true
   },
   "outputs": [],
   "source": [
    "npzfile = np.load('TrainMatrixGlob_all.npz')\n",
    "ClassifIndex =  npzfile['arr_1']\n",
    "ClassifIndex[errors] = False\n"
   ]
  },
  {
   "cell_type": "code",
   "execution_count": 16,
   "metadata": {
    "collapsed": true
   },
   "outputs": [],
   "source": [
    "knownKm = KMeans()\n",
    "knownKm.cluster_centers_ = clustersCent"
   ]
  },
  {
   "cell_type": "code",
   "execution_count": 17,
   "metadata": {
    "collapsed": true
   },
   "outputs": [],
   "source": [
    "newY = knownKm.predict(TX)"
   ]
  },
  {
   "cell_type": "code",
   "execution_count": 18,
   "metadata": {
    "collapsed": true
   },
   "outputs": [],
   "source": [
    "newY[newY==0]=Ncluster"
   ]
  },
  {
   "cell_type": "code",
   "execution_count": 287,
   "metadata": {},
   "outputs": [
    {
     "data": {
      "text/plain": [
       "<matplotlib.image.AxesImage at 0x26c4e2b0>"
      ]
     },
     "execution_count": 287,
     "metadata": {},
     "output_type": "execute_result"
    },
    {
     "data": {
      "image/png": "[encoded data removed]",
      "text/plain": [
       "<matplotlib.figure.Figure at 0x2ae11f28>"
      ]
     },
     "metadata": {},
     "output_type": "display_data"
    }
   ],
   "source": [
    "plt.imshow(ClassifIndex)"
   ]
  },
  {
   "cell_type": "code",
   "execution_count": 20,
   "metadata": {},
   "outputs": [
    {
     "data": {
      "image/png": "[encoded data removed]",
      "text/plain": [
       "<matplotlib.figure.Figure at 0x5623240>"
      ]
     },
     "metadata": {},
     "output_type": "display_data"
    }
   ],
   "source": [
    "image = np.full(ClassifIndex.shape,0, dtype=np.int8)\n",
    "image[ClassifIndex]= newY\n",
    "plt.imshow(image)\n",
    "MaskPath = 'C:/Users/samrari/ComputBuffer/Image/Sen2/S2A_MSIL1C_20170718T231141_N0205_R101_T58KFA_20170718T231219.SAFE/Mask/'\n",
    "SoilIndex = gdal.Open( MaskPath+'10m.tif') "
   ]
  },
  {
   "cell_type": "code",
   "execution_count": 284,
   "metadata": {},
   "outputs": [
    {
     "data": {
      "text/plain": [
       "<matplotlib.image.AxesImage at 0x26b70ac8>"
      ]
     },
     "execution_count": 284,
     "metadata": {},
     "output_type": "execute_result"
    },
    {
     "data": {
      "image/png": "[encoded data removed]",
      "text/plain": [
       "<matplotlib.figure.Figure at 0x26b754e0>"
      ]
     },
     "metadata": {},
     "output_type": "display_data"
    }
   ],
   "source": [
    "plt.imshow(ClassifIndex)"
   ]
  },
  {
   "cell_type": "code",
   "execution_count": 289,
   "metadata": {},
   "outputs": [
    {
     "name": "stderr",
     "output_type": "stream",
     "text": [
      "C:\\ProgramData\\Anaconda3\\lib\\site-packages\\ipykernel_launcher.py:7: RuntimeWarning: invalid value encountered in less_equal\n",
      "  import sys\n"
     ]
    }
   ],
   "source": [
    "image = np.full(ClassifIndex.shape,np.nan, dtype=np.float64)\n",
    "ShomBathy = gdal.Open( 'D:/Data_SHOM/ShomBathyCubicFull.tif')\n",
    "geo_transform = ShomBathy.GetGeoTransform()\n",
    "proj = ShomBathy.GetProjectionRef()\n",
    "ShomBathy = ShomBathy.GetRasterBand(1).ReadAsArray()\n",
    "\n",
    "index = np.logical_and(ShomBathy <= 35, ClassifIndex)\n",
    "image[index] = ShomBathy[index]\n",
    "\n",
    "write_raster2('D:/Data_SHOM/ShomBathyPYClip.tif', image, geo_transform, proj, DriverName=\"GTiff\", formatMem=gdal.GDT_Float64)"
   ]
  },
  {
   "cell_type": "code",
   "execution_count": 21,
   "metadata": {},
   "outputs": [
    {
     "name": "stdout",
     "output_type": "stream",
     "text": [
      "B02_11.shp\n"
     ]
    }
   ],
   "source": [
    "\n",
    "class1 = 'Classif/Full'+title\n",
    "\n",
    "test = gdal.Open('Classif2/Full'+title)\n",
    "Classif = test.GetRasterBand(1).ReadAsArray()\n",
    "geo_transform = test.GetGeoTransform()\n",
    "proj = test.GetProjectionRef()\n",
    "rows, cols = test.RasterXSize , test.RasterYSize\n",
    "\n",
    "FootprintFilePath = 'C:/Users/samrari/ComputBuffer/Image/Sen2/S2A_MSIL1C_20170718T231141_N0205_R101_T58KFA_20170718T231219.SAFE/Mask/FootPrint/'\n",
    "\n",
    "for File in GetSimpleFiles(\"B02_11.shp\", directory=FootprintFilePath):\n",
    "    print(File)\n",
    "    FP = create_mask_from_vector(FootprintFilePath + File, cols, rows, geo_transform, \\\n",
    "                                             proj, target_value=1, format=gdal.GDT_Byte)\n",
    "    FP = FP.GetRasterBand(1).ReadAsArray().astype(bool)\n",
    "    \n",
    "\n",
    "Classif[FP==True] = 0\n",
    "write_raster2('Classif2/Full'+title, Classif, geo_transform, proj, DriverName=\"GTiff\", formatMem=gdal.GDT_UInt16)"
   ]
  },
  {
   "cell_type": "code",
   "execution_count": 26,
   "metadata": {},
   "outputs": [
    {
     "name": "stdout",
     "output_type": "stream",
     "text": [
      "0 99814591 98814927\n",
      "1 915780 1156087\n",
      "2 1104623 4133496\n",
      "3 3906250 3203490\n",
      "4 2996513 3743713\n",
      "5 3709886 6428117\n",
      "6 6015906 1093801\n",
      "7 1090638 1039121\n",
      "8 1006213 947648\n"
     ]
    }
   ],
   "source": [
    "title = 'KmeansClassif_'+str(Ncluster)+'Train1.1'+'.tif'\n",
    "class1 = 'Classif/Full'+title  \n",
    "\n",
    "test = gdal.Open('Classif2/Full'+title)\n",
    "FullClassif = test.GetRasterBand(1).ReadAsArray()\n",
    "\n",
    "class1 = 'Classif/Full'+title\n",
    "\n",
    "test = gdal.Open('Classif2/'+title)\n",
    "Classif = test.GetRasterBand(1).ReadAsArray()\n",
    "\n",
    "for i in np.unique(Classif):\n",
    "    print(i, np.sum(Classif==i), np.sum(FullClassif==i))"
   ]
  },
  {
   "cell_type": "code",
   "execution_count": 27,
   "metadata": {
    "collapsed": true
   },
   "outputs": [],
   "source": [
    "Temp = np.full(Classif.shape, 0, Classif.dtype)\n",
    "Temp[:] = FullClassif[:]\n",
    "FullClassif[Temp==1] = 2\n",
    "FullClassif[Temp==2] = 3\n",
    "FullClassif[Temp==3] = 4\n",
    "FullClassif[Temp==4] = 5\n",
    "FullClassif[Temp==5] = 6\n",
    "FullClassif[Temp==6] = 7\n",
    "FullClassif[Temp==7] = 8\n",
    "FullClassif[Temp==8] = 1\n",
    "write_raster2('Classif2/FullFin'+title, FullClassif, geo_transform, proj, DriverName=\"GTiff\", formatMem=gdal.GDT_UInt16)"
   ]
  },
  {
   "cell_type": "code",
   "execution_count": 249,
   "metadata": {},
   "outputs": [
    {
     "data": {
      "text/plain": [
       "409191.3214990138"
      ]
     },
     "execution_count": 249,
     "metadata": {},
     "output_type": "execute_result"
    }
   ],
   "source": [
    "451*460000/507"
   ]
  }
 ],
 "metadata": {
  "kernelspec": {
   "display_name": "Python 3",
   "language": "python",
   "name": "python3"
  },
  "language_info": {
   "codemirror_mode": {
    "name": "ipython",
    "version": 3
   },
   "file_extension": ".py",
   "mimetype": "text/x-python",
   "name": "python",
   "nbconvert_exporter": "python",
   "pygments_lexer": "ipython3",
   "version": "3.6.1"
  }
 },
 "nbformat": 4,
 "nbformat_minor": 2
}
