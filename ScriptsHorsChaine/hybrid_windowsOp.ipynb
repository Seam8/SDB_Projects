{
 "cells": [
  {
   "cell_type": "code",
   "execution_count": null,
   "metadata": {
    "collapsed": true
   },
   "outputs": [],
   "source": [
    "%matplotlib inline\n",
    "\n",
    "import numpy as np\n",
    "import scipy as sp\n",
    "import matplotlib.pyplot as plt"
   ]
  },
  {
   "cell_type": "code",
   "execution_count": null,
   "metadata": {},
   "outputs": [],
   "source": [
    "Image = np.random.randn(100,100)\n",
    "plt.imshow(Image)"
   ]
  },
  {
   "cell_type": "code",
   "execution_count": null,
   "metadata": {},
   "outputs": [],
   "source": [
    "[slice(None, None, st) for st in 3]"
   ]
  },
  {
   "cell_type": "code",
   "execution_count": null,
   "metadata": {},
   "outputs": [],
   "source": [
    "n = 5  # neighborhood size\n",
    "\n",
    "wr = int(l/2)\n",
    "h, w, d = face1.shape\n",
    "s = face1.strides\n",
    "\n",
    "tmp = np.lib.stride_tricks.as_strided(face1, strides=s[:2] + s,\n",
    "                                      shape=(h - n + 1, w - n + 1, n, n, d))"
   ]
  },
  {
   "cell_type": "code",
   "execution_count": null,
   "metadata": {
    "collapsed": true
   },
   "outputs": [],
   "source": [
    "\n",
    "l = 3001\n",
    "shap = Depth.shape[:-1] + (Depth.shape[-1] - l + 1, l)\n",
    "strid = Depth.strides + (Depth.strides[-1],)\n",
    "Strided_Depth = np.lib.stride_tricks.as_strided(Depth, shape=shap, strides=strid)\n",
    "Strided_Depth.shape\n",
    "wind = int(l/2)\n",
    "Time_reduced = Time[wind:-wind]\n",
    "print(len(Time_reduced) ==  len(Strided_Depth))\n",
    "\n",
    "loc = 2000\n",
    "print(np.sum(Strided_Depth[loc,:]!=Depth[loc:loc+l]) == 0 and Strided_Depth[loc-wind,wind]==Depth[loc])\n",
    "Smooth_Depth = np.mean(Strided_Depth, axis=1)"
   ]
  }
 ],
 "metadata": {
  "kernelspec": {
   "display_name": "Python 3",
   "language": "python",
   "name": "python3"
  },
  "language_info": {
   "codemirror_mode": {
    "name": "ipython",
    "version": 3
   },
   "file_extension": ".py",
   "mimetype": "text/x-python",
   "name": "python",
   "nbconvert_exporter": "python",
   "pygments_lexer": "ipython3",
   "version": "3.6.1"
  }
 },
 "nbformat": 4,
 "nbformat_minor": 2
}
