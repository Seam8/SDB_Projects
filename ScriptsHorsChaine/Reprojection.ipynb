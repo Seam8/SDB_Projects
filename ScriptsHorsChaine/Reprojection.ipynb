{
 "cells": [
  {
   "cell_type": "code",
   "execution_count": 1,
   "metadata": {
    "collapsed": true
   },
   "outputs": [],
   "source": [
    "import sys\n",
    "import os\n",
    "\n",
    "import numpy as np\n",
    "import pandas as pd\n",
    "\n",
    "import matplotlib.pyplot as plt\n",
    "from skimage import exposure, img_as_float, morphology\n",
    "\n",
    "from osgeo import gdal\n",
    "import osr\n",
    "import xml.etree.ElementTree as ET\n",
    "from my_packages.My_Geoprocess import*"
   ]
  },
  {
   "cell_type": "code",
   "execution_count": 2,
   "metadata": {
    "collapsed": true
   },
   "outputs": [],
   "source": [
    "FilePath = 'C:/Users/samrari/ComputBuffer/Image/Sen2/S2A_MSIL1C_20170718T231141_N0205_R101_T58KFA_20170718T231219.SAFE/'\n",
    "image_filePath = \"C:/Users/samrari/ComputBuffer/Image/Sen2/S2A_MSIL1C_20170718T231141_N0205_R101_T58KFA_20170718T231219.SAFE/GRANULE/L1C_T58KFA_A010823_20170718T231219/IMG_DATA/\"\n",
    "xml_fileName = \"MTD_MSIL1C.xml\""
   ]
  },
  {
   "cell_type": "code",
   "execution_count": 3,
   "metadata": {},
   "outputs": [
    {
     "name": "stdout",
     "output_type": "stream",
     "text": [
      "SENTINEL2_L1C:C:/Users/samrari/ComputBuffer/Image/Sen2/S2A_MSIL1C_20170718T231141_N0205_R101_T58KFA_20170718T231219.SAFE/MTD_MSIL1C.xml:10m:EPSG_32758\n",
      "SENTINEL2_L1C:C:/Users/samrari/ComputBuffer/Image/Sen2/S2A_MSIL1C_20170718T231141_N0205_R101_T58KFA_20170718T231219.SAFE/MTD_MSIL1C.xml:20m:EPSG_32758\n",
      "SENTINEL2_L1C:C:/Users/samrari/ComputBuffer/Image/Sen2/S2A_MSIL1C_20170718T231141_N0205_R101_T58KFA_20170718T231219.SAFE/MTD_MSIL1C.xml:60m:EPSG_32758\n",
      "SENTINEL2_L1C:C:/Users/samrari/ComputBuffer/Image/Sen2/S2A_MSIL1C_20170718T231141_N0205_R101_T58KFA_20170718T231219.SAFE/MTD_MSIL1C.xml:TCI:EPSG_32758\n"
     ]
    }
   ],
   "source": [
    "ds = gdal.Open( FilePath + xml_fileName )\n",
    "\n",
    "if ds is None or gdal.GetLastErrorMsg() != '':\n",
    "    print('xml failed to load')\n",
    "    \n",
    "DataSet_md = ds.GetMetadata()\n",
    "SubDataSet_md = ds.GetMetadata('SUBDATASETS')\n",
    "# Try opening the 4 subdatasets\n",
    "ds = []\n",
    "for i in range(4):\n",
    "    gdal.ErrorReset()\n",
    "    ds.append(gdal.Open(SubDataSet_md['SUBDATASET_%d_NAME' % (i+1)]))\n",
    "    print(SubDataSet_md['SUBDATASET_%d_NAME' % (i+1)])\n",
    "    if ds is None or gdal.GetLastErrorMsg() != '':\n",
    "        print('subdatasets failed to load')\n",
    "        print(SubDataSet_md['SUBDATASET_%d_NAME' % (i+1)],'failed')"
   ]
  },
  {
   "cell_type": "code",
   "execution_count": 4,
   "metadata": {
    "collapsed": true
   },
   "outputs": [],
   "source": [
    "# Output / destination\n",
    "dst_filename = image_filePath+'Deglinted/Res_'+'Blue_Ex_bi.tif'\n",
    "dst = gdal.GetDriverByName('GTiff').Create(dst_filename, ds[0].RasterXSize, ds[0].RasterYSize, 1, gdal.GDT_UInt16)\n",
    "dst.SetGeoTransform(ds[0].GetGeoTransform() )\n",
    "dst.SetProjection( ds[0].GetProjection())\n",
    "\n",
    "temp = gdal.Open(image_filePath+'/Deglinted/'+'Blue_Ex.tif')\n",
    "\n",
    "gdal.ReprojectImage(temp, dst, None, None, gdal.GRA_Bilinear)\n",
    "\n",
    "dst= None\n",
    "temp = None"
   ]
  },
  {
   "cell_type": "code",
   "execution_count": 6,
   "metadata": {},
   "outputs": [
    {
     "data": {
      "text/plain": [
       "''"
      ]
     },
     "execution_count": 6,
     "metadata": {},
     "output_type": "execute_result"
    }
   ],
   "source": [
    "gdal.GetLastErrorMsg()"
   ]
  },
  {
   "cell_type": "code",
   "execution_count": 13,
   "metadata": {
    "collapsed": true
   },
   "outputs": [],
   "source": [
    "dst= None\n",
    "temp = None"
   ]
  },
  {
   "cell_type": "code",
   "execution_count": 5,
   "metadata": {
    "collapsed": true
   },
   "outputs": [],
   "source": [
    "# Output / destination\n",
    "dst_filename = image_filePath+'Deglinted/Res_'+'Blue_Ex_Lanczos.tif'\n",
    "dst = gdal.GetDriverByName('GTiff').Create(dst_filename, ds[0].RasterXSize, ds[0].RasterYSize, 1, gdal.GDT_UInt16)\n",
    "dst.SetGeoTransform(ds[0].GetGeoTransform())\n",
    "dst.SetProjection( ds[0].GetProjection())\n",
    "\n",
    "temp = gdal.Open(image_filePath+'/Deglinted/'+'Blue_Ex.tif')\n",
    "\n",
    "gdal.ReprojectImage(temp, dst, None, None, gdal.GRA_Lanczos )\n",
    "\n",
    "dst= None\n",
    "temp = None"
   ]
  }
 ],
 "metadata": {
  "kernelspec": {
   "display_name": "Python 3",
   "language": "python",
   "name": "python3"
  },
  "language_info": {
   "codemirror_mode": {
    "name": "ipython",
    "version": 3
   },
   "file_extension": ".py",
   "mimetype": "text/x-python",
   "name": "python",
   "nbconvert_exporter": "python",
   "pygments_lexer": "ipython3",
   "version": "3.6.1"
  }
 },
 "nbformat": 4,
 "nbformat_minor": 2
}
