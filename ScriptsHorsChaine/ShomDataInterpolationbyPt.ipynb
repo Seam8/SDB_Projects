{
 "cells": [
  {
   "cell_type": "code",
   "execution_count": 1,
   "metadata": {
    "collapsed": true
   },
   "outputs": [],
   "source": [
    "%matplotlib inline\n",
    "\n",
    "import sys\n",
    "import os\n",
    "sys.path.append('C:/Users/samrari/ComputBuffer')\n",
    "\n",
    "import numpy as np\n",
    "import pandas as pd\n",
    "\n",
    "import matplotlib.pyplot as plt\n",
    "from skimage import exposure, img_as_float, morphology\n",
    "\n",
    "from osgeo import gdal\n",
    "import osr\n",
    "import xml.etree.ElementTree as ET\n",
    "import os, fnmatch\n",
    "\n",
    "from my_packages.My_Geoprocess import*"
   ]
  },
  {
   "cell_type": "code",
   "execution_count": 2,
   "metadata": {},
   "outputs": [
    {
     "ename": "SyntaxError",
     "evalue": "invalid syntax (<ipython-input-2-0ab888f6f963>, line 3)",
     "output_type": "error",
     "traceback": [
      "\u001b[1;36m  File \u001b[1;32m\"<ipython-input-2-0ab888f6f963>\"\u001b[1;36m, line \u001b[1;32m3\u001b[0m\n\u001b[1;33m    source code\u001b[0m\n\u001b[1;37m              ^\u001b[0m\n\u001b[1;31mSyntaxError\u001b[0m\u001b[1;31m:\u001b[0m invalid syntax\n"
     ]
    }
   ],
   "source": [
    "\n",
    "GridOptions(options=[], format='GTiff', outputType=GDT_Unknown, width=0, height=0, creationOptions=None, outputBounds=None, outputSRS=None, noData=None, algorithm=None, layers=None, SQLStatement=None, where=None, spatFilter=None, zfield=None, z_increase=None, z_multiply=None, callback=None, callback_data=None)\n",
    "source code \n",
    "Create a GridOptions() object that can be passed to gdal.Grid()\n",
    "Keyword arguments are :\n",
    "  options --- can be be an array of strings, a string or let empty and filled from other keywords.\n",
    "  format --- output format (\"GTiff\", etc...)\n",
    "  outputType --- output type (gdal.GDT_Byte, etc...)\n",
    "  width --- width of the output raster in pixel\n",
    "  height --- height of the output raster in pixel\n",
    "  creationOptions --- list of creation options\n",
    "  outputBounds --- assigned output bounds: [ulx, uly, lrx, lry]\n",
    "  outputSRS --- assigned output SRS\n",
    "  noData --- nodata value\n",
    "  algorithm --- e.g \"invdist:power=2.0:smoothing=0.0:radius1=0.0:radius2=0.0:angle=0.0:max_points=0:min_points=0:nodata=0.0\"\n",
    "  layers --- list of layers to convert\n",
    "  SQLStatement --- SQL statement to apply to the source dataset\n",
    "  where --- WHERE clause to apply to source layer(s)\n",
    "  spatFilter --- spatial filter as (minX, minY, maxX, maxY) bounding box\n",
    "  zfield --- Identifies an attribute field on the features to be used to get a Z value from. This value overrides Z value read from feature geometry record.\n",
    "  z_increase --- Addition to the attribute field on the features to be used to get a Z value from. The addition should be the same unit as Z value. The result value will be Z value + Z increase value. The default value is 0.\n",
    "  z_multiply - Multiplication ratio for Z field. This can be used for shift from e.g. foot to meters or from  elevation to deep. The result value will be (Z value + Z increase value) * Z multiply value.  The default value is 1.\n",
    "  callback --- callback method\n",
    "  callback_data --- user data for callback"
   ]
  },
  {
   "cell_type": "code",
   "execution_count": null,
   "metadata": {
    "collapsed": true
   },
   "outputs": [],
   "source": [
    "gridopt = gdal.GridOptions(format='GTiff', width= 10980,height= 10980, spatFilter=(165.9735606070099, -22.692427357900442,167.02786117314153, -21.691015824552036),  algorithm='invdist:power=2')\n",
    "output = gdal.Grid('outputlinear.tif','newpoints.vrt',options=gridopt)"
   ]
  },
  {
   "cell_type": "markdown",
   "metadata": {},
   "source": [
    "# Metadatas extraction, reading and checking"
   ]
  },
  {
   "cell_type": "code",
   "execution_count": 47,
   "metadata": {
    "scrolled": true
   },
   "outputs": [
    {
     "data": {
      "text/plain": [
       "{'CLOUD_COVERAGE_ASSESSMENT': '0.7371',\n",
       " 'DATATAKE_1_DATATAKE_SENSING_START': '2017-07-18T23:11:41.026Z',\n",
       " 'DATATAKE_1_DATATAKE_TYPE': 'INS-NOBS',\n",
       " 'DATATAKE_1_ID': 'GS2A_20170718T231141_010823_N02.05',\n",
       " 'DATATAKE_1_SENSING_ORBIT_DIRECTION': 'DESCENDING',\n",
       " 'DATATAKE_1_SENSING_ORBIT_NUMBER': '101',\n",
       " 'DATATAKE_1_SPACECRAFT_NAME': 'Sentinel-2A',\n",
       " 'DEGRADED_ANC_DATA_PERCENTAGE': '0',\n",
       " 'DEGRADED_MSI_DATA_PERCENTAGE': '0',\n",
       " 'FOOTPRINT': 'POLYGON((166.35532632901763 -21.6970894719947, 166.46954229960608 -21.722967647825207, 166.46958826624325 -21.7227815159352, 166.47163316358743 -21.7232445791535, 166.4716453848504 -21.723194893765147, 166.47183341263485 -21.72323722848605, 166.4718497080836 -21.72317095690131, 166.71071733633568 -21.7773031127493, 166.71050830013448 -21.778173871448455, 166.9264041597562 -21.83047594674156, 166.92645036494807 -21.830281694363315, 166.92658079158798 -21.830313185021467, 166.9266070084699 -21.830202736161407, 166.92874668649648 -21.830719126399448, 166.9288309761426 -21.83036423313332, 166.9289076236981 -21.830382658207373, 166.92891398022854 -21.830355909665982, 166.92918676313775 -21.830421198311733, 166.92921857508705 -21.830287211531967, 167.0302136344074 -21.85428940442891, 167.0421445524261 -22.68235986963814, 165.97356060701102 -22.692427358198604, 165.9667468166063 -21.700598724892142, 166.35532632901763 -21.6970894719947))',\n",
       " 'FORMAT_CORRECTNESS_FLAG': 'PASSED',\n",
       " 'GENERAL_QUALITY_FLAG': 'PASSED',\n",
       " 'GENERATION_TIME': '2017-07-18T23:12:19.000000Z',\n",
       " 'GEOMETRIC_QUALITY_FLAG': 'PASSED',\n",
       " 'PREVIEW_GEO_INFO': 'Not applicable',\n",
       " 'PREVIEW_IMAGE_URL': 'Not applicable',\n",
       " 'PROCESSING_BASELINE': '02.05',\n",
       " 'PROCESSING_LEVEL': 'Level-1C',\n",
       " 'PRODUCT_START_TIME': '2017-07-18T23:11:41.026Z',\n",
       " 'PRODUCT_STOP_TIME': '2017-07-18T23:11:41.026Z',\n",
       " 'PRODUCT_TYPE': 'S2MSI1C',\n",
       " 'PRODUCT_URI': 'S2A_MSIL1C_20170718T231141_N0205_R101_T58KFA_20170718T231219.SAFE',\n",
       " 'QUANTIFICATION_VALUE': '10000',\n",
       " 'RADIOMETRIC_QUALITY_FLAG': 'PASSED',\n",
       " 'REFERENCE_BAND': 'B1',\n",
       " 'REFLECTANCE_CONVERSION_U': '0.96789089972708',\n",
       " 'SENSOR_QUALITY_FLAG': 'PASSED',\n",
       " 'SPECIAL_VALUE_NODATA': '0',\n",
       " 'SPECIAL_VALUE_SATURATED': '65535'}"
      ]
     },
     "execution_count": 47,
     "metadata": {},
     "output_type": "execute_result"
    }
   ],
   "source": [
    "xml_filePath = \"C:/Users/samrari/ComputBuffer/Image/Sen2/S2A_MSIL1C_20170718T231141_N0205_R101_T58KFA_20170718T231219.SAFE/\"\n",
    "xml_fileName = \"MTD_MSIL1C.xml\"\n",
    "gdal.ErrorReset()\n",
    "ds = gdal.Open( xml_filePath + xml_fileName )\n",
    "\n",
    "if ds is None or gdal.GetLastErrorMsg() != '':\n",
    "    print('xml failed to load')\n",
    "    \n",
    "DataSet_md = ds.GetMetadata()\n",
    "SubDataSet_md = ds.GetMetadata('SUBDATASETS')\n",
    "ds = []\n",
    "DataSet_md\n"
   ]
  },
  {
   "cell_type": "code",
   "execution_count": 48,
   "metadata": {},
   "outputs": [
    {
     "data": {
      "text/plain": [
       "4"
      ]
     },
     "execution_count": 48,
     "metadata": {},
     "output_type": "execute_result"
    }
   ],
   "source": [
    "# Try opening the 4 subdatasets\n",
    "for i in range(4):\n",
    "    gdal.ErrorReset()\n",
    "    ds.append(gdal.Open(SubDataSet_md['SUBDATASET_%d_NAME' % (i+1)]))\n",
    "    if ds is None or gdal.GetLastErrorMsg() != '':\n",
    "        print('subdatasets failed to load')\n",
    "        print(SubDataSet_md['SUBDATASET_%d_NAME' % (i+1)])\n",
    "src_ds = ds[0]\n",
    "ds[0].RasterCount"
   ]
  },
  {
   "cell_type": "markdown",
   "metadata": {},
   "source": [
    "# Look for common footprints"
   ]
  },
  {
   "cell_type": "code",
   "execution_count": 49,
   "metadata": {},
   "outputs": [
    {
     "name": "stdout",
     "output_type": "stream",
     "text": [
      "Upper left corner :  (165.9735606070099, -22.692427357900442) \n",
      "Lower right corner :  (167.02786117314153, -21.691015824552036)\n"
     ]
    }
   ],
   "source": [
    "# Define Raster Footprint\n",
    "\n",
    "RasterWidth = src_ds.RasterXSize\n",
    "RasterHeight = src_ds.RasterYSize\n",
    "GT_ds = src_ds.GetGeoTransform()\n",
    "min_x = GT_ds[0]\n",
    "min_y = GT_ds[3] + RasterWidth*GT_ds[4] + RasterHeight*GT_ds[5] \n",
    "max_x = GT_ds[0] + RasterWidth*GT_ds[1] + RasterHeight*GT_ds[2]\n",
    "max_y = GT_ds[3] \n",
    "\n",
    "srs_ds = osr.SpatialReference()\n",
    "srs_ds.ImportFromWkt(src_ds.GetProjection())\n",
    "\n",
    "srsLatLong = srs_ds.CloneGeogCS()\n",
    "ct_ds = osr.CoordinateTransformation(srs_ds,srsLatLong)\n",
    "\n",
    "min_E, min_N = ct_ds.TransformPoint(min_x, min_y)[:2]\n",
    "max_E, max_N = ct_ds.TransformPoint(max_x, max_y)[:2]\n",
    "\n",
    "print('Upper left corner : ', (min_E, min_N), '\\nLower right corner : ', (max_E, max_N))\n"
   ]
  },
  {
   "cell_type": "code",
   "execution_count": 55,
   "metadata": {},
   "outputs": [
    {
     "data": {
      "text/plain": [
       "10980"
      ]
     },
     "execution_count": 55,
     "metadata": {},
     "output_type": "execute_result"
    }
   ],
   "source": [
    "RasterWidth 600000.0000000000000000,7490200.0000000000000000 : 709800.0000000000000000,7600000.0000000000000000"
   ]
  },
  {
   "cell_type": "markdown",
   "metadata": {},
   "source": [
    "# Look for common footprints : checks xml files"
   ]
  },
  {
   "cell_type": "code",
   "execution_count": 50,
   "metadata": {
    "collapsed": true
   },
   "outputs": [],
   "source": [
    "RePath_xmlDirectory = 'Data_SHOM/Global'\n",
    "TimeThres = 1950\n",
    "#%timeit GetXml_byFootprint(RePath_xmlDirectory,(min_E, max_E), (min_N, max_N))\n",
    "#%timeit GetXml_byFootprint2(RePath_xmlDirectory, min_E, max_E, min_N, max_N)\n",
    "Selected_xml, LoopCount, count = GetXml_byFootprint(RePath_xmlDirectory,(min_E, max_E), (min_N, max_N), FromYear=TimeThres)"
   ]
  },
  {
   "cell_type": "code",
   "execution_count": 51,
   "metadata": {},
   "outputs": [
    {
     "name": "stdout",
     "output_type": "stream",
     "text": [
      "Number of xml files with common footprint:  445\n",
      "Number of xml within and without :  1287\n",
      "process check\n",
      "[417, 21, 6, 1]\n",
      "445\n"
     ]
    }
   ],
   "source": [
    "print('Number of xml files with common footprint: ',len(Selected_xml))\n",
    "print('Number of xml within and without : ', count)\n",
    "print('process check')\n",
    "print(LoopCount)\n",
    "print(np.sum(LoopCount))"
   ]
  },
  {
   "cell_type": "markdown",
   "metadata": {},
   "source": [
    "# Look for common footprints : explore ascii"
   ]
  },
  {
   "cell_type": "code",
   "execution_count": 52,
   "metadata": {},
   "outputs": [
    {
     "data": {
      "text/html": [
       "<div>\n",
       "<style>\n",
       "    .dataframe thead tr:only-child th {\n",
       "        text-align: right;\n",
       "    }\n",
       "\n",
       "    .dataframe thead th {\n",
       "        text-align: left;\n",
       "    }\n",
       "\n",
       "    .dataframe tbody tr th {\n",
       "        vertical-align: top;\n",
       "    }\n",
       "</style>\n",
       "<table border=\"1\" class=\"dataframe\">\n",
       "  <thead>\n",
       "    <tr style=\"text-align: right;\">\n",
       "      <th></th>\n",
       "      <th>Lat</th>\n",
       "      <th>Lon</th>\n",
       "      <th>Depth</th>\n",
       "    </tr>\n",
       "  </thead>\n",
       "  <tbody>\n",
       "    <tr>\n",
       "      <th>0</th>\n",
       "      <td>-22.017672</td>\n",
       "      <td>166.115787</td>\n",
       "      <td>7.8</td>\n",
       "    </tr>\n",
       "    <tr>\n",
       "      <th>1</th>\n",
       "      <td>-22.010676</td>\n",
       "      <td>166.121261</td>\n",
       "      <td>5.6</td>\n",
       "    </tr>\n",
       "    <tr>\n",
       "      <th>2</th>\n",
       "      <td>-22.026873</td>\n",
       "      <td>166.124463</td>\n",
       "      <td>4.0</td>\n",
       "    </tr>\n",
       "    <tr>\n",
       "      <th>3</th>\n",
       "      <td>-22.009554</td>\n",
       "      <td>166.120820</td>\n",
       "      <td>6.3</td>\n",
       "    </tr>\n",
       "    <tr>\n",
       "      <th>4</th>\n",
       "      <td>-22.015910</td>\n",
       "      <td>166.110746</td>\n",
       "      <td>10.8</td>\n",
       "    </tr>\n",
       "    <tr>\n",
       "      <th>5</th>\n",
       "      <td>-22.023428</td>\n",
       "      <td>166.131901</td>\n",
       "      <td>2.1</td>\n",
       "    </tr>\n",
       "    <tr>\n",
       "      <th>6</th>\n",
       "      <td>-22.010717</td>\n",
       "      <td>166.127082</td>\n",
       "      <td>3.1</td>\n",
       "    </tr>\n",
       "    <tr>\n",
       "      <th>7</th>\n",
       "      <td>-22.011582</td>\n",
       "      <td>166.122602</td>\n",
       "      <td>5.3</td>\n",
       "    </tr>\n",
       "    <tr>\n",
       "      <th>8</th>\n",
       "      <td>-21.998838</td>\n",
       "      <td>166.117660</td>\n",
       "      <td>6.0</td>\n",
       "    </tr>\n",
       "    <tr>\n",
       "      <th>9</th>\n",
       "      <td>-22.003404</td>\n",
       "      <td>166.114625</td>\n",
       "      <td>7.5</td>\n",
       "    </tr>\n",
       "    <tr>\n",
       "      <th>10</th>\n",
       "      <td>-22.025126</td>\n",
       "      <td>166.119973</td>\n",
       "      <td>4.8</td>\n",
       "    </tr>\n",
       "    <tr>\n",
       "      <th>11</th>\n",
       "      <td>-22.008715</td>\n",
       "      <td>166.112277</td>\n",
       "      <td>8.1</td>\n",
       "    </tr>\n",
       "    <tr>\n",
       "      <th>12</th>\n",
       "      <td>-22.015695</td>\n",
       "      <td>166.125940</td>\n",
       "      <td>2.0</td>\n",
       "    </tr>\n",
       "    <tr>\n",
       "      <th>13</th>\n",
       "      <td>-22.012622</td>\n",
       "      <td>166.123410</td>\n",
       "      <td>5.2</td>\n",
       "    </tr>\n",
       "    <tr>\n",
       "      <th>14</th>\n",
       "      <td>-22.017463</td>\n",
       "      <td>166.140577</td>\n",
       "      <td>0.9</td>\n",
       "    </tr>\n",
       "    <tr>\n",
       "      <th>15</th>\n",
       "      <td>-22.018092</td>\n",
       "      <td>166.116194</td>\n",
       "      <td>7.2</td>\n",
       "    </tr>\n",
       "    <tr>\n",
       "      <th>16</th>\n",
       "      <td>-22.014336</td>\n",
       "      <td>166.113650</td>\n",
       "      <td>9.5</td>\n",
       "    </tr>\n",
       "    <tr>\n",
       "      <th>17</th>\n",
       "      <td>-22.020834</td>\n",
       "      <td>166.141192</td>\n",
       "      <td>2.6</td>\n",
       "    </tr>\n",
       "    <tr>\n",
       "      <th>18</th>\n",
       "      <td>-22.027130</td>\n",
       "      <td>166.128563</td>\n",
       "      <td>3.5</td>\n",
       "    </tr>\n",
       "    <tr>\n",
       "      <th>19</th>\n",
       "      <td>-22.014731</td>\n",
       "      <td>166.130150</td>\n",
       "      <td>2.6</td>\n",
       "    </tr>\n",
       "    <tr>\n",
       "      <th>20</th>\n",
       "      <td>-22.017018</td>\n",
       "      <td>166.118278</td>\n",
       "      <td>6.8</td>\n",
       "    </tr>\n",
       "    <tr>\n",
       "      <th>21</th>\n",
       "      <td>-22.022177</td>\n",
       "      <td>166.115296</td>\n",
       "      <td>4.2</td>\n",
       "    </tr>\n",
       "    <tr>\n",
       "      <th>22</th>\n",
       "      <td>-22.020238</td>\n",
       "      <td>166.115353</td>\n",
       "      <td>7.5</td>\n",
       "    </tr>\n",
       "    <tr>\n",
       "      <th>23</th>\n",
       "      <td>-22.020879</td>\n",
       "      <td>166.127199</td>\n",
       "      <td>2.1</td>\n",
       "    </tr>\n",
       "    <tr>\n",
       "      <th>24</th>\n",
       "      <td>-22.012814</td>\n",
       "      <td>166.127026</td>\n",
       "      <td>3.8</td>\n",
       "    </tr>\n",
       "    <tr>\n",
       "      <th>25</th>\n",
       "      <td>-22.006133</td>\n",
       "      <td>166.115897</td>\n",
       "      <td>4.3</td>\n",
       "    </tr>\n",
       "    <tr>\n",
       "      <th>26</th>\n",
       "      <td>-22.020387</td>\n",
       "      <td>166.113458</td>\n",
       "      <td>2.0</td>\n",
       "    </tr>\n",
       "    <tr>\n",
       "      <th>27</th>\n",
       "      <td>-22.021457</td>\n",
       "      <td>166.117935</td>\n",
       "      <td>7.1</td>\n",
       "    </tr>\n",
       "    <tr>\n",
       "      <th>28</th>\n",
       "      <td>-22.006010</td>\n",
       "      <td>166.125464</td>\n",
       "      <td>1.0</td>\n",
       "    </tr>\n",
       "    <tr>\n",
       "      <th>29</th>\n",
       "      <td>-22.000913</td>\n",
       "      <td>166.123295</td>\n",
       "      <td>2.5</td>\n",
       "    </tr>\n",
       "    <tr>\n",
       "      <th>...</th>\n",
       "      <td>...</td>\n",
       "      <td>...</td>\n",
       "      <td>...</td>\n",
       "    </tr>\n",
       "    <tr>\n",
       "      <th>4899</th>\n",
       "      <td>-22.021424</td>\n",
       "      <td>166.133698</td>\n",
       "      <td>2.1</td>\n",
       "    </tr>\n",
       "    <tr>\n",
       "      <th>4900</th>\n",
       "      <td>-22.026682</td>\n",
       "      <td>166.133108</td>\n",
       "      <td>2.4</td>\n",
       "    </tr>\n",
       "    <tr>\n",
       "      <th>4901</th>\n",
       "      <td>-22.027561</td>\n",
       "      <td>166.129482</td>\n",
       "      <td>3.4</td>\n",
       "    </tr>\n",
       "    <tr>\n",
       "      <th>4902</th>\n",
       "      <td>-22.020713</td>\n",
       "      <td>166.136963</td>\n",
       "      <td>2.4</td>\n",
       "    </tr>\n",
       "    <tr>\n",
       "      <th>4903</th>\n",
       "      <td>-22.010336</td>\n",
       "      <td>166.122977</td>\n",
       "      <td>5.1</td>\n",
       "    </tr>\n",
       "    <tr>\n",
       "      <th>4904</th>\n",
       "      <td>-22.024831</td>\n",
       "      <td>166.138227</td>\n",
       "      <td>1.8</td>\n",
       "    </tr>\n",
       "    <tr>\n",
       "      <th>4905</th>\n",
       "      <td>-22.020925</td>\n",
       "      <td>166.130875</td>\n",
       "      <td>2.3</td>\n",
       "    </tr>\n",
       "    <tr>\n",
       "      <th>4906</th>\n",
       "      <td>-22.021218</td>\n",
       "      <td>166.138452</td>\n",
       "      <td>2.6</td>\n",
       "    </tr>\n",
       "    <tr>\n",
       "      <th>4907</th>\n",
       "      <td>-22.016386</td>\n",
       "      <td>166.131395</td>\n",
       "      <td>2.3</td>\n",
       "    </tr>\n",
       "    <tr>\n",
       "      <th>4908</th>\n",
       "      <td>-22.022976</td>\n",
       "      <td>166.136533</td>\n",
       "      <td>2.0</td>\n",
       "    </tr>\n",
       "    <tr>\n",
       "      <th>4909</th>\n",
       "      <td>-22.021715</td>\n",
       "      <td>166.118416</td>\n",
       "      <td>7.1</td>\n",
       "    </tr>\n",
       "    <tr>\n",
       "      <th>4910</th>\n",
       "      <td>-22.023858</td>\n",
       "      <td>166.118113</td>\n",
       "      <td>5.9</td>\n",
       "    </tr>\n",
       "    <tr>\n",
       "      <th>4911</th>\n",
       "      <td>-22.016504</td>\n",
       "      <td>166.130956</td>\n",
       "      <td>2.4</td>\n",
       "    </tr>\n",
       "    <tr>\n",
       "      <th>4912</th>\n",
       "      <td>-22.026619</td>\n",
       "      <td>166.120580</td>\n",
       "      <td>3.9</td>\n",
       "    </tr>\n",
       "    <tr>\n",
       "      <th>4913</th>\n",
       "      <td>-22.027855</td>\n",
       "      <td>166.125146</td>\n",
       "      <td>3.7</td>\n",
       "    </tr>\n",
       "    <tr>\n",
       "      <th>4914</th>\n",
       "      <td>-22.017402</td>\n",
       "      <td>166.132798</td>\n",
       "      <td>2.2</td>\n",
       "    </tr>\n",
       "    <tr>\n",
       "      <th>4915</th>\n",
       "      <td>-22.023755</td>\n",
       "      <td>166.133114</td>\n",
       "      <td>1.9</td>\n",
       "    </tr>\n",
       "    <tr>\n",
       "      <th>4916</th>\n",
       "      <td>-22.018372</td>\n",
       "      <td>166.138458</td>\n",
       "      <td>1.5</td>\n",
       "    </tr>\n",
       "    <tr>\n",
       "      <th>4917</th>\n",
       "      <td>-22.014275</td>\n",
       "      <td>166.115615</td>\n",
       "      <td>8.6</td>\n",
       "    </tr>\n",
       "    <tr>\n",
       "      <th>4918</th>\n",
       "      <td>-22.011432</td>\n",
       "      <td>166.113301</td>\n",
       "      <td>9.7</td>\n",
       "    </tr>\n",
       "    <tr>\n",
       "      <th>4919</th>\n",
       "      <td>-22.019051</td>\n",
       "      <td>166.115152</td>\n",
       "      <td>7.5</td>\n",
       "    </tr>\n",
       "    <tr>\n",
       "      <th>4920</th>\n",
       "      <td>-22.019414</td>\n",
       "      <td>166.130987</td>\n",
       "      <td>2.2</td>\n",
       "    </tr>\n",
       "    <tr>\n",
       "      <th>4921</th>\n",
       "      <td>-22.019755</td>\n",
       "      <td>166.115839</td>\n",
       "      <td>7.5</td>\n",
       "    </tr>\n",
       "    <tr>\n",
       "      <th>4922</th>\n",
       "      <td>-22.027560</td>\n",
       "      <td>166.132512</td>\n",
       "      <td>2.9</td>\n",
       "    </tr>\n",
       "    <tr>\n",
       "      <th>4923</th>\n",
       "      <td>-22.010112</td>\n",
       "      <td>166.116160</td>\n",
       "      <td>8.3</td>\n",
       "    </tr>\n",
       "    <tr>\n",
       "      <th>4924</th>\n",
       "      <td>-22.026883</td>\n",
       "      <td>166.123572</td>\n",
       "      <td>4.1</td>\n",
       "    </tr>\n",
       "    <tr>\n",
       "      <th>4925</th>\n",
       "      <td>-22.018646</td>\n",
       "      <td>166.140510</td>\n",
       "      <td>1.3</td>\n",
       "    </tr>\n",
       "    <tr>\n",
       "      <th>4926</th>\n",
       "      <td>-22.023982</td>\n",
       "      <td>166.120850</td>\n",
       "      <td>5.5</td>\n",
       "    </tr>\n",
       "    <tr>\n",
       "      <th>4927</th>\n",
       "      <td>-22.010202</td>\n",
       "      <td>166.123162</td>\n",
       "      <td>5.1</td>\n",
       "    </tr>\n",
       "    <tr>\n",
       "      <th>4928</th>\n",
       "      <td>-22.007813</td>\n",
       "      <td>166.121817</td>\n",
       "      <td>6.1</td>\n",
       "    </tr>\n",
       "  </tbody>\n",
       "</table>\n",
       "<p>4929 rows × 3 columns</p>\n",
       "</div>"
      ],
      "text/plain": [
       "            Lat         Lon  Depth\n",
       "0    -22.017672  166.115787    7.8\n",
       "1    -22.010676  166.121261    5.6\n",
       "2    -22.026873  166.124463    4.0\n",
       "3    -22.009554  166.120820    6.3\n",
       "4    -22.015910  166.110746   10.8\n",
       "5    -22.023428  166.131901    2.1\n",
       "6    -22.010717  166.127082    3.1\n",
       "7    -22.011582  166.122602    5.3\n",
       "8    -21.998838  166.117660    6.0\n",
       "9    -22.003404  166.114625    7.5\n",
       "10   -22.025126  166.119973    4.8\n",
       "11   -22.008715  166.112277    8.1\n",
       "12   -22.015695  166.125940    2.0\n",
       "13   -22.012622  166.123410    5.2\n",
       "14   -22.017463  166.140577    0.9\n",
       "15   -22.018092  166.116194    7.2\n",
       "16   -22.014336  166.113650    9.5\n",
       "17   -22.020834  166.141192    2.6\n",
       "18   -22.027130  166.128563    3.5\n",
       "19   -22.014731  166.130150    2.6\n",
       "20   -22.017018  166.118278    6.8\n",
       "21   -22.022177  166.115296    4.2\n",
       "22   -22.020238  166.115353    7.5\n",
       "23   -22.020879  166.127199    2.1\n",
       "24   -22.012814  166.127026    3.8\n",
       "25   -22.006133  166.115897    4.3\n",
       "26   -22.020387  166.113458    2.0\n",
       "27   -22.021457  166.117935    7.1\n",
       "28   -22.006010  166.125464    1.0\n",
       "29   -22.000913  166.123295    2.5\n",
       "...         ...         ...    ...\n",
       "4899 -22.021424  166.133698    2.1\n",
       "4900 -22.026682  166.133108    2.4\n",
       "4901 -22.027561  166.129482    3.4\n",
       "4902 -22.020713  166.136963    2.4\n",
       "4903 -22.010336  166.122977    5.1\n",
       "4904 -22.024831  166.138227    1.8\n",
       "4905 -22.020925  166.130875    2.3\n",
       "4906 -22.021218  166.138452    2.6\n",
       "4907 -22.016386  166.131395    2.3\n",
       "4908 -22.022976  166.136533    2.0\n",
       "4909 -22.021715  166.118416    7.1\n",
       "4910 -22.023858  166.118113    5.9\n",
       "4911 -22.016504  166.130956    2.4\n",
       "4912 -22.026619  166.120580    3.9\n",
       "4913 -22.027855  166.125146    3.7\n",
       "4914 -22.017402  166.132798    2.2\n",
       "4915 -22.023755  166.133114    1.9\n",
       "4916 -22.018372  166.138458    1.5\n",
       "4917 -22.014275  166.115615    8.6\n",
       "4918 -22.011432  166.113301    9.7\n",
       "4919 -22.019051  166.115152    7.5\n",
       "4920 -22.019414  166.130987    2.2\n",
       "4921 -22.019755  166.115839    7.5\n",
       "4922 -22.027560  166.132512    2.9\n",
       "4923 -22.010112  166.116160    8.3\n",
       "4924 -22.026883  166.123572    4.1\n",
       "4925 -22.018646  166.140510    1.3\n",
       "4926 -22.023982  166.120850    5.5\n",
       "4927 -22.010202  166.123162    5.1\n",
       "4928 -22.007813  166.121817    6.1\n",
       "\n",
       "[4929 rows x 3 columns]"
      ]
     },
     "execution_count": 52,
     "metadata": {},
     "output_type": "execute_result"
    },
    {
     "data": {
      "image/png": "[encoded data removed]",
      "text/plain": [
       "<matplotlib.figure.Figure at 0x1a7ca46d8>"
      ]
     },
     "metadata": {},
     "output_type": "display_data"
    }
   ],
   "source": [
    "DepthPt = pd.read_csv(RePath_xmlDirectory+'/'+Selected_xml[0][:-10]+'ascii', delim_whitespace=True, header=None, names=['Lat','Lon','Depth'])\n",
    "DepthPt_40m = DepthPt\n",
    "DepthPt_counts = DepthPt_40m['Depth'].value_counts()\n",
    "DepthPt_counts.plot(kind='bar')\n",
    "len(DepthPt_40m)\n",
    "DepthPt_40m"
   ]
  },
  {
   "cell_type": "markdown",
   "metadata": {},
   "source": [
    "# Look for common footprints : filters ascii by depth and footprint"
   ]
  },
  {
   "cell_type": "code",
   "execution_count": 53,
   "metadata": {},
   "outputs": [
    {
     "data": {
      "text/plain": [
       "18640225"
      ]
     },
     "execution_count": 53,
     "metadata": {},
     "output_type": "execute_result"
    }
   ],
   "source": [
    "Upto = 1e6\n",
    "Set , Count, failedXml = GetSurvey_byDepthFP(Selected_xml, RePath_xmlDirectory,(min_E, max_E), (min_N, max_N), max_Depth=Upto)\n",
    "assert np.sum(Count) == Set[1].shape[0]\n",
    "Set[1].shape[0]"
   ]
  },
  {
   "cell_type": "code",
   "execution_count": 54,
   "metadata": {
    "collapsed": true
   },
   "outputs": [],
   "source": [
    "recordSurvey('Releves.csv', Set)"
   ]
  },
  {
   "cell_type": "code",
   "execution_count": 17,
   "metadata": {},
   "outputs": [
    {
     "name": "stdout",
     "output_type": "stream",
     "text": [
      "no int\n"
     ]
    },
    {
     "data": {
      "text/plain": [
       "array([ 1421.35508749,  1152.88972983,  1380.58531821, ...,  6193.88884716,\n",
       "        6211.20832806,  6196.62834129])"
      ]
     },
     "execution_count": 17,
     "metadata": {},
     "output_type": "execute_result"
    }
   ],
   "source": [
    "ctInv = osr.CoordinateTransformation(srsLatLong, srs_ds)\n",
    "inv_geometrix = gdal.InvGeoTransform(GT_ds)\n",
    "\n",
    "px, py = GetPixel(ctInv, inv_geometrix, Set[1], integer=False)\n",
    "px"
   ]
  },
  {
   "cell_type": "code",
   "execution_count": 18,
   "metadata": {
    "collapsed": true
   },
   "outputs": [],
   "source": [
    "index = np.logical_or(np.logical_or(px>10979,px<0), np.logical_or(py>10979,py<0))\n",
    "px, py = px[~index], py[~index]\n",
    "depth=Set[2][~index]"
   ]
  },
  {
   "cell_type": "code",
   "execution_count": 45,
   "metadata": {},
   "outputs": [
    {
     "ename": "OverflowError",
     "evalue": "Too many data points to interpolate",
     "output_type": "error",
     "traceback": [
      "\u001b[1;31m---------------------------------------------------------------------------\u001b[0m",
      "\u001b[1;31mOverflowError\u001b[0m                             Traceback (most recent call last)",
      "\u001b[1;32m<ipython-input-45-99142523cc13>\u001b[0m in \u001b[0;36m<module>\u001b[1;34m()\u001b[0m\n\u001b[0;32m      2\u001b[0m \u001b[0mind\u001b[0m \u001b[1;33m=\u001b[0m \u001b[0mnp\u001b[0m\u001b[1;33m.\u001b[0m\u001b[0margsort\u001b[0m\u001b[1;33m(\u001b[0m\u001b[0mpx\u001b[0m\u001b[1;33m)\u001b[0m\u001b[1;33m\u001b[0m\u001b[0m\n\u001b[0;32m      3\u001b[0m \u001b[0mind\u001b[0m\u001b[1;33m[\u001b[0m\u001b[1;33m:\u001b[0m\u001b[1;33m-\u001b[0m\u001b[1;36m1\u001b[0m\u001b[1;33m]\u001b[0m\u001b[1;33m[\u001b[0m\u001b[1;33m(\u001b[0m\u001b[0mpx\u001b[0m\u001b[1;33m[\u001b[0m\u001b[0mind\u001b[0m\u001b[1;33m]\u001b[0m\u001b[1;33m[\u001b[0m\u001b[1;36m1\u001b[0m\u001b[1;33m:\u001b[0m\u001b[1;33m]\u001b[0m \u001b[1;33m-\u001b[0m \u001b[0mpx\u001b[0m\u001b[1;33m[\u001b[0m\u001b[0mind\u001b[0m\u001b[1;33m]\u001b[0m\u001b[1;33m[\u001b[0m\u001b[1;33m:\u001b[0m\u001b[1;33m-\u001b[0m\u001b[1;36m1\u001b[0m\u001b[1;33m]\u001b[0m\u001b[1;33m)\u001b[0m\u001b[1;33m==\u001b[0m\u001b[1;36m0\u001b[0m\u001b[1;33m]\u001b[0m \u001b[1;33m=\u001b[0m \u001b[1;32mFalse\u001b[0m\u001b[1;33m\u001b[0m\u001b[0m\n\u001b[1;32m----> 4\u001b[1;33m \u001b[0mf\u001b[0m \u001b[1;33m=\u001b[0m \u001b[0minterpolate\u001b[0m\u001b[1;33m.\u001b[0m\u001b[0minterp2d\u001b[0m\u001b[1;33m(\u001b[0m\u001b[0mpx\u001b[0m\u001b[1;33m[\u001b[0m\u001b[0mind\u001b[0m\u001b[1;33m]\u001b[0m\u001b[1;33m,\u001b[0m\u001b[0mpy\u001b[0m\u001b[1;33m[\u001b[0m\u001b[0mind\u001b[0m\u001b[1;33m]\u001b[0m\u001b[1;33m,\u001b[0m \u001b[0mdepth\u001b[0m\u001b[1;33m[\u001b[0m\u001b[0mind\u001b[0m\u001b[1;33m]\u001b[0m\u001b[1;33m,\u001b[0m \u001b[0mcopy\u001b[0m\u001b[1;33m=\u001b[0m\u001b[1;32mFalse\u001b[0m\u001b[1;33m)\u001b[0m\u001b[1;33m\u001b[0m\u001b[0m\n\u001b[0m",
      "\u001b[1;32mC:\\ProgramData\\Anaconda3\\lib\\site-packages\\scipy\\interpolate\\interpolate.py\u001b[0m in \u001b[0;36m__init__\u001b[1;34m(self, x, y, z, kind, copy, bounds_error, fill_value)\u001b[0m\n\u001b[0;32m    219\u001b[0m         \u001b[1;32mif\u001b[0m \u001b[1;32mnot\u001b[0m \u001b[0mrectangular_grid\u001b[0m\u001b[1;33m:\u001b[0m\u001b[1;33m\u001b[0m\u001b[0m\n\u001b[0;32m    220\u001b[0m             \u001b[1;31m# TODO: surfit is really not meant for interpolation!\u001b[0m\u001b[1;33m\u001b[0m\u001b[1;33m\u001b[0m\u001b[0m\n\u001b[1;32m--> 221\u001b[1;33m             \u001b[0mself\u001b[0m\u001b[1;33m.\u001b[0m\u001b[0mtck\u001b[0m \u001b[1;33m=\u001b[0m \u001b[0mfitpack\u001b[0m\u001b[1;33m.\u001b[0m\u001b[0mbisplrep\u001b[0m\u001b[1;33m(\u001b[0m\u001b[0mx\u001b[0m\u001b[1;33m,\u001b[0m \u001b[0my\u001b[0m\u001b[1;33m,\u001b[0m \u001b[0mz\u001b[0m\u001b[1;33m,\u001b[0m \u001b[0mkx\u001b[0m\u001b[1;33m=\u001b[0m\u001b[0mkx\u001b[0m\u001b[1;33m,\u001b[0m \u001b[0mky\u001b[0m\u001b[1;33m=\u001b[0m\u001b[0mky\u001b[0m\u001b[1;33m,\u001b[0m \u001b[0ms\u001b[0m\u001b[1;33m=\u001b[0m\u001b[1;36m0.0\u001b[0m\u001b[1;33m)\u001b[0m\u001b[1;33m\u001b[0m\u001b[0m\n\u001b[0m\u001b[0;32m    222\u001b[0m         \u001b[1;32melse\u001b[0m\u001b[1;33m:\u001b[0m\u001b[1;33m\u001b[0m\u001b[0m\n\u001b[0;32m    223\u001b[0m             nx, tx, ny, ty, c, fp, ier = dfitpack.regrid_smth(\n",
      "\u001b[1;32mC:\\ProgramData\\Anaconda3\\lib\\site-packages\\scipy\\interpolate\\_fitpack_impl.py\u001b[0m in \u001b[0;36mbisplrep\u001b[1;34m(x, y, z, w, xb, xe, yb, ye, kx, ky, task, s, eps, tx, ty, full_output, nxest, nyest, quiet)\u001b[0m\n\u001b[0;32m    952\u001b[0m     lwrk1 = _intc_overflow(u*v*(2 + b1 + b2) +\n\u001b[0;32m    953\u001b[0m                            \u001b[1;36m2\u001b[0m\u001b[1;33m*\u001b[0m\u001b[1;33m(\u001b[0m\u001b[0mu\u001b[0m \u001b[1;33m+\u001b[0m \u001b[0mv\u001b[0m \u001b[1;33m+\u001b[0m \u001b[0mkm\u001b[0m\u001b[1;33m*\u001b[0m\u001b[1;33m(\u001b[0m\u001b[0mm\u001b[0m \u001b[1;33m+\u001b[0m \u001b[0mne\u001b[0m\u001b[1;33m)\u001b[0m \u001b[1;33m+\u001b[0m \u001b[0mne\u001b[0m \u001b[1;33m-\u001b[0m \u001b[0mkx\u001b[0m \u001b[1;33m-\u001b[0m \u001b[0mky\u001b[0m\u001b[1;33m)\u001b[0m \u001b[1;33m+\u001b[0m \u001b[0mb2\u001b[0m \u001b[1;33m+\u001b[0m \u001b[1;36m1\u001b[0m\u001b[1;33m,\u001b[0m\u001b[1;33m\u001b[0m\u001b[0m\n\u001b[1;32m--> 954\u001b[1;33m                            msg=msg)\n\u001b[0m\u001b[0;32m    955\u001b[0m     \u001b[0mlwrk2\u001b[0m \u001b[1;33m=\u001b[0m \u001b[0m_intc_overflow\u001b[0m\u001b[1;33m(\u001b[0m\u001b[0mu\u001b[0m\u001b[1;33m*\u001b[0m\u001b[0mv\u001b[0m\u001b[1;33m*\u001b[0m\u001b[1;33m(\u001b[0m\u001b[0mb2\u001b[0m \u001b[1;33m+\u001b[0m \u001b[1;36m1\u001b[0m\u001b[1;33m)\u001b[0m \u001b[1;33m+\u001b[0m \u001b[0mb2\u001b[0m\u001b[1;33m,\u001b[0m \u001b[0mmsg\u001b[0m\u001b[1;33m=\u001b[0m\u001b[0mmsg\u001b[0m\u001b[1;33m)\u001b[0m\u001b[1;33m\u001b[0m\u001b[0m\n\u001b[0;32m    956\u001b[0m     tx, ty, c, o = _fitpack._surfit(x, y, z, w, xb, xe, yb, ye, kx, ky,\n",
      "\u001b[1;32mC:\\ProgramData\\Anaconda3\\lib\\site-packages\\scipy\\interpolate\\_fitpack_impl.py\u001b[0m in \u001b[0;36m_intc_overflow\u001b[1;34m(x, msg)\u001b[0m\n\u001b[0;32m     46\u001b[0m         \u001b[1;32mif\u001b[0m \u001b[0mmsg\u001b[0m \u001b[1;32mis\u001b[0m \u001b[1;32mNone\u001b[0m\u001b[1;33m:\u001b[0m\u001b[1;33m\u001b[0m\u001b[0m\n\u001b[0;32m     47\u001b[0m             \u001b[0mmsg\u001b[0m \u001b[1;33m=\u001b[0m \u001b[1;34m'%r cannot fit into an intc'\u001b[0m \u001b[1;33m%\u001b[0m \u001b[0mx\u001b[0m\u001b[1;33m\u001b[0m\u001b[0m\n\u001b[1;32m---> 48\u001b[1;33m         \u001b[1;32mraise\u001b[0m \u001b[0mOverflowError\u001b[0m\u001b[1;33m(\u001b[0m\u001b[0mmsg\u001b[0m\u001b[1;33m)\u001b[0m\u001b[1;33m\u001b[0m\u001b[0m\n\u001b[0m\u001b[0;32m     49\u001b[0m     \u001b[1;32mreturn\u001b[0m \u001b[0mintc\u001b[0m\u001b[1;33m(\u001b[0m\u001b[0mx\u001b[0m\u001b[1;33m)\u001b[0m\u001b[1;33m\u001b[0m\u001b[0m\n\u001b[0;32m     50\u001b[0m \u001b[1;33m\u001b[0m\u001b[0m\n",
      "\u001b[1;31mOverflowError\u001b[0m: Too many data points to interpolate"
     ]
    }
   ],
   "source": [
    "from scipy import interpolate\n",
    "ind = np.argsort(px)\n",
    "ind[:-1][(px[ind][1:] - px[ind][:-1])==0] = False\n",
    "f = interpolate.interp2d(px[ind],py[ind], depth[ind], copy=False)"
   ]
  },
  {
   "cell_type": "code",
   "execution_count": 43,
   "metadata": {},
   "outputs": [
    {
     "data": {
      "text/plain": [
       "0"
      ]
     },
     "execution_count": 43,
     "metadata": {},
     "output_type": "execute_result"
    }
   ],
   "source": [
    "np.sum((px[ind][1:] - px[ind][:-1]) == 0)"
   ]
  },
  {
   "cell_type": "code",
   "execution_count": 38,
   "metadata": {},
   "outputs": [
    {
     "data": {
      "text/plain": [
       "array([0, 1, 2, 3, 4, 5, 6, 7])"
      ]
     },
     "execution_count": 38,
     "metadata": {},
     "output_type": "execute_result"
    }
   ],
   "source": [
    "a = np.arange(9)\n",
    "a[:-1]"
   ]
  },
  {
   "cell_type": "code",
   "execution_count": null,
   "metadata": {
    "collapsed": true
   },
   "outputs": [],
   "source": [
    "AverageDepth = np.zeros((RasterHeight, RasterWidth))\n",
    "SurveyIndex = np.full((RasterHeight, RasterWidth), False, np.bool_)\n",
    "for i in range(len(px)):\n",
    "    try:\n",
    "        int_py, int_px = int(py[i]),int(px[i])\n",
    "        if H[int_px, int_py] == 0:\n",
    "            continue\n",
    "        SurveyIndex[int_px, int_py] = True\n",
    "        AverageDepth[int_px, int_py] = AverageDepth[int_px, int_py] + (depth[i]/H[int_px, int_py])\n",
    "    except:\n",
    "        print(i)\n"
   ]
  },
  {
   "cell_type": "code",
   "execution_count": null,
   "metadata": {
    "collapsed": true
   },
   "outputs": [],
   "source": [
    "write_raster2('DensityMap.tiff', H, src_ds.GetGeoTransform(), src_ds.GetProjection(), DriverName=\"GTiff\", formatMem=gdal.GDT_UInt16)\n",
    "write_raster2('AverageBathy.tiff', AverageDepth, src_ds.GetGeoTransform(), src_ds.GetProjection(), DriverName=\"GTiff\", formatMem=gdal.GDT_Float32)"
   ]
  },
  {
   "cell_type": "code",
   "execution_count": null,
   "metadata": {
    "collapsed": true
   },
   "outputs": [],
   "source": [
    "STD_Map = np.full((RasterHeight, RasterWidth), -1, np.float16)\n",
    "for x in range(RasterHeight):\n",
    "    for y in range(RasterWidth):\n",
    "        if SurveyIndex[x,y]:\n",
    "            ind = np.logical_and(np.logical_and(px>x,px<x+1), np.logical_and(py>y,py<y+1))\n",
    "            STD_Map[x,y] = np.std(depth[ind]) "
   ]
  },
  {
   "cell_type": "code",
   "execution_count": null,
   "metadata": {
    "collapsed": true
   },
   "outputs": [],
   "source": [
    "write_raster2('STD_Map.tiff', STD_Map, src_ds.GetGeoTransform(), src_ds.GetProjection(), DriverName=\"GTiff\", formatMem=gdal.GDT_Float32)"
   ]
  },
  {
   "cell_type": "code",
   "execution_count": null,
   "metadata": {
    "collapsed": true
   },
   "outputs": [],
   "source": []
  }
 ],
 "metadata": {
  "kernelspec": {
   "display_name": "Python 3",
   "language": "python",
   "name": "python3"
  },
  "language_info": {
   "codemirror_mode": {
    "name": "ipython",
    "version": 3
   },
   "file_extension": ".py",
   "mimetype": "text/x-python",
   "name": "python",
   "nbconvert_exporter": "python",
   "pygments_lexer": "ipython3",
   "version": "3.6.1"
  }
 },
 "nbformat": 4,
 "nbformat_minor": 2
}
