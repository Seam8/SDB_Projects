{
 "cells": [
  {
   "cell_type": "code",
   "execution_count": 4,
   "metadata": {
    "collapsed": true
   },
   "outputs": [],
   "source": [
    "import sys\n",
    "import os\n",
    "sys.path.append(\"../../..\")\n",
    "\n",
    "from numpy import mean as npmean"
   ]
  },
  {
   "cell_type": "code",
   "execution_count": 7,
   "metadata": {
    "collapsed": true
   },
   "outputs": [],
   "source": [
    "FolderPath = '../../Terrain/MesuresBathy/'\n",
    "FileName = ['CLEAN_0000_1111_0001.RAW', 'CLEAN_0000_1326_0001.RAW', 'CLEAN_0000_1300.RAW']\n",
    "FilePathSur = FolderPath + FileName[0]\n",
    "\n",
    "assert os.path.exists(FilePathSur)\n",
    "\n",
    "def FormatTime(Time):\n",
    "    return Time[0:2]+':'+Time[2:4]+':'+ \"{0:.2f}\".format(float(Time[4:]))\n",
    "def GetDecimalLat(StrDecim):\n",
    "    return \"{0:.14f}\".format(float(StrDecim[:2]) + float(StrDecim[2:])/60.0)\n",
    "def GetDecimalLon(StrDecim):\n",
    "    return \"{0:.14f}\".format(float(StrDecim[:3]) + float(StrDecim[3:])/60.0)\n",
    "offset = 0.4"
   ]
  },
  {
   "cell_type": "code",
   "execution_count": 8,
   "metadata": {},
   "outputs": [
    {
     "name": "stdout",
     "output_type": "stream",
     "text": [
      "end of file reached\n"
     ]
    }
   ],
   "source": [
    "Depths = []\n",
    "counter = 1\n",
    "with open(FilePathSur, \"r\") as Fichier_Hypack:\n",
    "    lines = Fichier_Hypack.readlines()\n",
    "    for lineNumber, line in enumerate(lines):\n",
    "        if line.split(' ')[0] == 'TND':\n",
    "            FileWorkableSur = '../../Terrain/MesuresBathy/Poe_'+line.split(' ')[1].replace(':', '_') +'__'+ line.split(' ')[2].replace('/','_')+'.txt'\n",
    "            Fichier_Travaillable = open(FileWorkableSur, \"w\")\n",
    "            Fichier_Travaillable.write('Time, Lon, Lat, Depth\\n')\n",
    "        if line.split(' ')[0] == 'MSG':\n",
    "            GPGGA = line.split(' ')[3].split(',')\n",
    "            Time = GPGGA[1]\n",
    "            Lon = GetDecimalLon(GPGGA[4])\n",
    "            Lat = '-' + GetDecimalLat(GPGGA[2])\n",
    "            Depths = []\n",
    "            counter = 1\n",
    "            try:\n",
    "                while lines[lineNumber + counter].split(' ')[0] == 'EC2':\n",
    "                    Depths.append(float(lines[lineNumber + counter].split(' ')[3]))\n",
    "                    counter = counter + 1\n",
    "            except:\n",
    "                print('end of file reached')\n",
    "            if not Depths:\n",
    "                continue\n",
    "            Depth = npmean(Depths) + offset\n",
    "            entree = FormatTime(Time) + ',' + Lon + ',' + Lat + ',' + \"{0:.2f}\".format(Depth) + '\\n' \n",
    "            Fichier_Travaillable.write(entree)\n",
    "              \n",
    "Fichier_Travaillable.close()"
   ]
  },
  {
   "cell_type": "code",
   "execution_count": null,
   "metadata": {
    "collapsed": true
   },
   "outputs": [],
   "source": []
  }
 ],
 "metadata": {
  "kernelspec": {
   "display_name": "Python 3",
   "language": "python",
   "name": "python3"
  },
  "language_info": {
   "codemirror_mode": {
    "name": "ipython",
    "version": 3
   },
   "file_extension": ".py",
   "mimetype": "text/x-python",
   "name": "python",
   "nbconvert_exporter": "python",
   "pygments_lexer": "ipython3",
   "version": "3.6.1"
  }
 },
 "nbformat": 4,
 "nbformat_minor": 2
}
